{
 "cells": [
  {
   "cell_type": "markdown",
   "metadata": {},
   "source": [
    "# Object oriented programing"
   ]
  },
  {
   "cell_type": "markdown",
   "metadata": {},
   "source": [
    "### 1. Creación de una bicicleta MUTABLE, con cadencia, marcha y velocidad. Los campos van definidos en el bloque, utilizando los argumentos del constructor."
   ]
  },
  {
   "cell_type": "code",
   "execution_count": 7,
   "metadata": {},
   "outputs": [
    {
     "data": {
      "text/plain": [
       "defined \u001b[32mclass\u001b[39m \u001b[36mBicicleta\u001b[39m"
      ]
     },
     "execution_count": 7,
     "metadata": {},
     "output_type": "execute_result"
    }
   ],
   "source": [
    "class Bicicleta(_cadencia: Int, _velocidad: Int, _marcha: Int) {\n",
    "    var cadencia: Int = _cadencia\n",
    "    var velocidad: Int = _velocidad\n",
    "    var marcha: Int = _marcha\n",
    "  }"
   ]
  },
  {
   "cell_type": "code",
   "execution_count": null,
   "metadata": {},
   "outputs": [],
   "source": []
  },
  {
   "cell_type": "markdown",
   "metadata": {},
   "source": [
    "#### 2. Versión INMUTABLE de la bicicleta anterior. Utilizamos `val` (valor) en lugar de `var` (variable). Scala fomenta la inmutabilidad, por lo que el uso de `var`s está desaconsejado. Como consecuencia, desaparecen los setters."
   ]
  },
  {
   "cell_type": "code",
   "execution_count": 8,
   "metadata": {},
   "outputs": [
    {
     "data": {
      "text/plain": [
       "defined \u001b[32mclass\u001b[39m \u001b[36mBicicleta\u001b[39m"
      ]
     },
     "execution_count": 8,
     "metadata": {},
     "output_type": "execute_result"
    }
   ],
   "source": [
    "class Bicicleta(_cadencia: Int, _velocidad: Int, _marcha: Int) {\n",
    "    val cadencia: Int = _cadencia\n",
    "    val velocidad: Int = _velocidad\n",
    "    val marcha: Int = _marcha\n",
    "  }"
   ]
  },
  {
   "cell_type": "code",
   "execution_count": null,
   "metadata": {},
   "outputs": [],
   "source": []
  },
  {
   "cell_type": "markdown",
   "metadata": {},
   "source": [
    "#### 3. Los constructores y los campos se pueden unificar. Si algún argumento prescinde del modificador `val` no se creará un campo para él en la clase. En tal caso, será considerado como un argumento de entrada del constructor sin más."
   ]
  },
  {
   "cell_type": "code",
   "execution_count": 9,
   "metadata": {},
   "outputs": [
    {
     "data": {
      "text/plain": [
       "defined \u001b[32mclass\u001b[39m \u001b[36mBicicleta\u001b[39m"
      ]
     },
     "execution_count": 9,
     "metadata": {},
     "output_type": "execute_result"
    }
   ],
   "source": [
    "class Bicicleta(val cadencia: Int, val velocidad: Int, val marcha: Int)"
   ]
  },
  {
   "cell_type": "markdown",
   "metadata": {},
   "source": [
    "#### 4. Podemos declarar constructores adicionales mediante `def this`:"
   ]
  },
  {
   "cell_type": "code",
   "execution_count": 10,
   "metadata": {},
   "outputs": [
    {
     "data": {
      "text/plain": [
       "defined \u001b[32mclass\u001b[39m \u001b[36mBicicleta\u001b[39m"
      ]
     },
     "execution_count": 10,
     "metadata": {},
     "output_type": "execute_result"
    }
   ],
   "source": [
    "class Bicicleta(val cadencia: Int, val velocidad: Int, val marcha: Int) {\n",
    "    def this(cadencia: Int, velocidad: Int) =\n",
    "      this(cadencia, velocidad, 100)\n",
    "  }"
   ]
  },
  {
   "cell_type": "code",
   "execution_count": null,
   "metadata": {},
   "outputs": [],
   "source": []
  },
  {
   "cell_type": "markdown",
   "metadata": {},
   "source": [
    "#### 5. Los métodos se añaden utilizando `def`. Podemos, por ejemplo, permitir que nuestra bicicleta pueda frenar la velocidad dado un decremento."
   ]
  },
  {
   "cell_type": "code",
   "execution_count": 16,
   "metadata": {},
   "outputs": [
    {
     "data": {
      "text/plain": [
       "defined \u001b[32mclass\u001b[39m \u001b[36mBicicleta\u001b[39m"
      ]
     },
     "execution_count": 16,
     "metadata": {},
     "output_type": "execute_result"
    }
   ],
   "source": [
    "case class Bicicleta(val cadencia: Int, val velocidad: Int, val marcha: Int) {\n",
    "    def this(cadencia: Int, velocidad: Int) =\n",
    "      this(cadencia, velocidad, 100)\n",
    "\n",
    "    def frenar(decremento: Int): Bicicleta =\n",
    "      new Bicicleta(cadencia, velocidad-decremento, marcha)\n",
    "  }"
   ]
  },
  {
   "cell_type": "code",
   "execution_count": null,
   "metadata": {},
   "outputs": [],
   "source": []
  },
  {
   "cell_type": "markdown",
   "metadata": {},
   "source": [
    "#### 6. Es posible tener clases con una única instancia, lo que se conoce como Singleton Objects. Este componente nos permite reemplazar los miembros de clase propios de Java. Crearemos una `FabricaDeBicicletas` con valores iniciales y un método de creación de bicicletas `crear`."
   ]
  },
  {
   "cell_type": "code",
   "execution_count": 17,
   "metadata": {},
   "outputs": [
    {
     "data": {
      "text/plain": [
       "defined \u001b[32mobject\u001b[39m \u001b[36mFactoriaDeBicicletas\u001b[39m"
      ]
     },
     "execution_count": 17,
     "metadata": {},
     "output_type": "execute_result"
    }
   ],
   "source": [
    "object FactoriaDeBicicletas {\n",
    "    val velocidadPorDefecto: Int = 25\n",
    "\n",
    "    def crear(cadencia: Int): Bicicleta =\n",
    "      new Bicicleta(cadencia, velocidadPorDefecto, 200)\n",
    "  }"
   ]
  },
  {
   "cell_type": "code",
   "execution_count": null,
   "metadata": {},
   "outputs": [],
   "source": []
  },
  {
   "cell_type": "markdown",
   "metadata": {},
   "source": [
    "#### 7. Los Companion Objects son singleton objects (o simplemente objects) que acompañan a un tipo de datos, por ejemplo a la clase bicicleta."
   ]
  },
  {
   "cell_type": "code",
   "execution_count": 13,
   "metadata": {},
   "outputs": [
    {
     "data": {
      "text/plain": [
       "defined \u001b[32mobject\u001b[39m \u001b[36mBicicleta\u001b[39m"
      ]
     },
     "execution_count": 13,
     "metadata": {},
     "output_type": "execute_result"
    }
   ],
   "source": [
    "object Bicicleta {\n",
    "    def crear(cadencia: Int): Bicicleta =\n",
    "      new Bicicleta(cadencia, 100, 200)\n",
    "  }"
   ]
  },
  {
   "cell_type": "code",
   "execution_count": null,
   "metadata": {},
   "outputs": [],
   "source": []
  },
  {
   "cell_type": "markdown",
   "metadata": {},
   "source": [
    "#### 8. Podemos aplicar herencia básica entre clases de forma muy sencilla. Declararemos una bicicleta de montaña que hereda de nuestra bicicleta, añadiendo un nuevo campo `alturaSillin`."
   ]
  },
  {
   "cell_type": "code",
   "execution_count": 15,
   "metadata": {},
   "outputs": [
    {
     "data": {
      "text/plain": [
       "defined \u001b[32mclass\u001b[39m \u001b[36mBicicletaDeMontaña\u001b[39m"
      ]
     },
     "execution_count": 15,
     "metadata": {},
     "output_type": "execute_result"
    }
   ],
   "source": [
    "class BicicletaDeMontaña(\n",
    "    val alturaSillin: Int,\n",
    "    cadencia: Int,\n",
    "    velocidad: Int,\n",
    "    marcha: Int) extends Bicicleta(cadencia, velocidad, marcha)"
   ]
  },
  {
   "cell_type": "code",
   "execution_count": null,
   "metadata": {},
   "outputs": [],
   "source": []
  },
  {
   "cell_type": "markdown",
   "metadata": {},
   "source": [
    "#### 9. Si una clase tiene algún miembro no definido tendrá que permanecer abstracta. Se declara una bicicleta de carretera que no implementa una altura para el sillín."
   ]
  },
  {
   "cell_type": "code",
   "execution_count": 18,
   "metadata": {},
   "outputs": [
    {
     "data": {
      "text/plain": [
       "defined \u001b[32mclass\u001b[39m \u001b[36mBicicletaDeMontaña\u001b[39m"
      ]
     },
     "execution_count": 18,
     "metadata": {},
     "output_type": "execute_result"
    }
   ],
   "source": [
    "abstract class BicicletaDeMontaña(\n",
    "      cadencia: Int,\n",
    "      velocidad: Int,\n",
    "      marcha: Int) extends Bicicleta(cadencia, velocidad, marcha) {\n",
    "    val alturaSillin: Int\n",
    "  }"
   ]
  },
  {
   "cell_type": "code",
   "execution_count": null,
   "metadata": {},
   "outputs": [],
   "source": []
  },
  {
   "cell_type": "markdown",
   "metadata": {},
   "source": [
    "#### 10. Los traits son interfaces que permiten implementación parcial, con lo que se permite la herencia múltiple. Por ejemplo definiremos un motor con una cilindrada fija que también añade un campo revoluciones."
   ]
  },
  {
   "cell_type": "code",
   "execution_count": 19,
   "metadata": {},
   "outputs": [
    {
     "data": {
      "text/plain": [
       "defined \u001b[32mtrait\u001b[39m \u001b[36mMotor\u001b[39m"
      ]
     },
     "execution_count": 19,
     "metadata": {},
     "output_type": "execute_result"
    }
   ],
   "source": [
    "trait Motor {\n",
    "    val cilindrada: Int\n",
    "    val revoluciones: Int = 5000\n",
    "  }"
   ]
  },
  {
   "cell_type": "code",
   "execution_count": null,
   "metadata": {},
   "outputs": [],
   "source": []
  },
  {
   "cell_type": "markdown",
   "metadata": {},
   "source": [
    "11. De esta forma podemos definir nuestra bicicleta con motor, extendiendo la clase Bicicleta y el trait Motor."
   ]
  },
  {
   "cell_type": "code",
   "execution_count": 20,
   "metadata": {},
   "outputs": [
    {
     "data": {
      "text/plain": [
       "defined \u001b[32mclass\u001b[39m \u001b[36mMotocicleta\u001b[39m"
      ]
     },
     "execution_count": 20,
     "metadata": {},
     "output_type": "execute_result"
    }
   ],
   "source": [
    "class Motocicleta(\n",
    "    cadencia: Int,\n",
    "    velocidad: Int,\n",
    "    marcha: Int,\n",
    "    override val cilindrada: Int) extends Bicicleta(cadencia, velocidad, marcha) with Motor"
   ]
  },
  {
   "cell_type": "code",
   "execution_count": null,
   "metadata": {},
   "outputs": [],
   "source": []
  },
  {
   "cell_type": "markdown",
   "metadata": {},
   "source": []
  },
  {
   "cell_type": "code",
   "execution_count": null,
   "metadata": {},
   "outputs": [],
   "source": []
  }
 ],
 "metadata": {
  "kernelspec": {
   "display_name": "Scala",
   "language": "scala",
   "name": "scala"
  },
  "language_info": {
   "codemirror_mode": "text/x-scala",
   "file_extension": ".scala",
   "mimetype": "text/x-scala",
   "name": "scala",
   "nbconvert_exporter": "script",
   "version": "2.12.8"
  }
 },
 "nbformat": 4,
 "nbformat_minor": 2
}

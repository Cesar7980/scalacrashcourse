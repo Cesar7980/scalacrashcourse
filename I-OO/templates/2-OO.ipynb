{
 "cells": [
  {
   "cell_type": "markdown",
   "metadata": {},
   "source": [
    "# Object oriented programing"
   ]
  },
  {
   "cell_type": "markdown",
   "metadata": {},
   "source": [
    "1. Creación de una bicicleta MUTABLE, con cadencia, marcha y velocidad. Los campos van definidos en el bloque, utilizando los argumentos del constructor."
   ]
  },
  {
   "cell_type": "code",
   "execution_count": null,
   "metadata": {},
   "outputs": [],
   "source": []
  },
  {
   "cell_type": "markdown",
   "metadata": {},
   "source": [
    "2. Versión INMUTABLE de la bicicleta anterior. Utilizamos `val` (valor) en lugar de `var` (variable). Scala fomenta la inmutabilidad, por lo que el uso de `var`s está desaconsejado. Como consecuencia, desaparecen los setters."
   ]
  },
  {
   "cell_type": "code",
   "execution_count": null,
   "metadata": {},
   "outputs": [],
   "source": []
  },
  {
   "cell_type": "markdown",
   "metadata": {},
   "source": [
    "3. Los constructores y los campos se pueden unificar. Si algún argumento prescinde del modificador `val` no se creará un campo para él en la clase. En tal caso, será considerado como un argumento de entrada del constructor sin más."
   ]
  },
  {
   "cell_type": "code",
   "execution_count": null,
   "metadata": {},
   "outputs": [],
   "source": []
  },
  {
   "cell_type": "markdown",
   "metadata": {},
   "source": [
    "4. Podemos declarar constructores adicionales mediante `def this`:"
   ]
  },
  {
   "cell_type": "code",
   "execution_count": null,
   "metadata": {},
   "outputs": [],
   "source": []
  },
  {
   "cell_type": "markdown",
   "metadata": {},
   "source": [
    "5. Los métodos se añaden utilizando `def`. Podemos, por ejemplo, permitir que nuestra bicicleta pueda frenar la velocidad dado un decremento."
   ]
  },
  {
   "cell_type": "code",
   "execution_count": null,
   "metadata": {},
   "outputs": [],
   "source": []
  },
  {
   "cell_type": "markdown",
   "metadata": {},
   "source": [
    "6. Es posible tener clases con una única instancia, lo que se conoce como Singleton Objects. Este componente nos permite reemplazar los miembros de clase propios de Java. Crearemos una `FabricaDeBicicletas` con valores iniciales y un método de creación de bicicletas `crear`."
   ]
  },
  {
   "cell_type": "code",
   "execution_count": null,
   "metadata": {},
   "outputs": [],
   "source": []
  },
  {
   "cell_type": "markdown",
   "metadata": {},
   "source": [
    "7. Los Companion Objects son singleton objects (o simplemente objects) que acompañan a un tipo de datos, por ejemplo a la clase bicicleta."
   ]
  },
  {
   "cell_type": "code",
   "execution_count": null,
   "metadata": {},
   "outputs": [],
   "source": []
  },
  {
   "cell_type": "markdown",
   "metadata": {},
   "source": [
    "8. Podemos aplicar herencia básica entre clases de forma muy sencilla. Declararemos una bicicleta de montaña que hereda de nuestra bicicleta, añadiendo un nuevo campo `alturaSillin`."
   ]
  },
  {
   "cell_type": "code",
   "execution_count": null,
   "metadata": {},
   "outputs": [],
   "source": []
  },
  {
   "cell_type": "markdown",
   "metadata": {},
   "source": [
    "9. Si una clase tiene algún miembro no definido tendrá que permanecer abstracta. Se declara una bicicleta de carretera que no implementa una altura para el sillín."
   ]
  },
  {
   "cell_type": "code",
   "execution_count": null,
   "metadata": {},
   "outputs": [],
   "source": []
  },
  {
   "cell_type": "markdown",
   "metadata": {},
   "source": [
    "10. Los traits son interfaces que permiten implementación parcial, con lo que se permite la herencia múltiple. Por ejemplo definiremos un motor con una cilindrada fija que también añade un campo revoluciones."
   ]
  },
  {
   "cell_type": "code",
   "execution_count": null,
   "metadata": {},
   "outputs": [],
   "source": []
  },
  {
   "cell_type": "markdown",
   "metadata": {},
   "source": [
    "11. De esta forma podemos definir nuestra bicicleta con motor, extendiendo la clase Bicicleta y el trait Motor."
   ]
  },
  {
   "cell_type": "code",
   "execution_count": null,
   "metadata": {},
   "outputs": [],
   "source": []
  }
 ],
 "metadata": {
  "kernelspec": {
   "display_name": "Scala",
   "language": "scala",
   "name": "scala"
  },
  "language_info": {
   "codemirror_mode": "text/x-scala",
   "file_extension": ".scala",
   "mimetype": "text/x-scala",
   "name": "scala",
   "nbconvert_exporter": "script",
   "version": "2.11.12"
  }
 },
 "nbformat": 4,
 "nbformat_minor": 2
}

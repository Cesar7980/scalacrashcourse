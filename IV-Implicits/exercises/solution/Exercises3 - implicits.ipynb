{
 "cells": [
  {
   "cell_type": "code",
   "execution_count": 1,
   "metadata": {},
   "outputs": [
    {
     "data": {
      "text/plain": [
       "\u001b[32mimport \u001b[39m\u001b[36m$ivy.$                               \n",
       "\u001b[39m\n",
       "\u001b[32mimport \u001b[39m\u001b[36morg.scalatest._\u001b[39m"
      ]
     },
     "execution_count": 1,
     "metadata": {},
     "output_type": "execute_result"
    }
   ],
   "source": [
    "import $ivy.`org.scalatest::scalatest:3.0.5`\n",
    "import org.scalatest._"
   ]
  },
  {
   "cell_type": "markdown",
   "metadata": {},
   "source": [
    "# 1. Using implicit arguments\n",
    "\n",
    "Define a case class Car, with one member `_speed` that handles the speed internally in km/h. This class will offer support to work with other measure units.\n",
    "\n",
    "These are the measures we are going to give support to"
   ]
  },
  {
   "cell_type": "markdown",
   "metadata": {},
   "source": [
    "## PART I\n",
    "\n",
    "Implement a private method `toKPH` that gets a quantity and an implicit measure, does the conversion to km/h.\n",
    "\n",
    "| value | conversion |\n",
    "| --- | --- |\n",
    "| 1 km/h | 1        km/h |\n",
    "| 1 m/s  | 3.6      km/h |\n",
    "| 1 mph  | 1.609344 km/h |\n",
    "| 1 knot | 1.852    km/h |\n",
    "\n",
    "## PART II\n",
    "\n",
    "Implement the opposite, a private method `fromKPH` that gets a quantity and an implicit measure, and does the conversion from km/h to the implicit measure.\n",
    "\n",
    "## PART III\n",
    "\n",
    "Implement a method `speedUp` that given an increment and an implicit measure, increments the car's speed accordingly.\n",
    "\n",
    "## PART IV\n",
    "\n",
    "Implement a method `speed` that returns the current speed (_speed) converting to the implicit measure received as argument"
   ]
  },
  {
   "cell_type": "code",
   "execution_count": 4,
   "metadata": {},
   "outputs": [
    {
     "data": {
      "text/plain": [
       "defined \u001b[32mclass\u001b[39m \u001b[36mMeasureUnit\u001b[39m\n",
       "defined \u001b[32mobject\u001b[39m \u001b[36mKilometersPerHour\u001b[39m\n",
       "defined \u001b[32mobject\u001b[39m \u001b[36mMetersPerSecond\u001b[39m\n",
       "defined \u001b[32mobject\u001b[39m \u001b[36mMilesPerHour\u001b[39m\n",
       "defined \u001b[32mobject\u001b[39m \u001b[36mKnots\u001b[39m\n",
       "defined \u001b[32mclass\u001b[39m \u001b[36mCar\u001b[39m"
      ]
     },
     "execution_count": 4,
     "metadata": {},
     "output_type": "execute_result"
    }
   ],
   "source": [
    "sealed abstract class MeasureUnit\n",
    "case object KilometersPerHour extends MeasureUnit\n",
    "case object MetersPerSecond extends MeasureUnit\n",
    "case object MilesPerHour extends MeasureUnit\n",
    "case object Knots extends MeasureUnit\n",
    "\n",
    "case class Car(_speed: Double) {\n",
    "    private def toKPH(q: Double)(implicit U: MeasureUnit): Double = U match {\n",
    "        case KilometersPerHour => q\n",
    "        case MetersPerSecond => q * 3.6\n",
    "        case MilesPerHour => q * 1.609344\n",
    "        case Knots => q * 1.852\n",
    "        }\n",
    "\n",
    "    private def fromKPH(q: Double)(implicit U: MeasureUnit): Double = U match {\n",
    "        case KilometersPerHour => q\n",
    "        case MetersPerSecond => q / 3.6\n",
    "        case MilesPerHour => q / 1.609344\n",
    "        case Knots => q / 1.852\n",
    "        }\n",
    "\n",
    "    def speedUp(inc: Double)(implicit U: MeasureUnit): Car = Car(_speed+toKPH(inc))\n",
    "    def speed(implicit U: MeasureUnit): Double = fromKPH(_speed)\n",
    "  }"
   ]
  },
  {
   "cell_type": "code",
   "execution_count": 5,
   "metadata": {},
   "outputs": [
    {
     "name": "stdout",
     "output_type": "stream",
     "text": [
      "\u001b[32mcmd4$Helper$Test1:\u001b[0m\n",
      "\u001b[32mTesting speedUp & speed\u001b[0m\n",
      "\u001b[32m  Using Km/h as default\u001b[0m\n",
      "\u001b[32m  - should speed up w/o changing measures\u001b[0m\n",
      "\u001b[32m  - should increment 3.6 times when using m/s explicitly\u001b[0m\n",
      "\u001b[32m  Using m/s as default\u001b[0m\n",
      "\u001b[32m  - should speed up changing measures\u001b[0m\n",
      "\u001b[32m  - should decrement 3.6 times when using km/h explicitly\u001b[0m\n"
     ]
    },
    {
     "data": {
      "text/plain": [
       "defined \u001b[32mclass\u001b[39m \u001b[36mTest1\u001b[39m"
      ]
     },
     "execution_count": 5,
     "metadata": {},
     "output_type": "execute_result"
    }
   ],
   "source": [
    "case class Test1() extends FunSpec with Matchers {\n",
    "    val car100 = Car(100)\n",
    "  describe(\"Testing speedUp & speed\") {\n",
    "    describe(\"Using Km/h as default\") {\n",
    "      implicit val defaultMeasurementUnits = KilometersPerHour\n",
    "\n",
    "      it(\"should speed up w/o changing measures\") {\n",
    "        car100.speedUp(10)._speed shouldBe 110\n",
    "        car100.speedUp(10).speed shouldBe 110\n",
    "      }\n",
    "\n",
    "      it(\"should increment 3.6 times when using m/s explicitly\") {\n",
    "        car100.speedUp(10)(MetersPerSecond).speed shouldBe 136\n",
    "      }\n",
    "    }\n",
    "\n",
    "    describe(\"Using m/s as default\") {\n",
    "      implicit val defaultMeasurementUnits = MetersPerSecond\n",
    "\n",
    "      it(\"should speed up changing measures\") {\n",
    "        car100.speedUp(10)._speed shouldBe 136\n",
    "        car100.speedUp(10).speed shouldBe (136 / 3.6)\n",
    "      }\n",
    "\n",
    "      it(\"should decrement 3.6 times when using km/h explicitly\") {\n",
    "        car100.speedUp(10)(KilometersPerHour)._speed shouldBe 110\n",
    "        car100.speedUp(10)(KilometersPerHour).speed shouldBe (110 / 3.6)\n",
    "      }\n",
    "    }\n",
    "  }\n",
    "}\n",
    "\n",
    "run(Test1())"
   ]
  },
  {
   "cell_type": "markdown",
   "metadata": {},
   "source": [
    "# 2. Using implicit classes\n",
    "\n",
    "## PART V\n",
    "\n",
    "Imagine we don't have access to the Car class and we need to extend its functionality with a method `stop` that will set the speed to 0. "
   ]
  },
  {
   "cell_type": "code",
   "execution_count": 6,
   "metadata": {},
   "outputs": [
    {
     "name": "stdout",
     "output_type": "stream",
     "text": [
      "\u001b[32mcmd5$Helper$Test2:\u001b[0m\n",
      "\u001b[32mThe stop method\u001b[0m\n",
      "\u001b[32m- should set the speed to 0\u001b[0m\n"
     ]
    },
    {
     "data": {
      "text/plain": [
       "defined \u001b[32mclass\u001b[39m \u001b[36mCarStopper\u001b[39m\n",
       "defined \u001b[32mclass\u001b[39m \u001b[36mTest2\u001b[39m"
      ]
     },
     "execution_count": 6,
     "metadata": {},
     "output_type": "execute_result"
    }
   ],
   "source": [
    "implicit class CarStopper(car: Car) {\n",
    "    def stop:Car = car.speedUp(-car.speed(KilometersPerHour))(KilometersPerHour)\n",
    "}\n",
    "\n",
    "case class Test2() extends FunSpec with Matchers {\n",
    "    val car100 = Car(100)\n",
    "    describe(\"The stop method\") {\n",
    "        it(\"should set the speed to 0\") {\n",
    "          car100.stop._speed shouldBe 0\n",
    "        }\n",
    "  }\n",
    "}\n",
    "\n",
    "run(Test2())"
   ]
  },
  {
   "cell_type": "code",
   "execution_count": null,
   "metadata": {},
   "outputs": [],
   "source": []
  }
 ],
 "metadata": {
  "kernelspec": {
   "display_name": "Scala",
   "language": "scala",
   "name": "scala"
  },
  "language_info": {
   "codemirror_mode": "text/x-scala",
   "file_extension": ".scala",
   "mimetype": "text/x-scala",
   "name": "scala",
   "nbconvert_exporter": "script",
   "version": "2.12.8"
  }
 },
 "nbformat": 4,
 "nbformat_minor": 2
}

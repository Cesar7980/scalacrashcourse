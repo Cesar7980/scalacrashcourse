{
 "cells": [
  {
   "cell_type": "markdown",
   "metadata": {},
   "source": [
    "# Conversiones implicitas\n",
    "\n",
    "El otro caso de uso que nos proporcionan los implícitos son las conversiones, el compilador será capaz de transformarnos un valor en otro cualquiera de manera automática. Ahora veremos para qué puede ser útil este comportamiento."
   ]
  },
  {
   "cell_type": "markdown",
   "metadata": {},
   "source": [
    "5. Partimos de una funcion de conversión ordinaria"
   ]
  },
  {
   "cell_type": "code",
   "execution_count": null,
   "metadata": {},
   "outputs": [],
   "source": []
  },
  {
   "cell_type": "markdown",
   "metadata": {},
   "source": [
    "6. Podemos ahorrarnos esta conversión manual, marcando el método conversor como `implicit`"
   ]
  },
  {
   "cell_type": "code",
   "execution_count": null,
   "metadata": {},
   "outputs": [],
   "source": []
  },
  {
   "cell_type": "markdown",
   "metadata": {},
   "source": [
    "6.5. View bounds. Técnica para crear funciones parametrizadas con cualquier tipo de valores que se puedan convertir implícitamente a uno dado."
   ]
  },
  {
   "cell_type": "code",
   "execution_count": null,
   "metadata": {},
   "outputs": [],
   "source": []
  },
  {
   "cell_type": "markdown",
   "metadata": {},
   "source": [
    "Esta práctica, sin embargo, es bastante peligrosa, puesto que puede ocultar bugs en nuestro código, y en general, no es un caso de uso recomendado."
   ]
  },
  {
   "cell_type": "markdown",
   "metadata": {},
   "source": [
    "7. Un caso de uso más común (y más correcto) para conversiones implícitas, es el aumento de funcionalidad para un tipo. Por ejemplo, vamos a extender la funcionalidad de Int para poder hacer factoriales y potencias. La solución más común es crearnos un wrapper y añadir esa funcionalidad"
   ]
  },
  {
   "cell_type": "code",
   "execution_count": null,
   "metadata": {},
   "outputs": [],
   "source": []
  },
  {
   "cell_type": "markdown",
   "metadata": {},
   "source": [
    "8. Sin embargo, las conversiones implícitas nos permiten abstraernos del wrapper y utilizar los métodos directamente"
   ]
  },
  {
   "cell_type": "code",
   "execution_count": 9,
   "metadata": {},
   "outputs": [
    {
     "data": {
      "text/plain": [
       "defined \u001b[32mclass\u001b[39m \u001b[36mRichInt\u001b[39m\n",
       "defined \u001b[32mfunction\u001b[39m \u001b[36mtoRichInt\u001b[39m"
      ]
     },
     "execution_count": 9,
     "metadata": {},
     "output_type": "execute_result"
    }
   ],
   "source": []
  },
  {
   "cell_type": "markdown",
   "metadata": {},
   "source": [
    "9. Este patrón es tan común que para eso existen otro tipo de implícitos, las `implicit clases`, cuyo caso de uso es concretamente ese, extender la funcionalidad de los tipos."
   ]
  },
  {
   "cell_type": "code",
   "execution_count": null,
   "metadata": {},
   "outputs": [],
   "source": []
  },
  {
   "cell_type": "code",
   "execution_count": null,
   "metadata": {},
   "outputs": [],
   "source": []
  }
 ],
 "metadata": {
  "kernelspec": {
   "display_name": "Scala",
   "language": "scala",
   "name": "scala"
  },
  "language_info": {
   "codemirror_mode": "text/x-scala",
   "file_extension": ".scala",
   "mimetype": "text/x-scala",
   "name": "scala",
   "nbconvert_exporter": "script",
   "version": "2.11.12"
  }
 },
 "nbformat": 4,
 "nbformat_minor": 2
}

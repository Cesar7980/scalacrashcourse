{
 "cells": [
  {
   "cell_type": "markdown",
   "metadata": {},
   "source": [
    "#### 1. Declaramos las funciones concretas que hemos utilizado en secciones anteriores de manera \"genérica\"."
   ]
  },
  {
   "cell_type": "code",
   "execution_count": 1,
   "metadata": {},
   "outputs": [
    {
     "data": {
      "text/plain": [
       "defined \u001b[32mclass\u001b[39m \u001b[36mFuncion\u001b[39m"
      ]
     },
     "execution_count": 1,
     "metadata": {},
     "output_type": "execute_result"
    }
   ],
   "source": [
    "abstract class Funcion[A, B] {\n",
    "    def apply(a: A): B\n",
    "}"
   ]
  },
  {
   "cell_type": "markdown",
   "metadata": {},
   "source": [
    "#### 2. Instanciando clases genéricas"
   ]
  },
  {
   "cell_type": "code",
   "execution_count": null,
   "metadata": {},
   "outputs": [],
   "source": []
  },
  {
   "cell_type": "markdown",
   "metadata": {},
   "source": [
    "#### 3. Lo mismo, pero con el trait `Function1` de la librería estándar de Scala"
   ]
  },
  {
   "cell_type": "code",
   "execution_count": null,
   "metadata": {},
   "outputs": [],
   "source": []
  },
  {
   "cell_type": "markdown",
   "metadata": {},
   "source": [
    "#### 4. Lo mismo, pero con un poco de azúcar sintáctico"
   ]
  },
  {
   "cell_type": "code",
   "execution_count": null,
   "metadata": {},
   "outputs": [],
   "source": []
  },
  {
   "cell_type": "markdown",
   "metadata": {},
   "source": [
    "#### 5. Lo mismo, pero derramando el azucarero"
   ]
  },
  {
   "cell_type": "code",
   "execution_count": null,
   "metadata": {},
   "outputs": [],
   "source": []
  },
  {
   "cell_type": "markdown",
   "metadata": {},
   "source": [
    "#### 6. Jugamos con la varianza de los parámetros"
   ]
  },
  {
   "cell_type": "code",
   "execution_count": 2,
   "metadata": {},
   "outputs": [
    {
     "data": {
      "text/plain": [
       "defined \u001b[32mclass\u001b[39m \u001b[36mFuncion\u001b[39m\n",
       "\u001b[36mfAnyAny\u001b[39m: \u001b[32mFuncion\u001b[39m[\u001b[32mAny\u001b[39m, \u001b[32mAny\u001b[39m] = ammonite.$sess.cmd1$Helper$$anon$1@2bbcdb18\n",
       "\u001b[36mfAnyInt\u001b[39m: \u001b[32mFuncion\u001b[39m[\u001b[32mAny\u001b[39m, \u001b[32mInt\u001b[39m] = ammonite.$sess.cmd1$Helper$$anon$2@5355cd15\n",
       "\u001b[36mfIntAny\u001b[39m: \u001b[32mFuncion\u001b[39m[\u001b[32mInt\u001b[39m, \u001b[32mAny\u001b[39m] = ammonite.$sess.cmd1$Helper$$anon$3@4ee709ef"
      ]
     },
     "execution_count": 2,
     "metadata": {},
     "output_type": "execute_result"
    }
   ],
   "source": [
    "abstract class Funcion[A, B] {\n",
    "    def apply(a: A): B\n",
    "}\n",
    "\n",
    "/* Funciones para trastear */\n",
    "\n",
    "val fAnyAny: Funcion[Any, Any] = new Funcion[Any, Any] {\n",
    "    def apply(a: Any) = a\n",
    "}\n",
    "\n",
    "val fAnyInt: Funcion[Any, Int] = new Funcion[Any, Int] {\n",
    "    def apply(a: Any) = 1\n",
    "}\n",
    "\n",
    "val fIntAny: Funcion[Int, Any] = new Funcion[Int, Any] {\n",
    "    def apply(i: Int) = \"whatever\"\n",
    "}"
   ]
  },
  {
   "cell_type": "markdown",
   "metadata": {},
   "source": [
    "#### Pregunta rápida\n",
    "¿Qué tipo de varianza debe tener B?\n",
    "\n",
    "Descomenta y consigue que ejecute sin errores, si tiene que ejecutar..."
   ]
  },
  {
   "cell_type": "code",
   "execution_count": null,
   "metadata": {},
   "outputs": [],
   "source": [
    "// val f1: Funcion[Any, Int] = fAnyAny\n",
    "\n",
    "// val f2: Funcion[Any, Any] = fAnyInt"
   ]
  },
  {
   "cell_type": "markdown",
   "metadata": {},
   "source": [
    "¿Qué tipo de varianza debe tener A?\n",
    "\n",
    "Descomenta y consigue que ejecute sin errores, si tiene que ejecutar..."
   ]
  },
  {
   "cell_type": "code",
   "execution_count": null,
   "metadata": {},
   "outputs": [],
   "source": [
    "// val f3: Funcion[Any, Any] = fIntAny\n",
    "\n",
    "// val f4: Funcion[Int, Any] = fAnyAny"
   ]
  }
 ],
 "metadata": {
  "kernelspec": {
   "display_name": "Scala",
   "language": "scala",
   "name": "scala"
  },
  "language_info": {
   "codemirror_mode": "text/x-scala",
   "file_extension": ".scala",
   "mimetype": "text/x-scala",
   "name": "scala",
   "nbconvert_exporter": "script",
   "version": "2.11.12"
  }
 },
 "nbformat": 4,
 "nbformat_minor": 2
}

{
 "cells": [
  {
   "cell_type": "markdown",
   "metadata": {},
   "source": [
    "![code](../misc/curso.png)"
   ]
  },
  {
   "cell_type": "markdown",
   "metadata": {
    "slideshow": {
     "slide_type": "slide"
    }
   },
   "source": [
    "# Generics in Scala"
   ]
  },
  {
   "cell_type": "markdown",
   "metadata": {},
   "source": [
    "![everywhere](../misc/genericeverywhere.jpg)"
   ]
  },
  {
   "cell_type": "markdown",
   "metadata": {},
   "source": [
    "Generics is a widely spread feature of many programming languages, and Scala is no exception. We can find it virtually in every Scala library we want to use: "
   ]
  },
  {
   "cell_type": "markdown",
   "metadata": {},
   "source": [
    "![lists](../misc/scala-collections-list.png)"
   ]
  },
  {
   "cell_type": "markdown",
   "metadata": {},
   "source": [
    "![list-map](../misc/scala-api-list-map.png)"
   ]
  },
  {
   "cell_type": "markdown",
   "metadata": {},
   "source": [
    "![Scala Collections](../misc/scala-api-list-prepended.png)"
   ]
  },
  {
   "cell_type": "markdown",
   "metadata": {},
   "source": [
    "![spark-dataset](../misc/spark-api-dataset.png)"
   ]
  },
  {
   "cell_type": "markdown",
   "metadata": {},
   "source": [
    "![dataset-flatmap](../misc/spark-api-dataset-flatmap.png)"
   ]
  },
  {
   "cell_type": "markdown",
   "metadata": {},
   "source": [
    "![spark-groupbykey](../misc/spark-api-dataset-groupbykey.png)"
   ]
  },
  {
   "cell_type": "markdown",
   "metadata": {},
   "source": [
    "![akka-flow](../misc/akka-api-flow.png)"
   ]
  },
  {
   "cell_type": "markdown",
   "metadata": {},
   "source": [
    "![akka-flow-fold](../misc/akka-api-flow-foldasync.png)"
   ]
  },
  {
   "cell_type": "markdown",
   "metadata": {},
   "source": [
    "![akka-flow-runwith](../misc/akka-api-flow-runwith.png)"
   ]
  },
  {
   "cell_type": "markdown",
   "metadata": {},
   "source": [
    "# Generic features have a long history"
   ]
  },
  {
   "cell_type": "markdown",
   "metadata": {},
   "source": [
    "The first programming language to implement them was ML (1975). Then, they come Haskell, C++, ... and, of course, Java: "
   ]
  },
  {
   "cell_type": "markdown",
   "metadata": {},
   "source": [
    "![java-generics](../misc/genericsjava.png)"
   ]
  },
  {
   "cell_type": "markdown",
   "metadata": {},
   "source": [
    "![odersky](../misc/odersky.png)"
   ]
  },
  {
   "cell_type": "markdown",
   "metadata": {},
   "source": [
    "![lambdaman](../misc/lambdaman.png)\n",
    "Prof. Philip Wadler @LambdaWorld'16"
   ]
  },
  {
   "cell_type": "markdown",
   "metadata": {
    "slideshow": {
     "slide_type": "slide"
    }
   },
   "source": [
    "# Generics, what and why?"
   ]
  },
  {
   "cell_type": "markdown",
   "metadata": {
    "slideshow": {
     "slide_type": "subslide"
    }
   },
   "source": [
    "Let's motivate the need for generics with a simple, related problem, which is not solved with generics, but it will serve as an inspiration anyway. We start from this definition of lists of integers: "
   ]
  },
  {
   "cell_type": "code",
   "execution_count": null,
   "metadata": {
    "slideshow": {
     "slide_type": "subslide"
    }
   },
   "outputs": [],
   "source": [
    "sealed abstract class IntList\n",
    "case class End() extends IntList\n",
    "case class Cons(head: Int, tail: IntList) extends IntList"
   ]
  },
  {
   "cell_type": "markdown",
   "metadata": {
    "slideshow": {
     "slide_type": "subslide"
    }
   },
   "source": [
    "and a function to add the number five to the end of the list: "
   ]
  },
  {
   "cell_type": "code",
   "execution_count": null,
   "metadata": {
    "slideshow": {
     "slide_type": "subslide"
    }
   },
   "outputs": [],
   "source": []
  },
  {
   "cell_type": "markdown",
   "metadata": {
    "slideshow": {
     "slide_type": "subslide"
    }
   },
   "source": [
    "There is something wrong with this function: it's too specific. What if we want to add a different number, say three? We may copy & paste the above definition and replace five with three: "
   ]
  },
  {
   "cell_type": "code",
   "execution_count": null,
   "metadata": {
    "slideshow": {
     "slide_type": "subslide"
    }
   },
   "outputs": [],
   "source": []
  },
  {
   "cell_type": "markdown",
   "metadata": {
    "slideshow": {
     "slide_type": "subslide"
    }
   },
   "source": [
    "But, of course, we may rather abstract the function from the number to be inserted, and extends the signature with a new parameter. "
   ]
  },
  {
   "cell_type": "code",
   "execution_count": null,
   "metadata": {},
   "outputs": [],
   "source": []
  },
  {
   "cell_type": "markdown",
   "metadata": {},
   "source": [
    "Indeed, that's the very purpose of functions: to obtain more modular programs."
   ]
  },
  {
   "cell_type": "code",
   "execution_count": null,
   "metadata": {},
   "outputs": [],
   "source": [
    "def addFive(list: IntList): IntList = \n",
    "    ???\n",
    "\n",
    "def addThree(list: IntList): IntList = \n",
    "    ???"
   ]
  },
  {
   "cell_type": "markdown",
   "metadata": {},
   "source": [
    "But, did we finish here our modularization work? Not yet. Let's say that we now want a list of strings. What do we do, copy & paste again?"
   ]
  },
  {
   "cell_type": "code",
   "execution_count": null,
   "metadata": {},
   "outputs": [],
   "source": [
    "sealed abstract class IntList\n",
    "case class End() extends IntList\n",
    "case class Cons(head: Int, tail: IntList) extends IntList"
   ]
  },
  {
   "cell_type": "markdown",
   "metadata": {},
   "source": [
    "and the same for the function `addString`?"
   ]
  },
  {
   "cell_type": "code",
   "execution_count": null,
   "metadata": {},
   "outputs": [],
   "source": [
    "def addInt(n: Int, list: IntList): IntList = \n",
    "    list match {\n",
    "        case End() => Cons(n, End())\n",
    "        case Cons(head, tail) => Cons(head, addInt(n, tail))\n",
    "    }"
   ]
  },
  {
   "cell_type": "markdown",
   "metadata": {},
   "source": [
    "Couldn't we do something similar to what we did before? Yes, but now we have to abstract the definition of `addString` and `StringList` from the *type* `String`. This is how we get to our first generic declaration:"
   ]
  },
  {
   "cell_type": "code",
   "execution_count": null,
   "metadata": {},
   "outputs": [],
   "source": [
    "sealed abstract class IntList\n",
    "case class End() extends IntList\n",
    "case class Cons(head: Int, tail: IntList) extends IntList"
   ]
  },
  {
   "cell_type": "markdown",
   "metadata": {},
   "source": [
    "and we can do the same for the generic method definition:"
   ]
  },
  {
   "cell_type": "code",
   "execution_count": null,
   "metadata": {},
   "outputs": [],
   "source": [
    "def addInt(n: Int, list: IntList): IntList = \n",
    "    list match {\n",
    "        case End() => Cons(n, End())\n",
    "        case Cons(head, tail) => Cons(head, addInt(n, tail))\n",
    "    }"
   ]
  },
  {
   "cell_type": "markdown",
   "metadata": {},
   "source": [
    "Now, the `addNumber` and `addString` functions can be fully modularised as follows:"
   ]
  },
  {
   "cell_type": "code",
   "execution_count": null,
   "metadata": {},
   "outputs": [],
   "source": [
    "def addNumber(n: Int, l: List[Int]): List[Int] = \n",
    "    ???\n",
    "\n",
    "def addString(n: String, l: List[String]): List[String] = \n",
    "    ???"
   ]
  },
  {
   "cell_type": "markdown",
   "metadata": {},
   "source": [
    "The important thing to remember is that we can treat value parameters and type parameters as just that, i.e. **parameters**. And when we invoke a generic method, we will normally pass values, but also types. There is a difference concerning types, however: types can be normally inferred by the Scala compiler, whereas values can not (except if they are declared implicitly, as we will see in the next session). Thus, we can invoke our generic function as follows:"
   ]
  },
  {
   "cell_type": "code",
   "execution_count": null,
   "metadata": {},
   "outputs": [],
   "source": []
  },
  {
   "cell_type": "markdown",
   "metadata": {},
   "source": [
    "but also in the following way: "
   ]
  },
  {
   "cell_type": "code",
   "execution_count": null,
   "metadata": {},
   "outputs": [],
   "source": []
  },
  {
   "cell_type": "markdown",
   "metadata": {},
   "source": [
    "# The power of  _parametric polymorphism_"
   ]
  },
  {
   "cell_type": "markdown",
   "metadata": {},
   "source": [
    "The kind of generic programming illustrated above is called *parametric polymorphism*. It constrasts with other kinds of polymorphism such as *ad-hoc polymorphism* (which will be mentioned in the session about implicits), and *subtype polymorphism* (which will be exemplified later on in this session). \n",
    "\n",
    "In order to better undertand this kind of polymorphism we will consider a number of examples. For instance, let's consider the following monomorphic function. How many functions with this signature are there?"
   ]
  },
  {
   "cell_type": "code",
   "execution_count": null,
   "metadata": {},
   "outputs": [],
   "source": []
  },
  {
   "cell_type": "markdown",
   "metadata": {},
   "source": [
    "a lot, actually: ${(2^{32})}^{2^{32}}$"
   ]
  },
  {
   "cell_type": "markdown",
   "metadata": {},
   "source": [
    "In contrast, how many functions are there with the following polymorphic signature?"
   ]
  },
  {
   "cell_type": "code",
   "execution_count": null,
   "metadata": {},
   "outputs": [],
   "source": []
  },
  {
   "cell_type": "markdown",
   "metadata": {},
   "source": [
    "Well, we may pretend to give different implementations doing horrible things, as for instance: "
   ]
  },
  {
   "cell_type": "code",
   "execution_count": null,
   "metadata": {},
   "outputs": [],
   "source": [
    "def foo[A](a: A): A = \n",
    "    ???"
   ]
  },
  {
   "cell_type": "markdown",
   "metadata": {},
   "source": [
    "This function compiles, but it won't always work at runtime: "
   ]
  },
  {
   "cell_type": "code",
   "execution_count": null,
   "metadata": {},
   "outputs": [],
   "source": []
  },
  {
   "cell_type": "code",
   "execution_count": null,
   "metadata": {},
   "outputs": [],
   "source": []
  },
  {
   "cell_type": "markdown",
   "metadata": {},
   "source": [
    "Here it is another implementation, this time taking advantage that `Nothing` (the \"type\" of exceptions) is a subtype of every other type:"
   ]
  },
  {
   "cell_type": "code",
   "execution_count": null,
   "metadata": {},
   "outputs": [],
   "source": [
    "def foo[A](a: A): A = \n",
    "    ???"
   ]
  },
  {
   "cell_type": "markdown",
   "metadata": {},
   "source": [
    "We may even try (and achieve) to dispatch a different behaviour depending on the type:"
   ]
  },
  {
   "cell_type": "code",
   "execution_count": null,
   "metadata": {},
   "outputs": [],
   "source": [
    "def foo[A](a: A): A = \n",
    "    ???"
   ]
  },
  {
   "cell_type": "markdown",
   "metadata": {},
   "source": [
    "or the particular value: "
   ]
  },
  {
   "cell_type": "code",
   "execution_count": null,
   "metadata": {},
   "outputs": [],
   "source": [
    "def foo[A](a: A): A = \n",
    "    ???"
   ]
  },
  {
   "cell_type": "markdown",
   "metadata": {},
   "source": [
    "But, actually, in logical justice, just from the meaning of the signature, we can only do one thing: "
   ]
  },
  {
   "cell_type": "code",
   "execution_count": null,
   "metadata": {},
   "outputs": [],
   "source": [
    "def foo[A](a: A): A = ???"
   ]
  },
  {
   "cell_type": "markdown",
   "metadata": {},
   "source": [
    "![knownothing](../misc/knownothing.jpg)"
   ]
  },
  {
   "cell_type": "markdown",
   "metadata": {},
   "source": [
    "This is a most relevant feature of parametric polymorphism: we don't know anything about generic parameters. This sole fact retricts our implementations a lot, and, accordingly, makes the corresponding signatures very expressive. "
   ]
  },
  {
   "cell_type": "markdown",
   "metadata": {},
   "source": [
    "Another example. There are many different implementations of this function (application):  "
   ]
  },
  {
   "cell_type": "code",
   "execution_count": null,
   "metadata": {},
   "outputs": [],
   "source": []
  },
  {
   "cell_type": "markdown",
   "metadata": {},
   "source": [
    "But only one for its generic version:"
   ]
  },
  {
   "cell_type": "code",
   "execution_count": null,
   "metadata": {},
   "outputs": [],
   "source": []
  },
  {
   "cell_type": "markdown",
   "metadata": {},
   "source": [
    "Yet another example (composition):"
   ]
  },
  {
   "cell_type": "code",
   "execution_count": null,
   "metadata": {},
   "outputs": [],
   "source": []
  },
  {
   "cell_type": "markdown",
   "metadata": {},
   "source": [
    "What about its generic version?"
   ]
  },
  {
   "cell_type": "code",
   "execution_count": null,
   "metadata": {},
   "outputs": [],
   "source": []
  },
  {
   "cell_type": "markdown",
   "metadata": {},
   "source": [
    "This is only a little bit more complicated, but let's ask lambda man for help!"
   ]
  },
  {
   "cell_type": "markdown",
   "metadata": {},
   "source": [
    "![lambdamanhelp](../misc/lambdamanhelp.png)"
   ]
  },
  {
   "cell_type": "code",
   "execution_count": null,
   "metadata": {},
   "outputs": [],
   "source": [
    "def andThen[A, B, C](f1: A => B, f2: B => C): A => C = \n",
    "    ???"
   ]
  },
  {
   "cell_type": "markdown",
   "metadata": {},
   "source": [
    "Of course, It's not always the case that there is only one possible implementation. In the following case, we may rearrange the list values in multiple ways: "
   ]
  },
  {
   "cell_type": "code",
   "execution_count": null,
   "metadata": {},
   "outputs": [],
   "source": []
  },
  {
   "cell_type": "markdown",
   "metadata": {},
   "source": [
    "But we can be sure that any implementation of `foo` must satisfy the following property: "
   ]
  },
  {
   "cell_type": "markdown",
   "metadata": {},
   "source": [
    "![freetheorems](../misc/lambdamanfreetheorems.png)"
   ]
  },
  {
   "cell_type": "code",
   "execution_count": null,
   "metadata": {},
   "outputs": [],
   "source": [
    "def map[A, B](f: A => B): List[A] => List[B] = ???"
   ]
  },
  {
   "cell_type": "code",
   "execution_count": null,
   "metadata": {},
   "outputs": [],
   "source": [
    "def property[A, B](f: A => B, x: List[A]): Boolean = \n",
    "    ((foo[A](_)) andThen map[A, B](f))(x) == \n",
    "    (map[A, B](f) andThen (foo[B](_)))(x)"
   ]
  },
  {
   "cell_type": "markdown",
   "metadata": {},
   "source": [
    "# Generics and subtyping"
   ]
  },
  {
   "cell_type": "markdown",
   "metadata": {},
   "source": [
    "Let's turn now to explain the interactions between generics and subtyping. We will use the following inheritance hierarchy:"
   ]
  },
  {
   "cell_type": "code",
   "execution_count": null,
   "metadata": {},
   "outputs": [],
   "source": [
    "class Complex(val real: Double, val img: Double)\n",
    "class Real(val value: Double)              extends Complex(value, 0.0)\n",
    "class Rational(val num: Int, val den: Int) extends Real(num/den)\n",
    "class IntegerN(val int: Int)               extends Rational(int,1)\n",
    "class Natural(val nat: Int)                extends IntegerN(nat.abs)"
   ]
  },
  {
   "cell_type": "code",
   "execution_count": null,
   "metadata": {},
   "outputs": [],
   "source": [
    "val `1+2i`: Complex = new Complex(1.0,2.0)\n",
    "val π: Real = new Real(3.1415)\n",
    "val `2/3`: Rational = new Rational(2, 3)\n",
    "val `-1`: IntegerN = new IntegerN(-1)\n",
    "val `1`: Natural = new Natural(1)"
   ]
  },
  {
   "cell_type": "markdown",
   "metadata": {},
   "source": [
    "According to this hierarchy, naturals are integers, integers are rational numbers, and so on. This means that we can use a natural number whenever we need an integer, e.g. in passing a value to a function, initialising a variable, etc. Thus, given function `foo` expecting a `Rational` number: "
   ]
  },
  {
   "cell_type": "code",
   "execution_count": null,
   "metadata": {},
   "outputs": [],
   "source": []
  },
  {
   "cell_type": "markdown",
   "metadata": {},
   "source": [
    "we may safely pass a rational, integer or natural number: "
   ]
  },
  {
   "cell_type": "code",
   "execution_count": null,
   "metadata": {},
   "outputs": [],
   "source": []
  },
  {
   "cell_type": "markdown",
   "metadata": {},
   "source": [
    "but not a real or complex number: "
   ]
  },
  {
   "cell_type": "code",
   "execution_count": null,
   "metadata": {},
   "outputs": [],
   "source": []
  },
  {
   "cell_type": "markdown",
   "metadata": {},
   "source": [
    "### Covariant and contravariant parameters"
   ]
  },
  {
   "cell_type": "markdown",
   "metadata": {},
   "source": [
    "Let's now investigate which subtyping relationships hold between functions. For instance, given the following higher-order function:"
   ]
  },
  {
   "cell_type": "code",
   "execution_count": null,
   "metadata": {},
   "outputs": [],
   "source": []
  },
  {
   "cell_type": "markdown",
   "metadata": {},
   "source": [
    "we can, of course, pass this function (times2):"
   ]
  },
  {
   "cell_type": "code",
   "execution_count": null,
   "metadata": {},
   "outputs": [],
   "source": []
  },
  {
   "cell_type": "code",
   "execution_count": null,
   "metadata": {},
   "outputs": [],
   "source": []
  },
  {
   "cell_type": "markdown",
   "metadata": {},
   "source": [
    "But, can we pass this function (`idiv`)?"
   ]
  },
  {
   "cell_type": "code",
   "execution_count": null,
   "metadata": {},
   "outputs": [],
   "source": []
  },
  {
   "cell_type": "code",
   "execution_count": null,
   "metadata": {},
   "outputs": [],
   "source": []
  },
  {
   "cell_type": "markdown",
   "metadata": {},
   "source": [
    "And what about this one?"
   ]
  },
  {
   "cell_type": "code",
   "execution_count": null,
   "metadata": {},
   "outputs": [],
   "source": []
  },
  {
   "cell_type": "code",
   "execution_count": null,
   "metadata": {},
   "outputs": [],
   "source": []
  },
  {
   "cell_type": "markdown",
   "metadata": {},
   "source": [
    "This makes sense. In the former case, we pass a function which returns a value of a more specific type, `Integer`, which is perfectly compatible with the demanded type, `Rational`. In the latter one, we pass a function that is able to be applied to `Real` values, and, in particular, to `Rational`s, which is what will happen. So, no problem at all."
   ]
  },
  {
   "cell_type": "markdown",
   "metadata": {},
   "source": [
    "What about this function?"
   ]
  },
  {
   "cell_type": "code",
   "execution_count": null,
   "metadata": {},
   "outputs": [],
   "source": []
  },
  {
   "cell_type": "code",
   "execution_count": null,
   "metadata": {},
   "outputs": [],
   "source": []
  },
  {
   "cell_type": "markdown",
   "metadata": {},
   "source": [
    "And for the final case:"
   ]
  },
  {
   "cell_type": "code",
   "execution_count": null,
   "metadata": {},
   "outputs": [],
   "source": []
  },
  {
   "cell_type": "code",
   "execution_count": null,
   "metadata": {},
   "outputs": [],
   "source": []
  },
  {
   "cell_type": "markdown",
   "metadata": {},
   "source": [
    "Neither case work, and it make sense. In the former one, we pass a function that can only receive naturals, but in the body of `apply` we see that it will be applied to a rational number. In the second case, `apply` is given a function that returns a complex value, whereas it can only handle rationals."
   ]
  },
  {
   "cell_type": "markdown",
   "metadata": {},
   "source": [
    "Let's see now how Scala defines `Function1` so that the previous subtyping relationships hold. We may abstract the following monomorphic function from the input and output types:"
   ]
  },
  {
   "cell_type": "code",
   "execution_count": null,
   "metadata": {},
   "outputs": [],
   "source": []
  },
  {
   "cell_type": "markdown",
   "metadata": {},
   "source": [
    "and obtain the following definition:"
   ]
  },
  {
   "cell_type": "code",
   "execution_count": null,
   "metadata": {},
   "outputs": [],
   "source": []
  },
  {
   "cell_type": "markdown",
   "metadata": {},
   "source": [
    "This is a good start. Let's redefine our `foo` function and attempt to reproduce the desired behaviour."
   ]
  },
  {
   "cell_type": "code",
   "execution_count": null,
   "metadata": {},
   "outputs": [],
   "source": [
    "def foo(f: Rational => Rational): Rational = \n",
    "    f(new Rational(4,2))"
   ]
  },
  {
   "cell_type": "markdown",
   "metadata": {},
   "source": [
    "Of course, it work for the obvious case:"
   ]
  },
  {
   "cell_type": "code",
   "execution_count": null,
   "metadata": {},
   "outputs": [],
   "source": [
    "val times2: Rational => Rational = \n",
    "    r => new Rational(r.num*2,r.den)"
   ]
  },
  {
   "cell_type": "code",
   "execution_count": null,
   "metadata": {},
   "outputs": [],
   "source": [
    "foo(times2)"
   ]
  },
  {
   "cell_type": "markdown",
   "metadata": {},
   "source": [
    "But it fails when the return type is a subtype:"
   ]
  },
  {
   "cell_type": "code",
   "execution_count": null,
   "metadata": {},
   "outputs": [],
   "source": [
    "val idiv: Rational => IntegerN = \n",
    "    r => new IntegerN(r.num/r.den)"
   ]
  },
  {
   "cell_type": "code",
   "execution_count": null,
   "metadata": {},
   "outputs": [],
   "source": [
    "foo(idiv)"
   ]
  },
  {
   "cell_type": "markdown",
   "metadata": {},
   "source": [
    "The compiler error gives us a definitive clue: we have to declare the second parameter type of `Function1` *covariantly* :"
   ]
  },
  {
   "cell_type": "code",
   "execution_count": null,
   "metadata": {},
   "outputs": [],
   "source": [
    "trait Function1[I, O]{\n",
    "    def apply(i: I): O\n",
    "}\n",
    "\n",
    "def foo(f: Function1[Rational, Rational]): Rational = \n",
    "    f(`2/3`)\n",
    "\n",
    "val idiv: Function1[Rational, IntegerN] = \n",
    "    new Function1[Rational, IntegerN]{\n",
    "        def apply(r: Rational): IntegerN = \n",
    "            new IntegerN(r.num/r.den)\n",
    "    }"
   ]
  },
  {
   "cell_type": "code",
   "execution_count": null,
   "metadata": {},
   "outputs": [],
   "source": [
    "foo(idiv)"
   ]
  },
  {
   "cell_type": "markdown",
   "metadata": {},
   "source": [
    "We still have a problem, however: "
   ]
  },
  {
   "cell_type": "code",
   "execution_count": null,
   "metadata": {},
   "outputs": [],
   "source": [
    "val rr2: Real => Rational = \n",
    "    _ => new Rational(0,1)"
   ]
  },
  {
   "cell_type": "code",
   "execution_count": null,
   "metadata": {},
   "outputs": [],
   "source": [
    "foo(rr2)"
   ]
  },
  {
   "cell_type": "markdown",
   "metadata": {},
   "source": [
    "In this case we need to make the first type parameter *contravariant* : "
   ]
  },
  {
   "cell_type": "code",
   "execution_count": null,
   "metadata": {},
   "outputs": [],
   "source": [
    "trait Function1[I, O]{\n",
    "    def apply(i: I): O\n",
    "}\n",
    "\n",
    "def foo(f: Function1[Rational, Rational]): Rational = \n",
    "    f(`2/3`)\n",
    "\n",
    "val idiv: Function1[Rational, IntegerN] = \n",
    "    new Function1[Rational, IntegerN]{\n",
    "        def apply(r: Rational): IntegerN = \n",
    "            new IntegerN(r.num/r.den)\n",
    "    }\n",
    "\n",
    "val rr2 = new Function1[Real, Rational]{\n",
    "    def apply(r: Real): Rational = \n",
    "        new Rational(0,1)\n",
    "}"
   ]
  },
  {
   "cell_type": "markdown",
   "metadata": {},
   "source": [
    "And all the cases work as expected:"
   ]
  },
  {
   "cell_type": "code",
   "execution_count": null,
   "metadata": {},
   "outputs": [],
   "source": [
    "foo(idiv)\n",
    "foo(rr2)"
   ]
  },
  {
   "cell_type": "markdown",
   "metadata": {},
   "source": [
    "### Subtype bounds"
   ]
  },
  {
   "cell_type": "markdown",
   "metadata": {},
   "source": [
    "Given the following generic definition of lists:"
   ]
  },
  {
   "cell_type": "code",
   "execution_count": null,
   "metadata": {},
   "outputs": [],
   "source": [
    "sealed abstract class MyList[A]\n",
    "case class End[A]() extends MyList[A]\n",
    "case class Cons[A](head: A, tail: MyList[A]) extends MyList[A]"
   ]
  },
  {
   "cell_type": "markdown",
   "metadata": {},
   "source": [
    "We can create a list of rationals with rational numbers, but not with reals or complex numbers: "
   ]
  },
  {
   "cell_type": "code",
   "execution_count": null,
   "metadata": {},
   "outputs": [],
   "source": []
  },
  {
   "cell_type": "markdown",
   "metadata": {},
   "source": [
    "Similar question than before: which kinds of lists would be safe to pass to this function (`prepend`) ?"
   ]
  },
  {
   "cell_type": "code",
   "execution_count": null,
   "metadata": {},
   "outputs": [],
   "source": []
  },
  {
   "cell_type": "markdown",
   "metadata": {},
   "source": [
    "We may of course pass a list of rationals: "
   ]
  },
  {
   "cell_type": "code",
   "execution_count": null,
   "metadata": {},
   "outputs": [],
   "source": [
    "val ratList: MyList[Rational] = ???\n",
    "\n",
    "`prepend_2/3`(ratList)"
   ]
  },
  {
   "cell_type": "markdown",
   "metadata": {},
   "source": [
    "But we can't pass a list of integers, which it's a pity: "
   ]
  },
  {
   "cell_type": "code",
   "execution_count": null,
   "metadata": {},
   "outputs": [],
   "source": [
    "val intList: MyList[IntegerN] = ???\n",
    "\n",
    "`prepend_2/3`(intList)"
   ]
  },
  {
   "cell_type": "markdown",
   "metadata": {},
   "source": [
    "The very same compiler gives us a clue to solve the problem: \"You may wish to define A as +A instead.\" Let's listen to it and make that change: "
   ]
  },
  {
   "cell_type": "code",
   "execution_count": null,
   "metadata": {},
   "outputs": [],
   "source": [
    "sealed abstract class MyList[A]\n",
    "case class End[A]() extends MyList[A]\n",
    "case class Cons[A](head: A, tail: MyList[A]) extends MyList[A]\n",
    "\n",
    "def `prepend_2/3`(l: MyList[Rational]): MyList[Rational] = \n",
    "    Cons(`2/3`, l)\n",
    "\n",
    "val intList: MyList[IntegerN] = Cons(`1`, Cons(`-1`, End()))"
   ]
  },
  {
   "cell_type": "markdown",
   "metadata": {},
   "source": [
    "and now it works:"
   ]
  },
  {
   "cell_type": "code",
   "execution_count": null,
   "metadata": {},
   "outputs": [],
   "source": []
  },
  {
   "cell_type": "markdown",
   "metadata": {},
   "source": [
    "How can we generalise the function `prepend_2/3`?  This should be ok:"
   ]
  },
  {
   "cell_type": "code",
   "execution_count": null,
   "metadata": {},
   "outputs": [],
   "source": [
    "def `prepend_2/3`(l: MyList[Rational]): MyList[Rational] = \n",
    "    Cons(`2/3`, l)"
   ]
  },
  {
   "cell_type": "markdown",
   "metadata": {},
   "source": [
    "Indeed, it supports those cases in which the actual types of `r` and `l` are different but compatible. For instance:"
   ]
  },
  {
   "cell_type": "code",
   "execution_count": null,
   "metadata": {},
   "outputs": [],
   "source": []
  },
  {
   "cell_type": "markdown",
   "metadata": {},
   "source": [
    "If we intend, however, to implement this function as a method class, we run into trouble:"
   ]
  },
  {
   "cell_type": "code",
   "execution_count": null,
   "metadata": {},
   "outputs": [],
   "source": [
    "sealed abstract class MyList[+A]\n",
    "case class End[A]() extends MyList[A]\n",
    "case class Cons[A](head: A, tail: MyList[A]) extends MyList[A]"
   ]
  },
  {
   "cell_type": "markdown",
   "metadata": {},
   "source": [
    "The problem is that, now, the type of the list is fixed in the method invocation. This implies that if we want to allow for the resulting list type to be more generic, we have to twist the method declaration a little bit with a so-called *supertype bound*:"
   ]
  },
  {
   "cell_type": "code",
   "execution_count": null,
   "metadata": {},
   "outputs": [],
   "source": [
    "sealed abstract class MyList[+A]{\n",
    "}\n",
    "case class End[A]() extends MyList[A]\n",
    "case class Cons[A](head: A, tail: MyList[A]) extends MyList[A]\n",
    "\n",
    "val intList: MyList[IntegerN] = Cons(`1`, Cons(`-1`, End()))"
   ]
  },
  {
   "cell_type": "markdown",
   "metadata": {},
   "source": [
    "And now everything works:"
   ]
  },
  {
   "cell_type": "code",
   "execution_count": null,
   "metadata": {},
   "outputs": [],
   "source": []
  },
  {
   "cell_type": "markdown",
   "metadata": {},
   "source": [
    "Last, similarly to super-type bounds, we may also use subtype bounds, as in the following declaration, where we only allow the method to work for `Rational`s:"
   ]
  },
  {
   "cell_type": "code",
   "execution_count": null,
   "metadata": {},
   "outputs": [],
   "source": [
    "def prepend[N](l: MyList[N], r: N): MyList[N] = \n",
    "    Cons(r, l)"
   ]
  },
  {
   "cell_type": "markdown",
   "metadata": {},
   "source": [
    "Now, if we pass a list of integers it will work in the same way as in the previous definition of `prepend`: "
   ]
  },
  {
   "cell_type": "code",
   "execution_count": null,
   "metadata": {},
   "outputs": [],
   "source": []
  },
  {
   "cell_type": "markdown",
   "metadata": {},
   "source": [
    "but it will fail with lists of reals:"
   ]
  },
  {
   "cell_type": "code",
   "execution_count": null,
   "metadata": {},
   "outputs": [],
   "source": []
  },
  {
   "cell_type": "markdown",
   "metadata": {},
   "source": [
    "But, which is the difference of `prependS` with the following monomorphic function?"
   ]
  },
  {
   "cell_type": "code",
   "execution_count": null,
   "metadata": {},
   "outputs": [],
   "source": [
    "def prependS[N <: Rational](l: MyList[N], r: N): MyList[N] = \n",
    "    Cons(r, l)"
   ]
  },
  {
   "cell_type": "markdown",
   "metadata": {},
   "source": [
    "Certainly, this function will allow us to pass the same types of values:"
   ]
  },
  {
   "cell_type": "code",
   "execution_count": null,
   "metadata": {},
   "outputs": [],
   "source": []
  },
  {
   "cell_type": "markdown",
   "metadata": {},
   "source": [
    "but note that the resulting type is too general, compared to the one obtained here:"
   ]
  },
  {
   "cell_type": "code",
   "execution_count": null,
   "metadata": {},
   "outputs": [],
   "source": []
  },
  {
   "cell_type": "markdown",
   "metadata": {},
   "source": [
    "# Futher topics"
   ]
  },
  {
   "cell_type": "markdown",
   "metadata": {},
   "source": [
    "There are many topics related to generics we may talk about (for some hours more :):\n",
    "* Higher-kinded generics. So-called type constructor parameters. \n",
    "* The curry-howard isomorphism. Showing how generic signatures correspond to propositions of second-order logic, and their implementations to proofs.\n",
    "* Parametric definitions of ADTs. How we can give isomorphic definitions of tuples and eithers without data types at all.\n",
    "* Generics in dotty. Improvements over the Scala compiler related to generics. "
   ]
  },
  {
   "cell_type": "markdown",
   "metadata": {},
   "source": [
    "# Takeaways"
   ]
  },
  {
   "cell_type": "markdown",
   "metadata": {},
   "source": [
    "* Generic parameters are additional parameters of types and functions, even if you don't see them in method invocations or instance declarations!\n",
    "* Use them whenever you want your code to be more modular and more reusable. \n",
    "* Take generic signatures seriously, and don't cheat (even if the Scala compiler allows you to be impure)!\n",
    "* Variance and contravariance annotations are difficult to reason about. Try to avoid them ... by not using inheritance!"
   ]
  }
 ],
 "metadata": {
  "kernelspec": {
   "display_name": "Scala",
   "language": "scala",
   "name": "scala"
  },
  "language_info": {
   "codemirror_mode": "text/x-scala",
   "file_extension": ".scala",
   "mimetype": "text/x-scala",
   "name": "scala",
   "nbconvert_exporter": "script",
   "version": "2.13.0"
  }
 },
 "nbformat": 4,
 "nbformat_minor": 2
}

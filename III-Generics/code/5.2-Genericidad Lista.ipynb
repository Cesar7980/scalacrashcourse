{
 "cells": [
  {
   "cell_type": "markdown",
   "metadata": {},
   "source": [
    "# Genericidad"
   ]
  },
  {
   "cell_type": "markdown",
   "metadata": {},
   "source": [
    "#### 0. Partimos de una versión reducida de la lista generada en el módulo anterior. "
   ]
  },
  {
   "cell_type": "code",
   "execution_count": 6,
   "metadata": {},
   "outputs": [
    {
     "data": {
      "text/plain": [
       "defined \u001b[32mtrait\u001b[39m \u001b[36mListaInt\u001b[39m\n",
       "defined \u001b[32mclass\u001b[39m \u001b[36mConsInt\u001b[39m\n",
       "defined \u001b[32mclass\u001b[39m \u001b[36mNadaInt\u001b[39m"
      ]
     },
     "execution_count": 6,
     "metadata": {},
     "output_type": "execute_result"
    }
   ],
   "source": [
    "sealed trait ListaInt\n",
    "case class ConsInt(cabeza: Int, resto: ListaInt = NadaInt()) extends ListaInt\n",
    "case class NadaInt() extends ListaInt"
   ]
  },
  {
   "cell_type": "markdown",
   "metadata": {},
   "source": [
    "#### 1. Generalizamos sobre `Int` añadiendo parámetro tipo `A`"
   ]
  },
  {
   "cell_type": "code",
   "execution_count": 7,
   "metadata": {},
   "outputs": [
    {
     "data": {
      "text/plain": [
       "defined \u001b[32mtrait\u001b[39m \u001b[36mLista\u001b[39m\n",
       "defined \u001b[32mclass\u001b[39m \u001b[36mCons\u001b[39m\n",
       "defined \u001b[32mclass\u001b[39m \u001b[36mNada\u001b[39m"
      ]
     },
     "execution_count": 7,
     "metadata": {},
     "output_type": "execute_result"
    }
   ],
   "source": [
    "sealed trait Lista[A]\n",
    "case class Cons[A](cabeza: A, resto: Lista[A] = Nada[A]()) extends Lista[A]\n",
    "case class Nada[A]() extends Lista[A]"
   ]
  },
  {
   "cell_type": "markdown",
   "metadata": {},
   "source": [
    "#### 2. Hacemos polimórfico el método `apply` de creación de listas."
   ]
  },
  {
   "cell_type": "code",
   "execution_count": 8,
   "metadata": {},
   "outputs": [
    {
     "data": {
      "text/plain": [
       "defined \u001b[32mobject\u001b[39m \u001b[36mLista\u001b[39m"
      ]
     },
     "execution_count": 8,
     "metadata": {},
     "output_type": "execute_result"
    }
   ],
   "source": [
    "object Lista {\n",
    "    def apply[A](elems: A*): Lista[A] =\n",
    "      if (elems.isEmpty) Nada[A]()\n",
    "      else Cons[A](elems.head, Lista[A](elems.tail: _*))\n",
    "  }"
   ]
  },
  {
   "cell_type": "markdown",
   "metadata": {},
   "source": [
    "#### 3. Probamos que nuestra lista es invariante y posteriormente la convertimos en covariante."
   ]
  },
  {
   "cell_type": "code",
   "execution_count": 10,
   "metadata": {},
   "outputs": [
    {
     "data": {
      "text/plain": [
       "defined \u001b[32mtrait\u001b[39m \u001b[36mLista\u001b[39m\n",
       "defined \u001b[32mclass\u001b[39m \u001b[36mCons\u001b[39m\n",
       "defined \u001b[32mclass\u001b[39m \u001b[36mNada\u001b[39m"
      ]
     },
     "execution_count": 10,
     "metadata": {},
     "output_type": "execute_result"
    }
   ],
   "source": [
    "sealed trait Lista[+A]\n",
    "case class Cons[A](cabeza: A, resto: Lista[A] = Nada[A]()) extends Lista[A]\n",
    "case class Nada[A]() extends Lista[A]"
   ]
  },
  {
   "cell_type": "code",
   "execution_count": 11,
   "metadata": {},
   "outputs": [
    {
     "data": {
      "text/plain": [
       "defined \u001b[32mclass\u001b[39m \u001b[36mAnimal\u001b[39m\n",
       "defined \u001b[32mclass\u001b[39m \u001b[36mPerro\u001b[39m\n",
       "defined \u001b[32mclass\u001b[39m \u001b[36mDoberman\u001b[39m"
      ]
     },
     "execution_count": 11,
     "metadata": {},
     "output_type": "execute_result"
    }
   ],
   "source": [
    "abstract class Animal\n",
    "abstract class Perro extends Animal\n",
    "class Doberman extends Perro"
   ]
  },
  {
   "cell_type": "code",
   "execution_count": 12,
   "metadata": {},
   "outputs": [
    {
     "data": {
      "text/plain": [
       "\u001b[36ma1\u001b[39m: \u001b[32mAnimal\u001b[39m = ammonite.$sess.cmd11$Helper$$anon$1@60128f4e\n",
       "\u001b[36mp1\u001b[39m: \u001b[32mPerro\u001b[39m = ammonite.$sess.cmd11$Helper$$anon$2@71a80061\n",
       "\u001b[36md1\u001b[39m: \u001b[32mDoberman\u001b[39m = ammonite.$sess.cmd10$Helper$Doberman@53e1f865\n",
       "\u001b[36ml1\u001b[39m: \u001b[32mLista\u001b[39m[\u001b[32mPerro\u001b[39m] = \u001b[33mCons\u001b[39m(\n",
       "  ammonite.$sess.cmd11$Helper$$anon$2@71a80061,\n",
       "  \u001b[33mCons\u001b[39m(ammonite.$sess.cmd10$Helper$Doberman@53e1f865, Nada())\n",
       ")\n",
       "\u001b[36ml2\u001b[39m: \u001b[32mLista\u001b[39m[\u001b[32mAnimal\u001b[39m] = \u001b[33mCons\u001b[39m(\n",
       "  ammonite.$sess.cmd11$Helper$$anon$2@71a80061,\n",
       "  \u001b[33mCons\u001b[39m(ammonite.$sess.cmd11$Helper$$anon$1@60128f4e, Nada())\n",
       ")\n",
       "\u001b[36ml3\u001b[39m: \u001b[32mLista\u001b[39m[\u001b[32mAnimal\u001b[39m] = \u001b[33mCons\u001b[39m(\n",
       "  ammonite.$sess.cmd11$Helper$$anon$2@71a80061,\n",
       "  \u001b[33mCons\u001b[39m(ammonite.$sess.cmd10$Helper$Doberman@53e1f865, Nada())\n",
       ")"
      ]
     },
     "execution_count": 12,
     "metadata": {},
     "output_type": "execute_result"
    }
   ],
   "source": [
    "val a1: Animal = new Animal{}\n",
    "val p1: Perro = new Perro{}\n",
    "val d1: Doberman = new Doberman\n",
    "\n",
    "val l1: Lista[Perro] = Cons(p1, Cons(d1, Nada()))\n",
    "val l2: Lista[Animal] = Cons(p1, Cons(a1, Nada()))\n",
    "val l3: Lista[Animal] = l1"
   ]
  },
  {
   "cell_type": "markdown",
   "metadata": {},
   "source": [
    "#### 4. Problema al implementar método contains. Solucionado con subtype bound."
   ]
  },
  {
   "cell_type": "code",
   "execution_count": 13,
   "metadata": {},
   "outputs": [
    {
     "data": {
      "text/plain": [
       "defined \u001b[32mtrait\u001b[39m \u001b[36mLista\u001b[39m\n",
       "defined \u001b[32mclass\u001b[39m \u001b[36mCons\u001b[39m\n",
       "defined \u001b[32mclass\u001b[39m \u001b[36mNada\u001b[39m"
      ]
     },
     "execution_count": 13,
     "metadata": {},
     "output_type": "execute_result"
    }
   ],
   "source": [
    "sealed trait Lista[+A] {\n",
    "\n",
    "def existe(f: A => Boolean): Boolean = this match {\n",
    "  case Cons(cabeza, _) if f(cabeza) => true\n",
    "  case Cons(_, resto) => resto.existe(f)\n",
    "  case Nada() => false\n",
    "}\n",
    "\n",
    "def contiene[A1 >: A](i: A1): Boolean = {\n",
    "  existe(j => i == j)\n",
    "}\n",
    "}\n",
    "\n",
    "case class Cons[A](cabeza: A, resto: Lista[A] = Nada[A]()) extends Lista[A]\n",
    "case class Nada[A]() extends Lista[A]"
   ]
  }
 ],
 "metadata": {
  "kernelspec": {
   "display_name": "Scala",
   "language": "scala",
   "name": "scala"
  },
  "language_info": {
   "codemirror_mode": "text/x-scala",
   "file_extension": ".scala",
   "mimetype": "text/x-scala",
   "name": "scala",
   "nbconvert_exporter": "script",
   "version": "2.11.12"
  }
 },
 "nbformat": 4,
 "nbformat_minor": 2
}

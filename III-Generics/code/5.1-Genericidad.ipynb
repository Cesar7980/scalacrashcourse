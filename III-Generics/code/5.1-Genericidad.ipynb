{
 "cells": [
  {
   "cell_type": "markdown",
   "metadata": {},
   "source": [
    "#### 1. Declaramos las funciones concretas que hemos utilizado en secciones anteriores de manera \"genérica\"."
   ]
  },
  {
   "cell_type": "code",
   "execution_count": 1,
   "metadata": {},
   "outputs": [
    {
     "data": {
      "text/plain": [
       "defined \u001b[32mclass\u001b[39m \u001b[36mFuncion\u001b[39m\n",
       "defined \u001b[32mtype\u001b[39m \u001b[36mFunctionIntToBoolean\u001b[39m\n",
       "defined \u001b[32mtype\u001b[39m \u001b[36mFunctionIntToInt\u001b[39m"
      ]
     },
     "execution_count": 1,
     "metadata": {},
     "output_type": "execute_result"
    }
   ],
   "source": [
    "abstract class Funcion[A, B] {\n",
    "    def apply(a: A): B\n",
    "  }\n",
    "\n",
    "type FunctionIntToBoolean = Funcion[Int, Boolean]\n",
    "\n",
    "  // abstract class FunctionIntToBoolean{\n",
    "  //   def apply(i: Int): Boolean\n",
    "  // }\n",
    "\n",
    "type FunctionIntToInt = Funcion[Int, Int]\n",
    "\n",
    "  // abstract class FunctionIntToInt{\n",
    "  //   def apply(i: Int): Int\n",
    "  // }"
   ]
  },
  {
   "cell_type": "markdown",
   "metadata": {},
   "source": [
    "#### 2. Instanciando clases genéricas"
   ]
  },
  {
   "cell_type": "code",
   "execution_count": 2,
   "metadata": {},
   "outputs": [
    {
     "data": {
      "text/plain": [
       "defined \u001b[32mclass\u001b[39m \u001b[36mEsIgualA\u001b[39m\n",
       "defined \u001b[32mfunction\u001b[39m \u001b[36mesIgualA\u001b[39m\n",
       "defined \u001b[32mobject\u001b[39m \u001b[36mMenorQue3\u001b[39m\n",
       "defined \u001b[32mobject\u001b[39m \u001b[36mEsImpar\u001b[39m"
      ]
     },
     "execution_count": 2,
     "metadata": {},
     "output_type": "execute_result"
    }
   ],
   "source": [
    "class EsIgualA(j: Int) extends Funcion[Int, Boolean]{\n",
    "  def apply(i: Int): Boolean = i == j\n",
    "}\n",
    "\n",
    "def esIgualA(j: Int): Funcion[Int, Boolean] = new Funcion[Int, Boolean]{\n",
    "    def apply(i: Int): Boolean = i == j\n",
    "}\n",
    "\n",
    "object MenorQue3 extends Funcion[Int, Boolean]{\n",
    "    def apply(i: Int): Boolean = i < 3\n",
    "}\n",
    "\n",
    "object EsImpar extends Funcion[Int, Boolean]{\n",
    "    def apply(i: Int): Boolean = i % 2 != 0\n",
    "}"
   ]
  },
  {
   "cell_type": "markdown",
   "metadata": {},
   "source": [
    "#### 3. Lo mismo, pero con el trait `Function1` de la librería estándar de Scala"
   ]
  },
  {
   "cell_type": "code",
   "execution_count": 3,
   "metadata": {},
   "outputs": [
    {
     "data": {
      "text/plain": [
       "defined \u001b[32mclass\u001b[39m \u001b[36mEsIgualA\u001b[39m\n",
       "defined \u001b[32mfunction\u001b[39m \u001b[36mesIgualA\u001b[39m\n",
       "defined \u001b[32mobject\u001b[39m \u001b[36mMenorQue3\u001b[39m\n",
       "defined \u001b[32mobject\u001b[39m \u001b[36mEsImpar\u001b[39m"
      ]
     },
     "execution_count": 3,
     "metadata": {},
     "output_type": "execute_result"
    }
   ],
   "source": [
    "class EsIgualA(j: Int) extends Function1[Int, Boolean]{\n",
    "    def apply(i: Int): Boolean = i == j\n",
    "}\n",
    "\n",
    "def esIgualA(j: Int): Function1[Int, Boolean] = new Function1[Int, Boolean]{\n",
    "    def apply(i: Int): Boolean = i == j\n",
    "}\n",
    "\n",
    "object MenorQue3 extends Function1[Int, Boolean]{\n",
    "    def apply(i: Int): Boolean = i < 3\n",
    "}\n",
    "\n",
    "object EsImpar extends Function1[Int, Boolean]{\n",
    "    def apply(i: Int): Boolean = i % 2 != 0\n",
    "}"
   ]
  },
  {
   "cell_type": "markdown",
   "metadata": {},
   "source": [
    "#### 4. Lo mismo, pero con un poco de azúcar sintáctico"
   ]
  },
  {
   "cell_type": "code",
   "execution_count": 4,
   "metadata": {},
   "outputs": [
    {
     "data": {
      "text/plain": [
       "defined \u001b[32mfunction\u001b[39m \u001b[36mesIgualA\u001b[39m\n",
       "\u001b[36mMenorQue3\u001b[39m: \u001b[32mInt\u001b[39m => \u001b[32mBoolean\u001b[39m = ammonite.$sess.cmd3$Helper$$Lambda$2532/1961943169@69649e38\n",
       "\u001b[36mEsImpar\u001b[39m: \u001b[32mInt\u001b[39m => \u001b[32mBoolean\u001b[39m = ammonite.$sess.cmd3$Helper$$Lambda$2533/1877821994@454e2789"
      ]
     },
     "execution_count": 4,
     "metadata": {},
     "output_type": "execute_result"
    }
   ],
   "source": [
    "def esIgualA(j: Int): Int => Boolean =\n",
    "  (i: Int) => i == j\n",
    "\n",
    "val MenorQue3: Int => Boolean =\n",
    "  (i: Int) => i < 3\n",
    "\n",
    "val EsImpar: Int => Boolean =\n",
    "  (i: Int) => i % 2 != 0"
   ]
  },
  {
   "cell_type": "markdown",
   "metadata": {},
   "source": [
    "#### 5. Lo mismo, pero derramando el azucarero"
   ]
  },
  {
   "cell_type": "code",
   "execution_count": 5,
   "metadata": {},
   "outputs": [
    {
     "data": {
      "text/plain": [
       "defined \u001b[32mfunction\u001b[39m \u001b[36mesIgualA\u001b[39m\n",
       "\u001b[36mMenorQue3\u001b[39m: \u001b[32mInt\u001b[39m => \u001b[32mBoolean\u001b[39m = ammonite.$sess.cmd4$Helper$$Lambda$2557/282137864@c73dcf6\n",
       "\u001b[36mEsImpar\u001b[39m: \u001b[32mInt\u001b[39m => \u001b[32mBoolean\u001b[39m = ammonite.$sess.cmd4$Helper$$Lambda$2558/446493728@43636387"
      ]
     },
     "execution_count": 5,
     "metadata": {},
     "output_type": "execute_result"
    }
   ],
   "source": [
    "def esIgualA(j: Int): Int => Boolean = _ == j\n",
    "\n",
    "val MenorQue3: Int => Boolean = _ < 3\n",
    "\n",
    "val EsImpar: Int => Boolean = _ % 2 != 0"
   ]
  },
  {
   "cell_type": "markdown",
   "metadata": {},
   "source": [
    "#### 6. Jugamos con la varianza de los parámetros"
   ]
  },
  {
   "cell_type": "code",
   "execution_count": 6,
   "metadata": {},
   "outputs": [
    {
     "data": {
      "text/plain": [
       "defined \u001b[32mclass\u001b[39m \u001b[36mFuncion\u001b[39m\n",
       "\u001b[36mfAnyAny\u001b[39m: \u001b[32mFuncion\u001b[39m[\u001b[32mAny\u001b[39m, \u001b[32mAny\u001b[39m] = ammonite.$sess.cmd5$Helper$$anon$1@89a522c\n",
       "\u001b[36mfAnyInt\u001b[39m: \u001b[32mFuncion\u001b[39m[\u001b[32mAny\u001b[39m, \u001b[32mInt\u001b[39m] = ammonite.$sess.cmd5$Helper$$anon$2@115b3ecd\n",
       "\u001b[36mfIntAny\u001b[39m: \u001b[32mFuncion\u001b[39m[\u001b[32mInt\u001b[39m, \u001b[32mAny\u001b[39m] = ammonite.$sess.cmd5$Helper$$anon$3@43541346"
      ]
     },
     "execution_count": 6,
     "metadata": {},
     "output_type": "execute_result"
    }
   ],
   "source": [
    "abstract class Funcion[A, B] {\n",
    "    def apply(a: A): B\n",
    "}\n",
    "\n",
    "/* Funciones para trastear */\n",
    "\n",
    "val fAnyAny: Funcion[Any, Any] = new Funcion[Any, Any] {\n",
    "    def apply(a: Any) = a\n",
    "}\n",
    "\n",
    "val fAnyInt: Funcion[Any, Int] = new Funcion[Any, Int] {\n",
    "    def apply(a: Any) = 1\n",
    "}\n",
    "\n",
    "val fIntAny: Funcion[Int, Any] = new Funcion[Int, Any] {\n",
    "    def apply(i: Int) = \"whatever\"\n",
    "}"
   ]
  },
  {
   "cell_type": "markdown",
   "metadata": {},
   "source": [
    "#### Pregunta rápida\n",
    "¿Qué tipo de varianza debe tener B?\n",
    "\n",
    "Descomenta y consigue que ejecute sin errores, si tiene que ejecutar..."
   ]
  },
  {
   "cell_type": "code",
   "execution_count": null,
   "metadata": {},
   "outputs": [],
   "source": [
    "// val f1: Funcion[Any, Int] = fAnyAny\n",
    "\n",
    "// val f2: Funcion[Any, Any] = fAnyInt"
   ]
  },
  {
   "cell_type": "markdown",
   "metadata": {},
   "source": [
    "¿Qué tipo de varianza debe tener A?\n",
    "\n",
    "Descomenta y consigue que ejecute sin errores, si tiene que ejecutar..."
   ]
  },
  {
   "cell_type": "code",
   "execution_count": null,
   "metadata": {},
   "outputs": [],
   "source": [
    "// val f3: Funcion[Any, Any] = fIntAny\n",
    "\n",
    "// val f4: Funcion[Int, Any] = fAnyAny"
   ]
  }
 ],
 "metadata": {
  "kernelspec": {
   "display_name": "Scala",
   "language": "scala",
   "name": "scala"
  },
  "language_info": {
   "codemirror_mode": "text/x-scala",
   "file_extension": ".scala",
   "mimetype": "text/x-scala",
   "name": "scala",
   "nbconvert_exporter": "script",
   "version": "2.11.12"
  }
 },
 "nbformat": 4,
 "nbformat_minor": 2
}

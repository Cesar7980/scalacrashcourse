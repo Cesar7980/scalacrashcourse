{
 "cells": [
  {
   "cell_type": "markdown",
   "metadata": {
    "slideshow": {
     "slide_type": "slide"
    }
   },
   "source": [
    "# Generics in Scala"
   ]
  },
  {
   "cell_type": "markdown",
   "metadata": {},
   "source": [
    "![a](../misc/genericeverywhere.jpg)"
   ]
  },
  {
   "cell_type": "markdown",
   "metadata": {},
   "source": [
    "Generics is a widely spread feature of many programming languages, and Scala is no exception. We can find it virtually in every Scala library we want to use: "
   ]
  },
  {
   "cell_type": "markdown",
   "metadata": {},
   "source": [
    "![lists](../misc/scala-collections-list.png)"
   ]
  },
  {
   "cell_type": "markdown",
   "metadata": {},
   "source": [
    "![list-map](../misc/scala-api-list-map.png)"
   ]
  },
  {
   "cell_type": "markdown",
   "metadata": {},
   "source": [
    "![Scala Collections](../misc/scala-api-list-prepended.png)"
   ]
  },
  {
   "cell_type": "markdown",
   "metadata": {},
   "source": [
    "![spark-dataset](../misc/spark-api-dataset.png)"
   ]
  },
  {
   "cell_type": "markdown",
   "metadata": {},
   "source": [
    "![dataset-flatmap](../misc/spark-api-dataset-flatmap.png)"
   ]
  },
  {
   "cell_type": "markdown",
   "metadata": {},
   "source": [
    "![spark-groupbykey](../misc/spark-api-dataset-groupbykey.png)"
   ]
  },
  {
   "cell_type": "markdown",
   "metadata": {},
   "source": [
    "![akka-flow](../misc/akka-api-flow.png)"
   ]
  },
  {
   "cell_type": "markdown",
   "metadata": {},
   "source": [
    "![akka-flow-fold](../misc/akka-api-flow-foldasync.png)"
   ]
  },
  {
   "cell_type": "markdown",
   "metadata": {},
   "source": [
    "![akka-flow-runwith](../misc/akka-api-flow-runwith.png)"
   ]
  },
  {
   "cell_type": "markdown",
   "metadata": {},
   "source": [
    "# Generic features have a long history"
   ]
  },
  {
   "cell_type": "markdown",
   "metadata": {},
   "source": [
    "The first programming language to implement them was ML (1975). Then, they come Haskell, C++, ... and, of course, Java: "
   ]
  },
  {
   "cell_type": "markdown",
   "metadata": {},
   "source": [
    "![java-generics](../misc/genericsjava.png)"
   ]
  },
  {
   "cell_type": "markdown",
   "metadata": {},
   "source": [
    "![odersky](../misc/odersky.png)"
   ]
  },
  {
   "cell_type": "markdown",
   "metadata": {},
   "source": [
    "![lambdaman](../misc/lambdaman.png)\n",
    "Prof. Philip Wadler @LambdaWorld'16"
   ]
  },
  {
   "cell_type": "markdown",
   "metadata": {
    "slideshow": {
     "slide_type": "slide"
    }
   },
   "source": [
    "# Generics, what and why?"
   ]
  },
  {
   "cell_type": "markdown",
   "metadata": {
    "slideshow": {
     "slide_type": "subslide"
    }
   },
   "source": [
    "Let's motivate the need for generics with a simple, related problem, which is not solved with generics, but it will serve as an inspiration anyway. We start from this definition of lists of integers: "
   ]
  },
  {
   "cell_type": "code",
   "execution_count": 1,
   "metadata": {
    "slideshow": {
     "slide_type": "subslide"
    }
   },
   "outputs": [
    {
     "data": {
      "text/plain": [
       "defined \u001b[32mclass\u001b[39m \u001b[36mIntList\u001b[39m\n",
       "defined \u001b[32mclass\u001b[39m \u001b[36mEnd\u001b[39m\n",
       "defined \u001b[32mclass\u001b[39m \u001b[36mCons\u001b[39m"
      ]
     },
     "execution_count": 1,
     "metadata": {},
     "output_type": "execute_result"
    }
   ],
   "source": [
    "sealed abstract class IntList\n",
    "case class End() extends IntList\n",
    "case class Cons(head: Int, tail: IntList) extends IntList"
   ]
  },
  {
   "cell_type": "markdown",
   "metadata": {
    "slideshow": {
     "slide_type": "subslide"
    }
   },
   "source": [
    "and a function to add the number five to the end of the list: "
   ]
  },
  {
   "cell_type": "code",
   "execution_count": 2,
   "metadata": {
    "slideshow": {
     "slide_type": "subslide"
    }
   },
   "outputs": [
    {
     "data": {
      "text/plain": [
       "defined \u001b[32mfunction\u001b[39m \u001b[36maddFive\u001b[39m"
      ]
     },
     "execution_count": 2,
     "metadata": {},
     "output_type": "execute_result"
    }
   ],
   "source": [
    "def addFive(list: IntList): IntList = \n",
    "    list match {\n",
    "        case End() => Cons(5, End())\n",
    "        case Cons(head, tail) => Cons(head, addFive(tail))\n",
    "    }"
   ]
  },
  {
   "cell_type": "markdown",
   "metadata": {
    "slideshow": {
     "slide_type": "subslide"
    }
   },
   "source": [
    "There is something wrong with this function: it's too specific. What if we want to add a different number, say three? We may copy & paste the above definition and replace five with three: "
   ]
  },
  {
   "cell_type": "code",
   "execution_count": 3,
   "metadata": {
    "slideshow": {
     "slide_type": "subslide"
    }
   },
   "outputs": [
    {
     "data": {
      "text/plain": [
       "defined \u001b[32mfunction\u001b[39m \u001b[36maddThree\u001b[39m"
      ]
     },
     "execution_count": 3,
     "metadata": {},
     "output_type": "execute_result"
    }
   ],
   "source": [
    "def addThree(list: IntList): IntList = \n",
    "    list match {\n",
    "        case End() => Cons(3, End())\n",
    "        case Cons(head, tail) => Cons(head, addThree(tail))\n",
    "    }"
   ]
  },
  {
   "cell_type": "markdown",
   "metadata": {
    "slideshow": {
     "slide_type": "subslide"
    }
   },
   "source": [
    "But, of course, we may rather abstract the function from the number to be inserted, and extends the signature with a new parameter. "
   ]
  },
  {
   "cell_type": "code",
   "execution_count": 4,
   "metadata": {},
   "outputs": [
    {
     "data": {
      "text/plain": [
       "defined \u001b[32mfunction\u001b[39m \u001b[36maddNumber\u001b[39m"
      ]
     },
     "execution_count": 4,
     "metadata": {},
     "output_type": "execute_result"
    }
   ],
   "source": [
    "def addNumber(n: Int, list: IntList): IntList = \n",
    "    list match {\n",
    "        case End() => Cons(n, End())\n",
    "        case Cons(head, tail) => Cons(head, addNumber(n, tail))\n",
    "    }"
   ]
  },
  {
   "cell_type": "markdown",
   "metadata": {},
   "source": [
    "Indeed, that's the very purpose of functions: to obtain more modular programs."
   ]
  },
  {
   "cell_type": "code",
   "execution_count": 5,
   "metadata": {},
   "outputs": [
    {
     "data": {
      "text/plain": [
       "defined \u001b[32mfunction\u001b[39m \u001b[36maddFive\u001b[39m\n",
       "defined \u001b[32mfunction\u001b[39m \u001b[36maddThree\u001b[39m"
      ]
     },
     "execution_count": 5,
     "metadata": {},
     "output_type": "execute_result"
    }
   ],
   "source": [
    "def addFive(list: IntList): IntList = addNumber(5, list)\n",
    "def addThree(list: IntList): IntList = addNumber(3, list)"
   ]
  },
  {
   "cell_type": "markdown",
   "metadata": {},
   "source": [
    "But, did we finish here our modularization work? Not yet. Let's say that we now want a list of strings. What do we do, copy & paste again?"
   ]
  },
  {
   "cell_type": "code",
   "execution_count": 6,
   "metadata": {},
   "outputs": [
    {
     "data": {
      "text/plain": [
       "defined \u001b[32mclass\u001b[39m \u001b[36mStringList\u001b[39m\n",
       "defined \u001b[32mclass\u001b[39m \u001b[36mEnd\u001b[39m\n",
       "defined \u001b[32mclass\u001b[39m \u001b[36mCons\u001b[39m"
      ]
     },
     "execution_count": 6,
     "metadata": {},
     "output_type": "execute_result"
    }
   ],
   "source": [
    "sealed abstract class StringList\n",
    "case class End() extends StringList\n",
    "case class Cons(head: String, tail: StringList) extends StringList"
   ]
  },
  {
   "cell_type": "markdown",
   "metadata": {},
   "source": [
    "and the same for the function `addString`?"
   ]
  },
  {
   "cell_type": "code",
   "execution_count": 7,
   "metadata": {},
   "outputs": [
    {
     "data": {
      "text/plain": [
       "defined \u001b[32mfunction\u001b[39m \u001b[36maddString\u001b[39m"
      ]
     },
     "execution_count": 7,
     "metadata": {},
     "output_type": "execute_result"
    }
   ],
   "source": [
    "def addString(n: String, list: StringList): StringList = \n",
    "    list match {\n",
    "        case End() => Cons(n, End())\n",
    "        case Cons(head, tail) => Cons(head, addString(n, tail))\n",
    "    }"
   ]
  },
  {
   "cell_type": "markdown",
   "metadata": {},
   "source": [
    "Couldn't we do something similar to what we did before? Yes, but now we have to abstract the definition of `addString` and `StringList` from the *type* `String`. This is how we get to our first generic declaration:"
   ]
  },
  {
   "cell_type": "code",
   "execution_count": 8,
   "metadata": {},
   "outputs": [
    {
     "data": {
      "text/plain": [
       "defined \u001b[32mclass\u001b[39m \u001b[36mList\u001b[39m\n",
       "defined \u001b[32mclass\u001b[39m \u001b[36mEnd\u001b[39m\n",
       "defined \u001b[32mclass\u001b[39m \u001b[36mCons\u001b[39m"
      ]
     },
     "execution_count": 8,
     "metadata": {},
     "output_type": "execute_result"
    }
   ],
   "source": [
    "sealed abstract class List[A]\n",
    "case class End[A]() extends List[A]\n",
    "case class Cons[A](head: A, tail: List[A]) extends List[A]"
   ]
  },
  {
   "cell_type": "markdown",
   "metadata": {},
   "source": [
    "and we can do the same for the generic method definition:"
   ]
  },
  {
   "cell_type": "code",
   "execution_count": 9,
   "metadata": {},
   "outputs": [
    {
     "data": {
      "text/plain": [
       "defined \u001b[32mfunction\u001b[39m \u001b[36madd\u001b[39m"
      ]
     },
     "execution_count": 9,
     "metadata": {},
     "output_type": "execute_result"
    }
   ],
   "source": [
    "def add[A](n: A, list: List[A]): List[A] = \n",
    "    list match {\n",
    "        case End() => Cons(n, End())\n",
    "        case Cons(head, tail) => Cons(head, add[A](n, tail))\n",
    "    }"
   ]
  },
  {
   "cell_type": "markdown",
   "metadata": {},
   "source": [
    "Now, the `addNumber` and `addString` functions can be fully modularised as follows:"
   ]
  },
  {
   "cell_type": "code",
   "execution_count": 10,
   "metadata": {},
   "outputs": [
    {
     "data": {
      "text/plain": [
       "defined \u001b[32mfunction\u001b[39m \u001b[36maddNumber\u001b[39m\n",
       "defined \u001b[32mfunction\u001b[39m \u001b[36maddString\u001b[39m"
      ]
     },
     "execution_count": 10,
     "metadata": {},
     "output_type": "execute_result"
    }
   ],
   "source": [
    "def addNumber(n: Int, l: List[Int]): List[Int] = \n",
    "    add[Int](n, l)\n",
    "def addString(n: String, l: List[String]): List[String] = \n",
    "    add[String](n, l)"
   ]
  },
  {
   "cell_type": "markdown",
   "metadata": {},
   "source": [
    "The important thing to remember is that we can treat value parameters and type parameters as just that, i.e. **parameters**. And when we invoke a generic method, we will normally pass values, but also types. There is a difference concerning types, however: types can be normally inferred by the Scala compiler, whereas values can not (except if they are declared implicitly, as we will see in the next session). Thus, we can invoke our generic function as follows:"
   ]
  },
  {
   "cell_type": "code",
   "execution_count": 11,
   "metadata": {},
   "outputs": [
    {
     "data": {
      "text/plain": [
       "\u001b[36mres10\u001b[39m: \u001b[32mList\u001b[39m[\u001b[32mInt\u001b[39m] = \u001b[33mCons\u001b[39m(\u001b[32m5\u001b[39m, \u001b[33mCons\u001b[39m(\u001b[32m4\u001b[39m, \u001b[33mCons\u001b[39m(\u001b[32m5\u001b[39m, End())))"
      ]
     },
     "execution_count": 11,
     "metadata": {},
     "output_type": "execute_result"
    }
   ],
   "source": [
    "add[Int](5, Cons(5, Cons(4, End())))"
   ]
  },
  {
   "cell_type": "markdown",
   "metadata": {},
   "source": [
    "but also in the following way: "
   ]
  },
  {
   "cell_type": "code",
   "execution_count": 12,
   "metadata": {},
   "outputs": [
    {
     "data": {
      "text/plain": [
       "\u001b[36mres11\u001b[39m: \u001b[32mList\u001b[39m[\u001b[32mInt\u001b[39m] = \u001b[33mCons\u001b[39m(\u001b[32m5\u001b[39m, \u001b[33mCons\u001b[39m(\u001b[32m4\u001b[39m, \u001b[33mCons\u001b[39m(\u001b[32m5\u001b[39m, End())))"
      ]
     },
     "execution_count": 12,
     "metadata": {},
     "output_type": "execute_result"
    }
   ],
   "source": [
    "add(5, Cons(5, Cons(4, End())))"
   ]
  },
  {
   "cell_type": "markdown",
   "metadata": {},
   "source": [
    "# The power of  _parametric polymorphism_"
   ]
  },
  {
   "cell_type": "markdown",
   "metadata": {},
   "source": [
    "The kind of generic programming illustrated above is called *parametric polymorphism*. It constrasts with other kinds of polymorphism such as *ad-hoc polymorphism* (which will be mentioned in the session about implicits), and *subtype polymorphism* (which will be exemplified later on in this session). \n",
    "\n",
    "In order to better undertand this kind of polymorphism we will consider a number of examples. For instance, let's consider the following monomorphic function. How many functions with this signature are there?"
   ]
  },
  {
   "cell_type": "code",
   "execution_count": 13,
   "metadata": {},
   "outputs": [
    {
     "data": {
      "text/plain": [
       "defined \u001b[32mfunction\u001b[39m \u001b[36mfoo\u001b[39m"
      ]
     },
     "execution_count": 13,
     "metadata": {},
     "output_type": "execute_result"
    }
   ],
   "source": [
    "def foo(i: Int): Int = ???"
   ]
  },
  {
   "cell_type": "markdown",
   "metadata": {},
   "source": [
    "a lot, actually: ${(2^{32})}^{2^{32}}$"
   ]
  },
  {
   "cell_type": "markdown",
   "metadata": {},
   "source": [
    "In contrast, how many functions are there with the following polymorphic signature?"
   ]
  },
  {
   "cell_type": "code",
   "execution_count": 14,
   "metadata": {},
   "outputs": [
    {
     "data": {
      "text/plain": [
       "defined \u001b[32mfunction\u001b[39m \u001b[36mfoo\u001b[39m"
      ]
     },
     "execution_count": 14,
     "metadata": {},
     "output_type": "execute_result"
    }
   ],
   "source": [
    "def foo[A](a: A): A = ???"
   ]
  },
  {
   "cell_type": "markdown",
   "metadata": {},
   "source": [
    "Well, we may pretend to give different implementations doing horrible things, as for instance: "
   ]
  },
  {
   "cell_type": "code",
   "execution_count": 15,
   "metadata": {},
   "outputs": [
    {
     "data": {
      "text/plain": [
       "defined \u001b[32mfunction\u001b[39m \u001b[36mfoo\u001b[39m"
      ]
     },
     "execution_count": 15,
     "metadata": {},
     "output_type": "execute_result"
    }
   ],
   "source": [
    "def foo[A](a: A): A = \n",
    "    1.asInstanceOf[A]"
   ]
  },
  {
   "cell_type": "markdown",
   "metadata": {},
   "source": [
    "This function compiles, but it won't always work at runtime: "
   ]
  },
  {
   "cell_type": "code",
   "execution_count": 16,
   "metadata": {},
   "outputs": [
    {
     "data": {
      "text/plain": [
       "\u001b[36mres15\u001b[39m: \u001b[32mInt\u001b[39m = \u001b[32m1\u001b[39m"
      ]
     },
     "execution_count": 16,
     "metadata": {},
     "output_type": "execute_result"
    }
   ],
   "source": [
    "foo[Int](1)"
   ]
  },
  {
   "cell_type": "code",
   "execution_count": 17,
   "metadata": {},
   "outputs": [
    {
     "ename": "",
     "evalue": "",
     "output_type": "error",
     "traceback": [
      "\u001b[31mjava.lang.ClassCastException: java.lang.Integer cannot be cast to java.lang.String\u001b[39m\n  ammonite.$sess.cmd16$Helper.<init>(\u001b[32mcmd16.sc\u001b[39m:\u001b[32m1\u001b[39m)\n  ammonite.$sess.cmd16$.<clinit>(\u001b[32mcmd16.sc\u001b[39m:\u001b[32m7\u001b[39m)"
     ]
    }
   ],
   "source": [
    "foo[String](\"\")"
   ]
  },
  {
   "cell_type": "markdown",
   "metadata": {},
   "source": [
    "Here it is another implementation, this time taking advantage that `Nothing` (the \"type\" of exceptions) is a subtype of every other type:"
   ]
  },
  {
   "cell_type": "code",
   "execution_count": null,
   "metadata": {},
   "outputs": [],
   "source": [
    "def foo[A](a: A): A = throw new RuntimeException(\"error\")"
   ]
  },
  {
   "cell_type": "markdown",
   "metadata": {},
   "source": [
    "We may even try (and achieve) to dispatch a different behaviour depending on the type:"
   ]
  },
  {
   "cell_type": "code",
   "execution_count": null,
   "metadata": {},
   "outputs": [],
   "source": [
    "def foo[A](a: A): A = \n",
    "    if (a.isInstanceOf[String]) ???\n",
    "    else if (a.isInstanceOf[Int]) ??? \n",
    "    else ???"
   ]
  },
  {
   "cell_type": "markdown",
   "metadata": {},
   "source": [
    "or the particular value: "
   ]
  },
  {
   "cell_type": "code",
   "execution_count": null,
   "metadata": {},
   "outputs": [],
   "source": [
    "def foo[A](a: A): A = \n",
    "    if (a.toString == \"\") ??? \n",
    "    else if (a.hashCode == 0) ??? \n",
    "    else if (a.equals(1.0)) ???\n",
    "    else ???"
   ]
  },
  {
   "cell_type": "markdown",
   "metadata": {},
   "source": [
    "But, actually, in logical justice, just from the meaning of the signature, we can only do one thing: "
   ]
  },
  {
   "cell_type": "code",
   "execution_count": null,
   "metadata": {},
   "outputs": [],
   "source": [
    "def foo[A](a: A): A = a"
   ]
  },
  {
   "cell_type": "markdown",
   "metadata": {},
   "source": [
    "![knownothing](../misc/knownothing.jpg)"
   ]
  },
  {
   "cell_type": "markdown",
   "metadata": {},
   "source": [
    "This is a most relevant feature of parametric polymorphism: we don't know anything about generic parameters. This sole fact retricts our implementations a lot, and, accordingly, makes the corresponding signatures very expressive. "
   ]
  },
  {
   "cell_type": "markdown",
   "metadata": {},
   "source": [
    "Another example. There are many different implementations of this function:  "
   ]
  },
  {
   "cell_type": "code",
   "execution_count": null,
   "metadata": {},
   "outputs": [],
   "source": [
    "def apply(f: Int => String, i: Int): String = \n",
    "    ???"
   ]
  },
  {
   "cell_type": "markdown",
   "metadata": {},
   "source": [
    "But only one for its generic version:"
   ]
  },
  {
   "cell_type": "code",
   "execution_count": null,
   "metadata": {},
   "outputs": [],
   "source": [
    "def apply[A, B](f: A => B, a: A): B = \n",
    "    f(a)"
   ]
  },
  {
   "cell_type": "markdown",
   "metadata": {},
   "source": [
    "Yet another example:"
   ]
  },
  {
   "cell_type": "code",
   "execution_count": null,
   "metadata": {},
   "outputs": [],
   "source": [
    "def andThen(f1: Int => String, f2: String => Boolean): Int => Boolean = \n",
    "    (i: Int) => ??? : Boolean"
   ]
  },
  {
   "cell_type": "markdown",
   "metadata": {},
   "source": [
    "What about its generic version?"
   ]
  },
  {
   "cell_type": "code",
   "execution_count": null,
   "metadata": {},
   "outputs": [],
   "source": [
    "def andThen[A, B, C](f1: A => B, f2: B => C): A => C = ???"
   ]
  },
  {
   "cell_type": "markdown",
   "metadata": {},
   "source": [
    "This is only a little bit more complicated, but let's ask lambda man for help!"
   ]
  },
  {
   "cell_type": "markdown",
   "metadata": {},
   "source": [
    "![lambdamanhelp](../misc/lambdamanhelp.png)"
   ]
  },
  {
   "cell_type": "code",
   "execution_count": null,
   "metadata": {},
   "outputs": [],
   "source": [
    "def andThen[A, B, C](f1: A => B, f2: B => C): A => C = \n",
    "    (a: A) => f2(f1(a : A) : B) : C"
   ]
  },
  {
   "cell_type": "markdown",
   "metadata": {},
   "source": [
    "Of course, It's not always the case that there is only one possible implementation. In the following case, we may rearrange the list values in multiple ways: "
   ]
  },
  {
   "cell_type": "code",
   "execution_count": null,
   "metadata": {},
   "outputs": [],
   "source": [
    "def foo[A](list: List[A]): List[A] = \n",
    "    ???"
   ]
  },
  {
   "cell_type": "markdown",
   "metadata": {},
   "source": [
    "But we can be sure that any implementation of `foo` must satisfy the following property: "
   ]
  },
  {
   "cell_type": "markdown",
   "metadata": {},
   "source": [
    "![freetheorems](../misc/lambdamanfreetheorems.png)"
   ]
  },
  {
   "cell_type": "code",
   "execution_count": null,
   "metadata": {},
   "outputs": [],
   "source": [
    "def map[A, B](f: A => B): List[A] => List[B] = ???"
   ]
  },
  {
   "cell_type": "code",
   "execution_count": null,
   "metadata": {},
   "outputs": [],
   "source": [
    "def property[A, B](f: A => B, x: List[A]): Boolean = \n",
    "    ((foo[A](_)) andThen map[A, B](f))(x) == \n",
    "    (map[A, B](f) andThen (foo[B](_)))(x)"
   ]
  },
  {
   "cell_type": "markdown",
   "metadata": {},
   "source": [
    "# Generics and subtyping"
   ]
  },
  {
   "cell_type": "markdown",
   "metadata": {},
   "source": [
    "Let's turn now to explain the interactions between generics and subtyping. We will use the following inheritance hierarchy:"
   ]
  },
  {
   "cell_type": "code",
   "execution_count": 1,
   "metadata": {},
   "outputs": [
    {
     "data": {
      "text/plain": [
       "defined \u001b[32mclass\u001b[39m \u001b[36mComplex\u001b[39m\n",
       "defined \u001b[32mclass\u001b[39m \u001b[36mReal\u001b[39m\n",
       "defined \u001b[32mclass\u001b[39m \u001b[36mRational\u001b[39m\n",
       "defined \u001b[32mclass\u001b[39m \u001b[36mIntegerN\u001b[39m\n",
       "defined \u001b[32mclass\u001b[39m \u001b[36mNatural\u001b[39m"
      ]
     },
     "execution_count": 1,
     "metadata": {},
     "output_type": "execute_result"
    }
   ],
   "source": [
    "class Complex(val real: Double, val img: Double)\n",
    "class Real(val value: Double)              extends Complex(value, 0.0)\n",
    "class Rational(val num: Int, val den: Int) extends Real(num/den)\n",
    "class IntegerN(val int: Int)               extends Rational(int,1)\n",
    "class Natural(val nat: Int)                extends IntegerN(nat.abs)"
   ]
  },
  {
   "cell_type": "code",
   "execution_count": 2,
   "metadata": {},
   "outputs": [
    {
     "data": {
      "text/plain": [
       "\u001b[36m`1+2i`\u001b[39m: \u001b[32mComplex\u001b[39m = ammonite.$sess.cmd0$Helper$Complex@7596bf98\n",
       "\u001b[36mπ\u001b[39m: \u001b[32mReal\u001b[39m = ammonite.$sess.cmd0$Helper$Real@66d2a11f\n",
       "\u001b[36m`2/3`\u001b[39m: \u001b[32mRational\u001b[39m = ammonite.$sess.cmd0$Helper$Rational@3a318c06\n",
       "\u001b[36m`-1`\u001b[39m: \u001b[32mIntegerN\u001b[39m = ammonite.$sess.cmd0$Helper$IntegerN@2a5fe989\n",
       "\u001b[36m`1`\u001b[39m: \u001b[32mNatural\u001b[39m = ammonite.$sess.cmd0$Helper$Natural@593ff3ac"
      ]
     },
     "execution_count": 2,
     "metadata": {},
     "output_type": "execute_result"
    }
   ],
   "source": [
    "val `1+2i`: Complex = new Complex(1.0,2.0)\n",
    "val π: Real = new Real(3.1415)\n",
    "val `2/3`: Rational = new Rational(2, 3)\n",
    "val `-1`: IntegerN = new IntegerN(-1)\n",
    "val `1`: Natural = new Natural(1)"
   ]
  },
  {
   "cell_type": "markdown",
   "metadata": {},
   "source": [
    "According to this hierarchy, naturals are integers, integers are rational numbers, and so on. This means that we can use a natural number whenever we need an integer, e.g. in passing a value to a function, initialising a variable, etc. Thus, given function `foo` expecting a `Rational` number: "
   ]
  },
  {
   "cell_type": "code",
   "execution_count": 3,
   "metadata": {},
   "outputs": [
    {
     "data": {
      "text/plain": [
       "defined \u001b[32mfunction\u001b[39m \u001b[36mfoo\u001b[39m"
      ]
     },
     "execution_count": 3,
     "metadata": {},
     "output_type": "execute_result"
    }
   ],
   "source": [
    "def foo(c: Rational): Rational = c"
   ]
  },
  {
   "cell_type": "markdown",
   "metadata": {},
   "source": [
    "we may safely pass a rational, integer or natural number: "
   ]
  },
  {
   "cell_type": "code",
   "execution_count": 4,
   "metadata": {},
   "outputs": [
    {
     "data": {
      "text/plain": [
       "\u001b[36mres3_0\u001b[39m: \u001b[32mRational\u001b[39m = ammonite.$sess.cmd0$Helper$Rational@3a318c06\n",
       "\u001b[36mres3_1\u001b[39m: \u001b[32mRational\u001b[39m = ammonite.$sess.cmd0$Helper$IntegerN@2a5fe989\n",
       "\u001b[36mres3_2\u001b[39m: \u001b[32mRational\u001b[39m = ammonite.$sess.cmd0$Helper$Natural@593ff3ac"
      ]
     },
     "execution_count": 4,
     "metadata": {},
     "output_type": "execute_result"
    }
   ],
   "source": [
    "foo(`2/3`)\n",
    "foo(`-1`)\n",
    "foo(`1`)"
   ]
  },
  {
   "cell_type": "markdown",
   "metadata": {},
   "source": [
    "but not a real or complex number: "
   ]
  },
  {
   "cell_type": "code",
   "execution_count": 4,
   "metadata": {},
   "outputs": [],
   "source": [
    "// foo(`1+2i`)\n",
    "// foo(π)"
   ]
  },
  {
   "cell_type": "markdown",
   "metadata": {},
   "source": [
    "### Covariant and contravariant parameters"
   ]
  },
  {
   "cell_type": "markdown",
   "metadata": {},
   "source": [
    "Let's now investigate which subtyping relationships hold between functions. For instance, given the following higher-order function:"
   ]
  },
  {
   "cell_type": "code",
   "execution_count": 5,
   "metadata": {},
   "outputs": [
    {
     "data": {
      "text/plain": [
       "defined \u001b[32mfunction\u001b[39m \u001b[36mfoo\u001b[39m"
      ]
     },
     "execution_count": 5,
     "metadata": {},
     "output_type": "execute_result"
    }
   ],
   "source": [
    "def foo(f: Rational => Rational): Rational = \n",
    "    f(new Rational(4,2))"
   ]
  },
  {
   "cell_type": "markdown",
   "metadata": {},
   "source": [
    "we can, of course, pass this function:"
   ]
  },
  {
   "cell_type": "code",
   "execution_count": 6,
   "metadata": {},
   "outputs": [
    {
     "data": {
      "text/plain": [
       "\u001b[36mtimes2\u001b[39m: \u001b[32mRational\u001b[39m => \u001b[32mRational\u001b[39m = ammonite.$sess.cmd5$Helper$$Lambda$2119/571520661@73f5efdd"
      ]
     },
     "execution_count": 6,
     "metadata": {},
     "output_type": "execute_result"
    }
   ],
   "source": [
    "val times2: Rational => Rational = \n",
    "    r => new Rational(r.num*2,r.den)"
   ]
  },
  {
   "cell_type": "code",
   "execution_count": 7,
   "metadata": {},
   "outputs": [
    {
     "data": {
      "text/plain": [
       "\u001b[36mres6\u001b[39m: \u001b[32mRational\u001b[39m = ammonite.$sess.cmd0$Helper$Rational@15b16fc3"
      ]
     },
     "execution_count": 7,
     "metadata": {},
     "output_type": "execute_result"
    }
   ],
   "source": [
    "foo(times2)"
   ]
  },
  {
   "cell_type": "markdown",
   "metadata": {},
   "source": [
    "But, can we pass this function?"
   ]
  },
  {
   "cell_type": "code",
   "execution_count": 8,
   "metadata": {},
   "outputs": [
    {
     "data": {
      "text/plain": [
       "\u001b[36midiv\u001b[39m: \u001b[32mRational\u001b[39m => \u001b[32mIntegerN\u001b[39m = ammonite.$sess.cmd7$Helper$$Lambda$2126/2004944453@482f58c5"
      ]
     },
     "execution_count": 8,
     "metadata": {},
     "output_type": "execute_result"
    }
   ],
   "source": [
    "val idiv: Rational => IntegerN = \n",
    "    r => new IntegerN(r.num/r.den)"
   ]
  },
  {
   "cell_type": "code",
   "execution_count": 9,
   "metadata": {},
   "outputs": [
    {
     "data": {
      "text/plain": [
       "\u001b[36mres8\u001b[39m: \u001b[32mRational\u001b[39m = ammonite.$sess.cmd0$Helper$IntegerN@679978d6"
      ]
     },
     "execution_count": 9,
     "metadata": {},
     "output_type": "execute_result"
    }
   ],
   "source": [
    "foo(idiv)"
   ]
  },
  {
   "cell_type": "markdown",
   "metadata": {},
   "source": [
    "And what about this one?"
   ]
  },
  {
   "cell_type": "code",
   "execution_count": 10,
   "metadata": {},
   "outputs": [
    {
     "data": {
      "text/plain": [
       "\u001b[36mrr2\u001b[39m: \u001b[32mReal\u001b[39m => \u001b[32mRational\u001b[39m = ammonite.$sess.cmd9$Helper$$Lambda$2132/296904236@7df0cd8d"
      ]
     },
     "execution_count": 10,
     "metadata": {},
     "output_type": "execute_result"
    }
   ],
   "source": [
    "val rr2: Real => Rational = \n",
    "    _ => new Rational(0,1)"
   ]
  },
  {
   "cell_type": "code",
   "execution_count": 11,
   "metadata": {},
   "outputs": [
    {
     "data": {
      "text/plain": [
       "\u001b[36mres10\u001b[39m: \u001b[32mRational\u001b[39m = ammonite.$sess.cmd0$Helper$Rational@1f1c8ff8"
      ]
     },
     "execution_count": 11,
     "metadata": {},
     "output_type": "execute_result"
    }
   ],
   "source": [
    "foo(rr2)"
   ]
  },
  {
   "cell_type": "markdown",
   "metadata": {},
   "source": [
    "This makes sense. In the former case, we pass a function which returns a value of a more specific type, `Integer`, which is perfectly compatible with the demanded type, `Rational`. In the latter one, we pass a function that is able to be applied to `Real` values, and, in particular, to `Rational`s, which is what will happen. So, no problem at all."
   ]
  },
  {
   "cell_type": "markdown",
   "metadata": {},
   "source": [
    "What about this function?"
   ]
  },
  {
   "cell_type": "code",
   "execution_count": 12,
   "metadata": {},
   "outputs": [
    {
     "data": {
      "text/plain": [
       "\u001b[36mrr3\u001b[39m: \u001b[32mNatural\u001b[39m => \u001b[32mRational\u001b[39m = ammonite.$sess.cmd11$Helper$$Lambda$2138/12433853@276d7464"
      ]
     },
     "execution_count": 12,
     "metadata": {},
     "output_type": "execute_result"
    }
   ],
   "source": [
    "val rr3: Natural => Rational = _ => new Rational(0,1)"
   ]
  },
  {
   "cell_type": "code",
   "execution_count": 12,
   "metadata": {},
   "outputs": [],
   "source": [
    "//foo(rr3)"
   ]
  },
  {
   "cell_type": "markdown",
   "metadata": {},
   "source": [
    "And for the final case:"
   ]
  },
  {
   "cell_type": "code",
   "execution_count": 13,
   "metadata": {},
   "outputs": [
    {
     "data": {
      "text/plain": [
       "\u001b[36mrr4\u001b[39m: \u001b[32mRational\u001b[39m => \u001b[32mComplex\u001b[39m = ammonite.$sess.cmd12$Helper$$Lambda$2142/1985443353@1ecaff08"
      ]
     },
     "execution_count": 13,
     "metadata": {},
     "output_type": "execute_result"
    }
   ],
   "source": [
    "val rr4: Rational => Complex = _ => new Complex(0.0, 0.0)"
   ]
  },
  {
   "cell_type": "code",
   "execution_count": 13,
   "metadata": {},
   "outputs": [],
   "source": [
    "// foo(rr4)"
   ]
  },
  {
   "cell_type": "markdown",
   "metadata": {},
   "source": [
    "Neither case work, and it make sense. In the former one, we pass a function that can only receive naturals, but in the body of `apply` we see that it will be applied to a rational number. In the second case, `apply` is given a function that returns a complex value, whereas it can only handle rationals."
   ]
  },
  {
   "cell_type": "markdown",
   "metadata": {},
   "source": [
    "Let's see now how Scala defines `Function1` so that the previous subtyping relationships hold. We may abstract the following monomorphic function from the input and output types:"
   ]
  },
  {
   "cell_type": "code",
   "execution_count": 14,
   "metadata": {},
   "outputs": [
    {
     "data": {
      "text/plain": [
       "defined \u001b[32mtrait\u001b[39m \u001b[36mFunction1IntToString\u001b[39m"
      ]
     },
     "execution_count": 14,
     "metadata": {},
     "output_type": "execute_result"
    }
   ],
   "source": [
    "trait Function1IntToString{\n",
    "    def apply(i: Int): String\n",
    "}"
   ]
  },
  {
   "cell_type": "markdown",
   "metadata": {},
   "source": [
    "and obtain the following definition:"
   ]
  },
  {
   "cell_type": "code",
   "execution_count": 15,
   "metadata": {},
   "outputs": [
    {
     "data": {
      "text/plain": [
       "defined \u001b[32mtrait\u001b[39m \u001b[36mFunction1\u001b[39m"
      ]
     },
     "execution_count": 15,
     "metadata": {},
     "output_type": "execute_result"
    }
   ],
   "source": [
    "trait Function1[I, O]{\n",
    "    def apply(i: I): O\n",
    "}"
   ]
  },
  {
   "cell_type": "markdown",
   "metadata": {},
   "source": [
    "This is a good start. Let's redefine our `foo` function and attempt to reproduce the desired behaviour."
   ]
  },
  {
   "cell_type": "code",
   "execution_count": 16,
   "metadata": {},
   "outputs": [
    {
     "data": {
      "text/plain": [
       "defined \u001b[32mfunction\u001b[39m \u001b[36mfoo\u001b[39m"
      ]
     },
     "execution_count": 16,
     "metadata": {},
     "output_type": "execute_result"
    }
   ],
   "source": [
    "def foo(f: Function1[Rational, Rational]): Rational = \n",
    "    f(`2/3`)"
   ]
  },
  {
   "cell_type": "markdown",
   "metadata": {},
   "source": [
    "Of course, it work for the obvious case:"
   ]
  },
  {
   "cell_type": "code",
   "execution_count": 17,
   "metadata": {},
   "outputs": [
    {
     "data": {
      "text/plain": [
       "\u001b[36mtimes2\u001b[39m: \u001b[32mFunction1\u001b[39m[\u001b[32mRational\u001b[39m, \u001b[32mRational\u001b[39m] = ammonite.$sess.cmd16$Helper$$anon$1@6ddcd73d"
      ]
     },
     "execution_count": 17,
     "metadata": {},
     "output_type": "execute_result"
    }
   ],
   "source": [
    "val times2: Function1[Rational, Rational] = \n",
    "    new Function1[Rational, Rational]{\n",
    "        def apply(r: Rational): Rational = \n",
    "            new Rational(r.num*2,r.den)\n",
    "    }"
   ]
  },
  {
   "cell_type": "code",
   "execution_count": 18,
   "metadata": {},
   "outputs": [
    {
     "data": {
      "text/plain": [
       "\u001b[36mres17\u001b[39m: \u001b[32mRational\u001b[39m = ammonite.$sess.cmd0$Helper$Rational@6b811390"
      ]
     },
     "execution_count": 18,
     "metadata": {},
     "output_type": "execute_result"
    }
   ],
   "source": [
    "foo(times2)"
   ]
  },
  {
   "cell_type": "markdown",
   "metadata": {},
   "source": [
    "But it fails when the return type is a subtype:"
   ]
  },
  {
   "cell_type": "code",
   "execution_count": 19,
   "metadata": {},
   "outputs": [
    {
     "data": {
      "text/plain": [
       "\u001b[36midiv\u001b[39m: \u001b[32mFunction1\u001b[39m[\u001b[32mRational\u001b[39m, \u001b[32mIntegerN\u001b[39m] = ammonite.$sess.cmd18$Helper$$anon$1@21662c9"
      ]
     },
     "execution_count": 19,
     "metadata": {},
     "output_type": "execute_result"
    }
   ],
   "source": [
    "val idiv: Function1[Rational, IntegerN] = \n",
    "    new Function1[Rational, IntegerN]{\n",
    "        def apply(r: Rational): IntegerN = \n",
    "            new IntegerN(r.num/r.den)\n",
    "    }"
   ]
  },
  {
   "cell_type": "code",
   "execution_count": 19,
   "metadata": {},
   "outputs": [],
   "source": [
    "// foo(idiv)"
   ]
  },
  {
   "cell_type": "markdown",
   "metadata": {},
   "source": [
    "The compiler error gives us a definitive clue: we have to declare the second parameter type of `Function1` *covariantly* :"
   ]
  },
  {
   "cell_type": "code",
   "execution_count": 21,
   "metadata": {},
   "outputs": [
    {
     "data": {
      "text/plain": [
       "defined \u001b[32mtrait\u001b[39m \u001b[36mFunction1\u001b[39m\n",
       "defined \u001b[32mfunction\u001b[39m \u001b[36mfoo\u001b[39m\n",
       "\u001b[36midiv\u001b[39m: \u001b[32mFunction1\u001b[39m[\u001b[32mRational\u001b[39m, \u001b[32mIntegerN\u001b[39m] = ammonite.$sess.cmd20$Helper$$anon$1@7a7f0055"
      ]
     },
     "execution_count": 21,
     "metadata": {},
     "output_type": "execute_result"
    }
   ],
   "source": [
    "trait Function1[I, +O]{\n",
    "    def apply(i: I): O\n",
    "}\n",
    "\n",
    "def foo(f: Function1[Rational, Rational]): Rational = \n",
    "    f(`2/3`)\n",
    "\n",
    "val idiv: Function1[Rational, IntegerN] = \n",
    "    new Function1[Rational, IntegerN]{\n",
    "        def apply(r: Rational): IntegerN = \n",
    "            new IntegerN(r.num/r.den)\n",
    "    }"
   ]
  },
  {
   "cell_type": "code",
   "execution_count": 22,
   "metadata": {},
   "outputs": [
    {
     "data": {
      "text/plain": [
       "\u001b[36mres21\u001b[39m: \u001b[32mRational\u001b[39m = ammonite.$sess.cmd0$Helper$IntegerN@1cfde3d6"
      ]
     },
     "execution_count": 22,
     "metadata": {},
     "output_type": "execute_result"
    }
   ],
   "source": [
    "foo(idiv)"
   ]
  },
  {
   "cell_type": "markdown",
   "metadata": {},
   "source": [
    "We still have a problem, however: "
   ]
  },
  {
   "cell_type": "code",
   "execution_count": 23,
   "metadata": {},
   "outputs": [
    {
     "data": {
      "text/plain": [
       "\u001b[36mrr2\u001b[39m: \u001b[32mAnyRef\u001b[39m with \u001b[32mFunction1\u001b[39m[\u001b[32mReal\u001b[39m, \u001b[32mRational\u001b[39m] = ammonite.$sess.cmd22$Helper$$anon$1@42e4b58b"
      ]
     },
     "execution_count": 23,
     "metadata": {},
     "output_type": "execute_result"
    }
   ],
   "source": [
    "val rr2 = new Function1[Real, Rational]{\n",
    "    def apply(r: Real): Rational = \n",
    "        new Rational(0,1)\n",
    "}"
   ]
  },
  {
   "cell_type": "code",
   "execution_count": 23,
   "metadata": {},
   "outputs": [],
   "source": [
    "// foo(rr2)"
   ]
  },
  {
   "cell_type": "markdown",
   "metadata": {},
   "source": [
    "In this case we need to make the first type parameter *contravariant* : "
   ]
  },
  {
   "cell_type": "code",
   "execution_count": 24,
   "metadata": {},
   "outputs": [
    {
     "data": {
      "text/plain": [
       "defined \u001b[32mtrait\u001b[39m \u001b[36mFunction1\u001b[39m\n",
       "defined \u001b[32mfunction\u001b[39m \u001b[36mfoo\u001b[39m\n",
       "\u001b[36midiv\u001b[39m: \u001b[32mFunction1\u001b[39m[\u001b[32mRational\u001b[39m, \u001b[32mIntegerN\u001b[39m] = ammonite.$sess.cmd23$Helper$$anon$1@7ffd329\n",
       "\u001b[36mrr2\u001b[39m: \u001b[32mAnyRef\u001b[39m with \u001b[32mFunction1\u001b[39m[\u001b[32mReal\u001b[39m, \u001b[32mRational\u001b[39m] = ammonite.$sess.cmd23$Helper$$anon$2@29173ccf"
      ]
     },
     "execution_count": 24,
     "metadata": {},
     "output_type": "execute_result"
    }
   ],
   "source": [
    "trait Function1[-I, +O]{\n",
    "    def apply(i: I): O\n",
    "}\n",
    "\n",
    "def foo(f: Function1[Rational, Rational]): Rational = \n",
    "    f(`2/3`)\n",
    "\n",
    "val idiv: Function1[Rational, IntegerN] = \n",
    "    new Function1[Rational, IntegerN]{\n",
    "        def apply(r: Rational): IntegerN = \n",
    "            new IntegerN(r.num/r.den)\n",
    "    }\n",
    "\n",
    "val rr2 = new Function1[Real, Rational]{\n",
    "    def apply(r: Real): Rational = \n",
    "        new Rational(0,1)\n",
    "}"
   ]
  },
  {
   "cell_type": "markdown",
   "metadata": {},
   "source": [
    "And all the cases work as expected:"
   ]
  },
  {
   "cell_type": "code",
   "execution_count": 25,
   "metadata": {},
   "outputs": [
    {
     "data": {
      "text/plain": [
       "\u001b[36mres24_0\u001b[39m: \u001b[32mRational\u001b[39m = ammonite.$sess.cmd0$Helper$IntegerN@7253b475\n",
       "\u001b[36mres24_1\u001b[39m: \u001b[32mRational\u001b[39m = ammonite.$sess.cmd0$Helper$Rational@438a4eac"
      ]
     },
     "execution_count": 25,
     "metadata": {},
     "output_type": "execute_result"
    }
   ],
   "source": [
    "foo(idiv)\n",
    "foo(rr2)"
   ]
  },
  {
   "cell_type": "markdown",
   "metadata": {},
   "source": [
    "### Subtype bounds"
   ]
  },
  {
   "cell_type": "markdown",
   "metadata": {},
   "source": [
    "Given the following generic definition of lists:"
   ]
  },
  {
   "cell_type": "code",
   "execution_count": 27,
   "metadata": {},
   "outputs": [
    {
     "data": {
      "text/plain": [
       "defined \u001b[32mclass\u001b[39m \u001b[36mMyList\u001b[39m\n",
       "defined \u001b[32mclass\u001b[39m \u001b[36mEnd\u001b[39m\n",
       "defined \u001b[32mclass\u001b[39m \u001b[36mCons\u001b[39m"
      ]
     },
     "execution_count": 27,
     "metadata": {},
     "output_type": "execute_result"
    }
   ],
   "source": [
    "sealed abstract class MyList[A]\n",
    "case class End[A]() extends MyList[A]\n",
    "case class Cons[A](head: A, tail: MyList[A]) extends MyList[A]"
   ]
  },
  {
   "cell_type": "markdown",
   "metadata": {},
   "source": [
    "We can create a list of rationals with rational numbers, but not with reals or complex numbers: "
   ]
  },
  {
   "cell_type": "code",
   "execution_count": 28,
   "metadata": {},
   "outputs": [
    {
     "data": {
      "text/plain": [
       "\u001b[36ma\u001b[39m: \u001b[32mMyList\u001b[39m[\u001b[32mRational\u001b[39m] = \u001b[33mCons\u001b[39m(\n",
       "  ammonite.$sess.cmd0$Helper$Rational@3a318c06,\n",
       "  \u001b[33mCons\u001b[39m(\n",
       "    ammonite.$sess.cmd0$Helper$IntegerN@2a5fe989,\n",
       "    \u001b[33mCons\u001b[39m(ammonite.$sess.cmd0$Helper$Natural@593ff3ac, End())\n",
       "  )\n",
       ")"
      ]
     },
     "execution_count": 28,
     "metadata": {},
     "output_type": "execute_result"
    }
   ],
   "source": [
    "val a: MyList[Rational] = \n",
    "    Cons(`2/3`, Cons(`-1`, Cons(`1`, End())))"
   ]
  },
  {
   "cell_type": "markdown",
   "metadata": {},
   "source": [
    "Similar question than before: which kinds of lists would be safe to pass to this function?"
   ]
  },
  {
   "cell_type": "code",
   "execution_count": 29,
   "metadata": {},
   "outputs": [
    {
     "data": {
      "text/plain": [
       "defined \u001b[32mfunction\u001b[39m \u001b[36m`prepend_2/3`\u001b[39m"
      ]
     },
     "execution_count": 29,
     "metadata": {},
     "output_type": "execute_result"
    }
   ],
   "source": [
    "def `prepend_2/3`(l: MyList[Rational]): MyList[Rational] = \n",
    "    Cons(`2/3`, l)"
   ]
  },
  {
   "cell_type": "markdown",
   "metadata": {},
   "source": [
    "We may of course pass a list of rationals: "
   ]
  },
  {
   "cell_type": "code",
   "execution_count": 31,
   "metadata": {},
   "outputs": [
    {
     "data": {
      "text/plain": [
       "\u001b[36mratList\u001b[39m: \u001b[32mMyList\u001b[39m[\u001b[32mRational\u001b[39m] = \u001b[33mCons\u001b[39m(\n",
       "  ammonite.$sess.cmd0$Helper$Natural@593ff3ac,\n",
       "  \u001b[33mCons\u001b[39m(ammonite.$sess.cmd0$Helper$IntegerN@2a5fe989, End())\n",
       ")\n",
       "\u001b[36mres30_1\u001b[39m: \u001b[32mMyList\u001b[39m[\u001b[32mRational\u001b[39m] = \u001b[33mCons\u001b[39m(\n",
       "  ammonite.$sess.cmd0$Helper$Rational@3a318c06,\n",
       "  \u001b[33mCons\u001b[39m(\n",
       "    ammonite.$sess.cmd0$Helper$Natural@593ff3ac,\n",
       "    \u001b[33mCons\u001b[39m(ammonite.$sess.cmd0$Helper$IntegerN@2a5fe989, End())\n",
       "  )\n",
       ")"
      ]
     },
     "execution_count": 31,
     "metadata": {},
     "output_type": "execute_result"
    }
   ],
   "source": [
    "val ratList: MyList[Rational] = Cons(`1`, Cons(`-1`, End()))\n",
    "`prepend_2/3`(ratList)"
   ]
  },
  {
   "cell_type": "markdown",
   "metadata": {},
   "source": [
    "But we can't pass a list of integers, which it's a pity: "
   ]
  },
  {
   "cell_type": "code",
   "execution_count": 32,
   "metadata": {},
   "outputs": [
    {
     "data": {
      "text/plain": [
       "\u001b[36mintList\u001b[39m: \u001b[32mMyList\u001b[39m[\u001b[32mIntegerN\u001b[39m] = \u001b[33mCons\u001b[39m(\n",
       "  ammonite.$sess.cmd0$Helper$Natural@593ff3ac,\n",
       "  \u001b[33mCons\u001b[39m(ammonite.$sess.cmd0$Helper$IntegerN@2a5fe989, End())\n",
       ")"
      ]
     },
     "execution_count": 32,
     "metadata": {},
     "output_type": "execute_result"
    }
   ],
   "source": [
    "val intList: MyList[IntegerN] = Cons(`1`, Cons(`-1`, End()))\n",
    "// `prepend_2/3`(intList)"
   ]
  },
  {
   "cell_type": "markdown",
   "metadata": {},
   "source": [
    "The very same compiler gives us a clue to solve the problem: \"You may wish to define A as +A instead.\" Let's listen to it and make that change: "
   ]
  },
  {
   "cell_type": "code",
   "execution_count": 49,
   "metadata": {},
   "outputs": [
    {
     "data": {
      "text/plain": [
       "defined \u001b[32mclass\u001b[39m \u001b[36mMyList\u001b[39m\n",
       "defined \u001b[32mclass\u001b[39m \u001b[36mEnd\u001b[39m\n",
       "defined \u001b[32mclass\u001b[39m \u001b[36mCons\u001b[39m\n",
       "defined \u001b[32mfunction\u001b[39m \u001b[36m`prepend_2/3`\u001b[39m\n",
       "\u001b[36mintList\u001b[39m: \u001b[32mMyList\u001b[39m[\u001b[32mIntegerN\u001b[39m] = \u001b[33mCons\u001b[39m(\n",
       "  ammonite.$sess.cmd0$Helper$Natural@593ff3ac,\n",
       "  \u001b[33mCons\u001b[39m(ammonite.$sess.cmd0$Helper$IntegerN@2a5fe989, End())\n",
       ")"
      ]
     },
     "execution_count": 49,
     "metadata": {},
     "output_type": "execute_result"
    }
   ],
   "source": [
    "sealed abstract class MyList[+A]\n",
    "case class End[A]() extends MyList[A]\n",
    "case class Cons[A](head: A, tail: MyList[A]) extends MyList[A]\n",
    "\n",
    "def `prepend_2/3`(l: MyList[Rational]): MyList[Rational] = \n",
    "    Cons(`2/3`, l)\n",
    "\n",
    "val intList: MyList[IntegerN] = Cons(`1`, Cons(`-1`, End()))"
   ]
  },
  {
   "cell_type": "markdown",
   "metadata": {},
   "source": [
    "and now it works:"
   ]
  },
  {
   "cell_type": "code",
   "execution_count": 34,
   "metadata": {},
   "outputs": [
    {
     "data": {
      "text/plain": [
       "\u001b[36mintList\u001b[39m: \u001b[32mMyList\u001b[39m[\u001b[32mIntegerN\u001b[39m] = \u001b[33mCons\u001b[39m(\n",
       "  ammonite.$sess.cmd0$Helper$Natural@593ff3ac,\n",
       "  \u001b[33mCons\u001b[39m(ammonite.$sess.cmd0$Helper$IntegerN@2a5fe989, End())\n",
       ")\n",
       "\u001b[36mres33_1\u001b[39m: \u001b[32mMyList\u001b[39m[\u001b[32mRational\u001b[39m] = \u001b[33mCons\u001b[39m(\n",
       "  ammonite.$sess.cmd0$Helper$Rational@3a318c06,\n",
       "  \u001b[33mCons\u001b[39m(\n",
       "    ammonite.$sess.cmd0$Helper$Natural@593ff3ac,\n",
       "    \u001b[33mCons\u001b[39m(ammonite.$sess.cmd0$Helper$IntegerN@2a5fe989, End())\n",
       "  )\n",
       ")"
      ]
     },
     "execution_count": 34,
     "metadata": {},
     "output_type": "execute_result"
    }
   ],
   "source": [
    "`prepend_2/3`(intList)"
   ]
  },
  {
   "cell_type": "markdown",
   "metadata": {},
   "source": [
    "How can we generalise the function `prepend_2/3`?  This should be ok:"
   ]
  },
  {
   "cell_type": "code",
   "execution_count": 44,
   "metadata": {},
   "outputs": [
    {
     "data": {
      "text/plain": [
       "defined \u001b[32mfunction\u001b[39m \u001b[36mprepend\u001b[39m"
      ]
     },
     "execution_count": 44,
     "metadata": {},
     "output_type": "execute_result"
    }
   ],
   "source": [
    "def prepend[N](l: MyList[N], r: N): MyList[N] = \n",
    "    Cons(r, l)"
   ]
  },
  {
   "cell_type": "markdown",
   "metadata": {},
   "source": [
    "Indeed, it supports those cases in which the actual types of `r` and `l` are different but compatible. For instance:"
   ]
  },
  {
   "cell_type": "code",
   "execution_count": 45,
   "metadata": {},
   "outputs": [
    {
     "data": {
      "text/plain": [
       "\u001b[36mres44_0\u001b[39m: \u001b[32mMyList\u001b[39m[\u001b[32mReal\u001b[39m] = \u001b[33mCons\u001b[39m(\n",
       "  ammonite.$sess.cmd0$Helper$Real@66d2a11f,\n",
       "  \u001b[33mCons\u001b[39m(\n",
       "    ammonite.$sess.cmd0$Helper$Natural@593ff3ac,\n",
       "    \u001b[33mCons\u001b[39m(ammonite.$sess.cmd0$Helper$IntegerN@2a5fe989, End())\n",
       "  )\n",
       ")\n",
       "\u001b[36mres44_1\u001b[39m: \u001b[32mMyList\u001b[39m[\u001b[32mIntegerN\u001b[39m] = \u001b[33mCons\u001b[39m(\n",
       "  ammonite.$sess.cmd0$Helper$Natural@593ff3ac,\n",
       "  \u001b[33mCons\u001b[39m(\n",
       "    ammonite.$sess.cmd0$Helper$Natural@593ff3ac,\n",
       "    \u001b[33mCons\u001b[39m(ammonite.$sess.cmd0$Helper$IntegerN@2a5fe989, End())\n",
       "  )\n",
       ")"
      ]
     },
     "execution_count": 45,
     "metadata": {},
     "output_type": "execute_result"
    }
   ],
   "source": [
    "prepend(intList, π) // since MyList[Int] <: MyList[Real]\n",
    "prepend(intList, `1`: Natural) // since Natural <: Int"
   ]
  },
  {
   "cell_type": "markdown",
   "metadata": {},
   "source": [
    "If we intend, however, to implement this function as a method class, we run into trouble:"
   ]
  },
  {
   "cell_type": "code",
   "execution_count": 38,
   "metadata": {},
   "outputs": [
    {
     "data": {
      "text/plain": [
       "defined \u001b[32mclass\u001b[39m \u001b[36mMyList\u001b[39m\n",
       "defined \u001b[32mclass\u001b[39m \u001b[36mEnd\u001b[39m\n",
       "defined \u001b[32mclass\u001b[39m \u001b[36mCons\u001b[39m"
      ]
     },
     "execution_count": 38,
     "metadata": {},
     "output_type": "execute_result"
    }
   ],
   "source": [
    "sealed abstract class MyList[+A]{\n",
    "    //def prepend(a: A): MyList[A] = \n",
    "      //  Cons(a, this)\n",
    "}\n",
    "case class End[A]() extends MyList[A]\n",
    "case class Cons[A](head: A, tail: MyList[A]) extends MyList[A]"
   ]
  },
  {
   "cell_type": "markdown",
   "metadata": {},
   "source": [
    "The problem is that, now, the type of the list is fixed in the method invocation. This implies that if we want to allow for the resulting list type to be more generic, we have to twist the method declaration a little bit with a so-called *supertype bound*:"
   ]
  },
  {
   "cell_type": "code",
   "execution_count": 50,
   "metadata": {},
   "outputs": [
    {
     "data": {
      "text/plain": [
       "defined \u001b[32mclass\u001b[39m \u001b[36mMyList\u001b[39m\n",
       "defined \u001b[32mclass\u001b[39m \u001b[36mEnd\u001b[39m\n",
       "defined \u001b[32mclass\u001b[39m \u001b[36mCons\u001b[39m\n",
       "\u001b[36mintList\u001b[39m: \u001b[32mMyList\u001b[39m[\u001b[32mIntegerN\u001b[39m] = \u001b[33mCons\u001b[39m(\n",
       "  ammonite.$sess.cmd0$Helper$Natural@593ff3ac,\n",
       "  \u001b[33mCons\u001b[39m(ammonite.$sess.cmd0$Helper$IntegerN@2a5fe989, End())\n",
       ")"
      ]
     },
     "execution_count": 50,
     "metadata": {},
     "output_type": "execute_result"
    }
   ],
   "source": [
    "sealed abstract class MyList[+A]{\n",
    "    def prepend[B >: A](a: B): MyList[B] = \n",
    "        Cons(a, this)\n",
    "}\n",
    "case class End[A]() extends MyList[A]\n",
    "case class Cons[A](head: A, tail: MyList[A]) extends MyList[A]\n",
    "\n",
    "val intList: MyList[IntegerN] = Cons(`1`, Cons(`-1`, End()))"
   ]
  },
  {
   "cell_type": "markdown",
   "metadata": {},
   "source": [
    "And now everything works:"
   ]
  },
  {
   "cell_type": "code",
   "execution_count": 52,
   "metadata": {},
   "outputs": [
    {
     "data": {
      "text/plain": [
       "\u001b[36mres51_0\u001b[39m: \u001b[32mMyList\u001b[39m[\u001b[32mIntegerN\u001b[39m] = \u001b[33mCons\u001b[39m(\n",
       "  ammonite.$sess.cmd0$Helper$Natural@593ff3ac,\n",
       "  \u001b[33mCons\u001b[39m(\n",
       "    ammonite.$sess.cmd0$Helper$Natural@593ff3ac,\n",
       "    \u001b[33mCons\u001b[39m(ammonite.$sess.cmd0$Helper$IntegerN@2a5fe989, End())\n",
       "  )\n",
       ")\n",
       "\u001b[36mres51_1\u001b[39m: \u001b[32mMyList\u001b[39m[\u001b[32mReal\u001b[39m] = \u001b[33mCons\u001b[39m(\n",
       "  ammonite.$sess.cmd0$Helper$Real@66d2a11f,\n",
       "  \u001b[33mCons\u001b[39m(\n",
       "    ammonite.$sess.cmd0$Helper$Natural@593ff3ac,\n",
       "    \u001b[33mCons\u001b[39m(ammonite.$sess.cmd0$Helper$IntegerN@2a5fe989, End())\n",
       "  )\n",
       ")"
      ]
     },
     "execution_count": 52,
     "metadata": {},
     "output_type": "execute_result"
    }
   ],
   "source": [
    "intList.prepend[IntegerN](`1`)\n",
    "intList.prepend[Real](π)"
   ]
  },
  {
   "cell_type": "markdown",
   "metadata": {},
   "source": [
    "Last, similarly to super-type bounds, we may also use subtype bounds, as in the following declaration, where we only allow the method to work for `Rational`s:"
   ]
  },
  {
   "cell_type": "code",
   "execution_count": 56,
   "metadata": {},
   "outputs": [
    {
     "data": {
      "text/plain": [
       "defined \u001b[32mfunction\u001b[39m \u001b[36mprependS\u001b[39m"
      ]
     },
     "execution_count": 56,
     "metadata": {},
     "output_type": "execute_result"
    }
   ],
   "source": [
    "def prependS[N <: Rational](l: MyList[N], r: N): MyList[N] = \n",
    "    Cons(r, l)"
   ]
  },
  {
   "cell_type": "markdown",
   "metadata": {},
   "source": [
    "Now, if we pass a list of integers it will work in the same way as in the previous definition of `prepend`: "
   ]
  },
  {
   "cell_type": "code",
   "execution_count": 57,
   "metadata": {},
   "outputs": [
    {
     "data": {
      "text/plain": [
       "\u001b[36mres56\u001b[39m: \u001b[32mMyList\u001b[39m[\u001b[32mIntegerN\u001b[39m] = \u001b[33mCons\u001b[39m(\n",
       "  ammonite.$sess.cmd0$Helper$IntegerN@2a5fe989,\n",
       "  \u001b[33mCons\u001b[39m(\n",
       "    ammonite.$sess.cmd0$Helper$Natural@593ff3ac,\n",
       "    \u001b[33mCons\u001b[39m(ammonite.$sess.cmd0$Helper$IntegerN@2a5fe989, End())\n",
       "  )\n",
       ")"
      ]
     },
     "execution_count": 57,
     "metadata": {},
     "output_type": "execute_result"
    }
   ],
   "source": [
    "prependS(intList,`-1`)"
   ]
  },
  {
   "cell_type": "markdown",
   "metadata": {},
   "source": [
    "but it will fail with lists of reals:"
   ]
  },
  {
   "cell_type": "code",
   "execution_count": 57,
   "metadata": {},
   "outputs": [],
   "source": [
    "// prependS(Cons(π, End()), π)"
   ]
  },
  {
   "cell_type": "markdown",
   "metadata": {},
   "source": [
    "But, which is the difference of `prependS` with the following monomorphic function?"
   ]
  },
  {
   "cell_type": "code",
   "execution_count": 58,
   "metadata": {},
   "outputs": [
    {
     "data": {
      "text/plain": [
       "defined \u001b[32mfunction\u001b[39m \u001b[36mprependR\u001b[39m"
      ]
     },
     "execution_count": 58,
     "metadata": {},
     "output_type": "execute_result"
    }
   ],
   "source": [
    "def prependR(l: MyList[Rational], r: Rational): MyList[Rational] = \n",
    "    Cons(r, l)"
   ]
  },
  {
   "cell_type": "markdown",
   "metadata": {},
   "source": [
    "Certainly, this function will allow us to pass the same types of values:"
   ]
  },
  {
   "cell_type": "code",
   "execution_count": 59,
   "metadata": {},
   "outputs": [
    {
     "data": {
      "text/plain": [
       "\u001b[36mres58\u001b[39m: \u001b[32mMyList\u001b[39m[\u001b[32mRational\u001b[39m] = \u001b[33mCons\u001b[39m(\n",
       "  ammonite.$sess.cmd0$Helper$Natural@593ff3ac,\n",
       "  \u001b[33mCons\u001b[39m(\n",
       "    ammonite.$sess.cmd0$Helper$Natural@593ff3ac,\n",
       "    \u001b[33mCons\u001b[39m(ammonite.$sess.cmd0$Helper$IntegerN@2a5fe989, End())\n",
       "  )\n",
       ")"
      ]
     },
     "execution_count": 59,
     "metadata": {},
     "output_type": "execute_result"
    }
   ],
   "source": [
    "prependR(intList: MyList[IntegerN], `1`: Natural)"
   ]
  },
  {
   "cell_type": "markdown",
   "metadata": {},
   "source": [
    "but note that the resulting type is too general, compared to the one obtained here:"
   ]
  },
  {
   "cell_type": "code",
   "execution_count": 60,
   "metadata": {},
   "outputs": [
    {
     "data": {
      "text/plain": [
       "\u001b[36mres59\u001b[39m: \u001b[32mMyList\u001b[39m[\u001b[32mIntegerN\u001b[39m] = \u001b[33mCons\u001b[39m(\n",
       "  ammonite.$sess.cmd0$Helper$Natural@593ff3ac,\n",
       "  \u001b[33mCons\u001b[39m(\n",
       "    ammonite.$sess.cmd0$Helper$Natural@593ff3ac,\n",
       "    \u001b[33mCons\u001b[39m(ammonite.$sess.cmd0$Helper$IntegerN@2a5fe989, End())\n",
       "  )\n",
       ")"
      ]
     },
     "execution_count": 60,
     "metadata": {},
     "output_type": "execute_result"
    }
   ],
   "source": [
    "prependS(intList: MyList[IntegerN], `1`: Natural)"
   ]
  },
  {
   "cell_type": "markdown",
   "metadata": {},
   "source": [
    "# Futher topics"
   ]
  },
  {
   "cell_type": "markdown",
   "metadata": {},
   "source": [
    "There are many topics related to generics we may talk about (for some hours more :):\n",
    "* Higher-kinded generics. So-called type constructor parameters. \n",
    "* The curry-howard isomorphism. Showing how generic signatures correspond to propositions of second-order logic, and their implementations to proofs.\n",
    "* Parametric definitions of ADTs. How we can give isomorphic definitions of tuples and eithers without data types at all.\n",
    "* Generics in dotty. Improvements over the Scala compiler related to generics. "
   ]
  },
  {
   "cell_type": "markdown",
   "metadata": {},
   "source": [
    "# Conclusion"
   ]
  },
  {
   "cell_type": "markdown",
   "metadata": {},
   "source": [
    "Some takeaways: \n",
    "* Generic parameters are additional parameters of types and functions, even if you don't see them in method invocations or instance declarations!\n",
    "* Use them whenever you want your code to be more modular and more reusable. \n",
    "* Take generic signatures seriously, and don't cheat (even if the Scala compiler allows you to be impure)!\n",
    "* Variance and contravariance annotations are difficult to reason about. Try to avoid them ... by not using inheritance!"
   ]
  }
 ],
 "metadata": {
  "kernelspec": {
   "display_name": "Scala",
   "language": "scala",
   "name": "scala"
  },
  "language_info": {
   "codemirror_mode": "text/x-scala",
   "file_extension": ".scala",
   "mimetype": "text/x-scala",
   "name": "scala",
   "nbconvert_exporter": "script",
   "version": "2.13.0"
  }
 },
 "nbformat": 4,
 "nbformat_minor": 2
}

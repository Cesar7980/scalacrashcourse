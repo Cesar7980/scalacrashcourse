{
 "cells": [
  {
   "cell_type": "code",
   "execution_count": 1,
   "metadata": {},
   "outputs": [
    {
     "data": {
      "text/plain": [
       "\u001b[32mimport \u001b[39m\u001b[36m$ivy.$                               \n",
       "\u001b[39m\n",
       "\u001b[32mimport \u001b[39m\u001b[36morg.scalatest._\u001b[39m"
      ]
     },
     "execution_count": 1,
     "metadata": {},
     "output_type": "execute_result"
    }
   ],
   "source": [
    "import $ivy.`org.scalatest::scalatest:3.0.5`\n",
    "import org.scalatest._"
   ]
  },
  {
   "cell_type": "code",
   "execution_count": null,
   "metadata": {},
   "outputs": [],
   "source": [
    "## PART I\n",
    "\n",
    "Take a look at Option's API and test the following methods\n",
    "http://www.scala-lang.org/api/current/scala/Option.html"
   ]
  },
  {
   "cell_type": "code",
   "execution_count": 2,
   "metadata": {},
   "outputs": [
    {
     "name": "stdout",
     "output_type": "stream",
     "text": [
      "\u001b[32mcmd1$Helper$Test:\u001b[0m\n",
      "\u001b[32mTesting Option[A]\u001b[0m\n",
      "\u001b[32m  contains\u001b[0m\n",
      "\u001b[32m  - should return true if it's a Some and the value matches\u001b[0m\n",
      "\u001b[32m  - should return false if it's a Some but the value doesn't match\u001b[0m\n",
      "\u001b[32m  - should return false if it's a None\u001b[0m\n",
      "\u001b[32m  getOrElse\u001b[0m\n",
      "\u001b[32m  - should return the content if it's a Some\u001b[0m\n",
      "\u001b[32m  - should return the alternative if it's a None\u001b[0m\n",
      "\u001b[32m  - shouldn't compile if the alternative doesn't type check\u001b[0m\n",
      "\u001b[32m  orElse\u001b[0m\n",
      "\u001b[32m  - should return itself if it's a Some\u001b[0m\n",
      "\u001b[32m  - should return the alternative if it's a None\u001b[0m\n",
      "\u001b[32m  - shouldn't compile if the alternative doesn't type check\u001b[0m\n"
     ]
    },
    {
     "data": {
      "text/plain": [
       "defined \u001b[32mclass\u001b[39m \u001b[36mTest\u001b[39m"
      ]
     },
     "execution_count": 2,
     "metadata": {},
     "output_type": "execute_result"
    }
   ],
   "source": [
    "case class Test() extends FunSpec with Matchers {\n",
    "  describe(\"Testing Option[A]\") {\n",
    "    describe(\"contains\") {\n",
    "      it(\"should return true if it's a Some and the value matches\") {\n",
    "      }\n",
    "      it(\"should return false if it's a Some but the value doesn't match\") {\n",
    "      }\n",
    "      it(\"should return false if it's a None\") {\n",
    "      }\n",
    "    }\n",
    "    describe(\"getOrElse\") {\n",
    "      it(\"should return the content if it's a Some\") {\n",
    "      }\n",
    "      it(\"should return the alternative if it's a None\") {\n",
    "      }\n",
    "      it(\"shouldn't compile if the alternative doesn't type check\") {\n",
    "      }\n",
    "    }\n",
    "    describe(\"orElse\") {\n",
    "      it(\"should return itself if it's a Some\") {\n",
    "      }\n",
    "      it(\"should return the alternative if it's a None\") {\n",
    "      }\n",
    "      it(\"shouldn't compile if the alternative doesn't type check\") {\n",
    "      }\n",
    "    }\n",
    "  }\n",
    "}\n",
    "\n",
    "run(Test())"
   ]
  },
  {
   "cell_type": "code",
   "execution_count": null,
   "metadata": {},
   "outputs": [],
   "source": []
  }
 ],
 "metadata": {
  "kernelspec": {
   "display_name": "Scala",
   "language": "scala",
   "name": "scala"
  },
  "language_info": {
   "codemirror_mode": "text/x-scala",
   "file_extension": ".scala",
   "mimetype": "text/x-scala",
   "name": "scala",
   "nbconvert_exporter": "script",
   "version": "2.12.8"
  }
 },
 "nbformat": 4,
 "nbformat_minor": 2
}

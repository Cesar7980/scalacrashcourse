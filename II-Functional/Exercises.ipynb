{
 "cells": [
  {
   "cell_type": "code",
   "execution_count": 1,
   "metadata": {},
   "outputs": [
    {
     "data": {
      "text/plain": [
       "\u001b[32mimport \u001b[39m\u001b[36m$ivy.$                               \n",
       "\u001b[39m\n",
       "\u001b[32mimport \u001b[39m\u001b[36morg.scalatest._\u001b[39m"
      ]
     },
     "execution_count": 1,
     "metadata": {},
     "output_type": "execute_result"
    }
   ],
   "source": [
    "import $ivy.`org.scalatest::scalatest:3.0.5`\n",
    "import org.scalatest._"
   ]
  },
  {
   "cell_type": "code",
   "execution_count": 2,
   "metadata": {},
   "outputs": [
    {
     "data": {
      "text/plain": [
       "defined \u001b[32mclass\u001b[39m \u001b[36mBike\u001b[39m"
      ]
     },
     "execution_count": 2,
     "metadata": {},
     "output_type": "execute_result"
    }
   ],
   "source": [
    "case class Bike(gear: Int, cadence: Int, speed: Int)"
   ]
  },
  {
   "cell_type": "code",
   "execution_count": 3,
   "metadata": {},
   "outputs": [
    {
     "data": {
      "text/plain": [
       "\u001b[36mbikes\u001b[39m: \u001b[32mList\u001b[39m[\u001b[32mBike\u001b[39m] = \u001b[33mList\u001b[39m(\n",
       "  \u001b[33mBike\u001b[39m(\u001b[32m1\u001b[39m, \u001b[32m0\u001b[39m, \u001b[32m5\u001b[39m),\n",
       "  \u001b[33mBike\u001b[39m(\u001b[32m2\u001b[39m, \u001b[32m10\u001b[39m, \u001b[32m8\u001b[39m),\n",
       "  \u001b[33mBike\u001b[39m(\u001b[32m4\u001b[39m, \u001b[32m25\u001b[39m, \u001b[32m30\u001b[39m),\n",
       "  \u001b[33mBike\u001b[39m(\u001b[32m6\u001b[39m, \u001b[32m1\u001b[39m, \u001b[32m45\u001b[39m)\n",
       ")"
      ]
     },
     "execution_count": 3,
     "metadata": {},
     "output_type": "execute_result"
    }
   ],
   "source": [
    "val bikes: List[Bike] = List(\n",
    "    Bike(1,  0,  5),\n",
    "    Bike(2, 10,  8),\n",
    "    Bike(4, 25, 30),\n",
    "    Bike(6,  1, 45))"
   ]
  },
  {
   "cell_type": "markdown",
   "metadata": {},
   "source": [
    "Check `List` API to see the methods we'll be using during the next\n",
    "exercises:\n",
    "\n",
    "http://www.scala-lang.org/api/current/#scala.collection.immutable.List\n",
    "\n",
    "## PART I\n",
    "Filter all bikes that have an odd gear.\n",
    "\n",
    "TIP: The module operator in Scala is `%`, e.g., `5 % 3 = 2`"
   ]
  },
  {
   "cell_type": "code",
   "execution_count": null,
   "metadata": {},
   "outputs": [],
   "source": [
    "val oddBikes: List[Bike] = bikes.filter(???)\n",
    "\n",
    "case class Test1(oddBikes: List[Bike]) extends FunSpec with Matchers {\n",
    "    describe(\"PART I\") {\n",
    "    it(\"should have only bikes with odd gear\") {\n",
    "      oddBikes shouldBe Bike(1, 0, 5) :: Nil\n",
    "    }\n",
    "  }\n",
    "}\n",
    "\n",
    "run( new Test1(oddBikes))"
   ]
  },
  {
   "cell_type": "markdown",
   "metadata": {},
   "source": [
    "## PART II\n",
    "\n",
    "Find the bike with the most `speed`. Use `reduce` method to get it."
   ]
  },
  {
   "cell_type": "code",
   "execution_count": null,
   "metadata": {},
   "outputs": [],
   "source": [
    "val speediest: Bike = ???\n",
    "\n",
    "case class Test2(speediest: Bike) extends FunSpec with Matchers {\n",
    "  describe(\"PART II\") {\n",
    "    it(\"should get the bike with the most speed\") {\n",
    "      speediest shouldBe Bike(6,  1, 45)\n",
    "    }\n",
    "  }  \n",
    "}\n",
    "\n",
    "run(new Test2(speediest))"
   ]
  },
  {
   "cell_type": "markdown",
   "metadata": {},
   "source": [
    "## PART III\n",
    "\n",
    "Sum all bikes cadences. Use `foldLeft` method to get it."
   ]
  },
  {
   "cell_type": "code",
   "execution_count": null,
   "metadata": {},
   "outputs": [],
   "source": [
    "val cadences: Int = bikes.foldLeft(???)(???)\n",
    "\n",
    "case class Test2(cadences: Int) extends FunSpec with Matchers {\n",
    "   describe(\"PART III\") {\n",
    "    it(\"should get the sum of all cadences\") {\n",
    "      cadences shouldBe 36\n",
    "    }\n",
    "  } \n",
    "}"
   ]
  }
 ],
 "metadata": {
  "kernelspec": {
   "display_name": "Scala 2.12",
   "language": "scala",
   "name": "scala212"
  },
  "language_info": {
   "codemirror_mode": "text/x-scala",
   "file_extension": ".scala",
   "mimetype": "text/x-scala",
   "name": "scala",
   "nbconvert_exporter": "script",
   "version": "2.12.8"
  }
 },
 "nbformat": 4,
 "nbformat_minor": 2
}

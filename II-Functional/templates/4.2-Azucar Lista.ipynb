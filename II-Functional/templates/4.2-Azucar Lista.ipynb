{
 "cells": [
  {
   "cell_type": "markdown",
   "metadata": {},
   "source": [
    "# Syntactic suggar in our List"
   ]
  },
  {
   "cell_type": "markdown",
   "metadata": {},
   "source": [
    "0. Partimos de la lista del módulo 3, incluyendo los ejercicios en notación infija, y utilizamos azúcar sintáctico para las funciones."
   ]
  },
  {
   "cell_type": "code",
   "execution_count": 1,
   "metadata": {},
   "outputs": [
    {
     "data": {
      "text/plain": [
       "defined \u001b[32mtrait\u001b[39m \u001b[36mLista\u001b[39m\n",
       "defined \u001b[32mclass\u001b[39m \u001b[36mCons\u001b[39m\n",
       "defined \u001b[32mclass\u001b[39m \u001b[36mFin\u001b[39m"
      ]
     },
     "execution_count": 1,
     "metadata": {},
     "output_type": "execute_result"
    }
   ],
   "source": [
    "sealed trait Lista {\n",
    "    def insertar(head: Int): Lista = new Cons(head, this)\n",
    "\n",
    "    def suma: Int = this match {\n",
    "      case Cons(cabeza, resto) => cabeza + resto.suma\n",
    "      case Fin() => 0\n",
    "    }\n",
    "\n",
    "    def map(f: Int => Int): Lista = this match {\n",
    "      case Cons(cabeza, resto) => Cons(f(cabeza), resto.map(f))\n",
    "      case Fin() => Fin()\n",
    "    }\n",
    "\n",
    "    def concatenar(l: Lista): Lista = this match {\n",
    "      case Cons(cabeza, resto) => Cons(cabeza, resto.concatenar(l))\n",
    "      case Fin() => l\n",
    "    }\n",
    "\n",
    "    def existe(f: Int => Boolean): Boolean = this match {\n",
    "      case Cons(cabeza, _) if f(cabeza) => true\n",
    "      case Cons(_, resto) => resto.existe(f)\n",
    "      case Fin() => false\n",
    "    }\n",
    "\n",
    "    def contiene(i: Int): Boolean = {\n",
    "      existe(j => i == j)\n",
    "    }\n",
    "\n",
    "    def tirarMientras(f: Int => Boolean): Lista = this match {\n",
    "      case Cons(cabeza, resto) if f(cabeza) => resto.tirarMientras(f)\n",
    "      case _ => this\n",
    "    }\n",
    "  }\n",
    "\n",
    "  case class Cons(head: Int, tail: Lista) extends Lista\n",
    "  case class Fin() extends Lista"
   ]
  },
  {
   "cell_type": "markdown",
   "metadata": {},
   "source": [
    "#### 1.Renombramos métodos utilizando operadores simbólicos."
   ]
  },
  {
   "cell_type": "code",
   "execution_count": null,
   "metadata": {},
   "outputs": [],
   "source": []
  },
  {
   "cell_type": "markdown",
   "metadata": {},
   "source": [
    "#### 2. Aplicación de parámetros por defecto en el constructor de `Cons`."
   ]
  },
  {
   "cell_type": "code",
   "execution_count": null,
   "metadata": {},
   "outputs": [],
   "source": []
  },
  {
   "cell_type": "markdown",
   "metadata": {},
   "source": [
    "#### 3. Método variadico `crear` para creación de listas."
   ]
  },
  {
   "cell_type": "code",
   "execution_count": null,
   "metadata": {},
   "outputs": [],
   "source": []
  },
  {
   "cell_type": "markdown",
   "metadata": {},
   "source": [
    "#### 4. Renombramiento de `crear` por `apply`"
   ]
  },
  {
   "cell_type": "code",
   "execution_count": null,
   "metadata": {},
   "outputs": [],
   "source": []
  }
 ],
 "metadata": {
  "kernelspec": {
   "display_name": "Scala",
   "language": "scala",
   "name": "scala"
  },
  "language_info": {
   "codemirror_mode": "text/x-scala",
   "file_extension": ".scala",
   "mimetype": "text/x-scala",
   "name": "scala",
   "nbconvert_exporter": "script",
   "version": "2.11.12"
  }
 },
 "nbformat": 4,
 "nbformat_minor": 2
}

{
 "cells": [
  {
   "cell_type": "markdown",
   "metadata": {},
   "source": [
    "# Syntactic suggar in our List"
   ]
  },
  {
   "cell_type": "markdown",
   "metadata": {},
   "source": [
    "0. Partimos de la lista del módulo 3, incluyendo los ejercicios en notación infija, y utilizamos azúcar sintáctico para las funciones."
   ]
  },
  {
   "cell_type": "code",
   "execution_count": 1,
   "metadata": {},
   "outputs": [
    {
     "data": {
      "text/plain": [
       "defined \u001b[32mtrait\u001b[39m \u001b[36mLista\u001b[39m\n",
       "defined \u001b[32mclass\u001b[39m \u001b[36mCons\u001b[39m\n",
       "defined \u001b[32mclass\u001b[39m \u001b[36mFin\u001b[39m"
      ]
     },
     "execution_count": 1,
     "metadata": {},
     "output_type": "execute_result"
    }
   ],
   "source": [
    "sealed trait Lista {\n",
    "    def insertar(head: Int): Lista = new Cons(head, this)\n",
    "\n",
    "    def suma: Int = this match {\n",
    "      case Cons(cabeza, resto) => cabeza + resto.suma\n",
    "      case Fin() => 0\n",
    "    }\n",
    "\n",
    "    def map(f: Int => Int): Lista = this match {\n",
    "      case Cons(cabeza, resto) => Cons(f(cabeza), resto.map(f))\n",
    "      case Fin() => Fin()\n",
    "    }\n",
    "\n",
    "    def concatenar(l: Lista): Lista = this match {\n",
    "      case Cons(cabeza, resto) => Cons(cabeza, resto.concatenar(l))\n",
    "      case Fin() => l\n",
    "    }\n",
    "\n",
    "    def existe(f: Int => Boolean): Boolean = this match {\n",
    "      case Cons(cabeza, _) if f(cabeza) => true\n",
    "      case Cons(_, resto) => resto.existe(f)\n",
    "      case Fin() => false\n",
    "    }\n",
    "\n",
    "    def contiene(i: Int): Boolean = {\n",
    "      existe(j => i == j)\n",
    "    }\n",
    "\n",
    "    def tirarMientras(f: Int => Boolean): Lista = this match {\n",
    "      case Cons(cabeza, resto) if f(cabeza) => resto.tirarMientras(f)\n",
    "      case _ => this\n",
    "    }\n",
    "  }\n",
    "\n",
    "  case class Cons(head: Int, tail: Lista) extends Lista\n",
    "  case class Fin() extends Lista"
   ]
  },
  {
   "cell_type": "markdown",
   "metadata": {},
   "source": [
    "#### 1.Renombramos métodos utilizando operadores simbólicos."
   ]
  },
  {
   "cell_type": "code",
   "execution_count": 1,
   "metadata": {},
   "outputs": [
    {
     "data": {
      "text/plain": [
       "defined \u001b[32mtrait\u001b[39m \u001b[36mLista\u001b[39m\n",
       "defined \u001b[32mclass\u001b[39m \u001b[36mCons\u001b[39m\n",
       "defined \u001b[32mclass\u001b[39m \u001b[36mFin\u001b[39m"
      ]
     },
     "execution_count": 1,
     "metadata": {},
     "output_type": "execute_result"
    }
   ],
   "source": [
    "sealed trait Lista {\n",
    "    \n",
    "    def ::(head: Int): Lista = new Cons(head, this)\n",
    "\n",
    "    def suma: Int = this match {\n",
    "      case Cons(cabeza, resto) => cabeza + resto.suma\n",
    "      case Fin() => 0\n",
    "    }\n",
    "\n",
    "    def map(f: Int => Int): Lista = this match {\n",
    "      case Cons(cabeza, resto) => Cons(f(cabeza), resto.map(f))\n",
    "      case Fin() => Fin()\n",
    "    }\n",
    "\n",
    "    def ++(l: Lista): Lista = this match {\n",
    "      case Cons(cabeza, resto) => Cons(cabeza, resto ++ l)\n",
    "      case Fin() => l\n",
    "    }\n",
    "\n",
    "    def existe(f: Int => Boolean): Boolean = this match {\n",
    "      case Cons(cabeza, _) if f(cabeza) => true\n",
    "      case Cons(_, resto) => resto.existe(f)\n",
    "      case Fin() => false\n",
    "    }\n",
    "\n",
    "    def contiene(i: Int): Boolean = {\n",
    "      existe(j => i == j)\n",
    "    }\n",
    "\n",
    "    def tirarMientras(f: Int => Boolean): Lista = this match {\n",
    "      case Cons(cabeza, resto) if f(cabeza) => resto.tirarMientras(f)\n",
    "      case _ => this\n",
    "    }\n",
    "  }\n",
    "\n",
    "  case class Cons(head: Int, tail: Lista) extends Lista\n",
    "  case class Fin() extends Lista"
   ]
  },
  {
   "cell_type": "code",
   "execution_count": 3,
   "metadata": {},
   "outputs": [
    {
     "data": {
      "text/plain": [
       "\u001b[36mres2\u001b[39m: \u001b[32mLista\u001b[39m = \u001b[33mCons\u001b[39m(\u001b[32m1\u001b[39m, \u001b[33mCons\u001b[39m(\u001b[32m2\u001b[39m, \u001b[33mCons\u001b[39m(\u001b[32m3\u001b[39m, \u001b[33mCons\u001b[39m(\u001b[32m4\u001b[39m, Fin()))))"
      ]
     },
     "execution_count": 3,
     "metadata": {},
     "output_type": "execute_result"
    }
   ],
   "source": [
    "Cons(1, Cons(2, Fin())) ++ Cons(3, Cons(4, Fin()))"
   ]
  },
  {
   "cell_type": "code",
   "execution_count": 4,
   "metadata": {},
   "outputs": [
    {
     "data": {
      "text/plain": [
       "\u001b[36mres3\u001b[39m: \u001b[32mLista\u001b[39m = \u001b[33mCons\u001b[39m(\u001b[32m1\u001b[39m, \u001b[33mCons\u001b[39m(\u001b[32m2\u001b[39m, \u001b[33mCons\u001b[39m(\u001b[32m3\u001b[39m, \u001b[33mCons\u001b[39m(\u001b[32m4\u001b[39m, Fin()))))"
      ]
     },
     "execution_count": 4,
     "metadata": {},
     "output_type": "execute_result"
    }
   ],
   "source": [
    "(1 :: 2 :: Fin()) ++ (3 :: 4 :: Fin())"
   ]
  },
  {
   "cell_type": "markdown",
   "metadata": {},
   "source": [
    "#### 2. Aplicación de parámetros por defecto en el constructor de `Cons`."
   ]
  },
  {
   "cell_type": "code",
   "execution_count": 10,
   "metadata": {},
   "outputs": [
    {
     "data": {
      "text/plain": [
       "defined \u001b[32mtrait\u001b[39m \u001b[36mLista\u001b[39m\n",
       "defined \u001b[32mclass\u001b[39m \u001b[36mCons\u001b[39m\n",
       "defined \u001b[32mclass\u001b[39m \u001b[36mFin\u001b[39m"
      ]
     },
     "execution_count": 10,
     "metadata": {},
     "output_type": "execute_result"
    }
   ],
   "source": [
    "sealed trait Lista {\n",
    "    \n",
    "    def ::(head: Int): Lista = new Cons(head, this)\n",
    "\n",
    "    def suma: Int = this match {\n",
    "      case Cons(cabeza, resto) => cabeza + resto.suma\n",
    "      case Fin() => 0\n",
    "    }\n",
    "\n",
    "    def map(f: Int => Int): Lista = this match {\n",
    "      case Cons(cabeza, resto) => Cons(f(cabeza), resto.map(f))\n",
    "      case Fin() => Fin()\n",
    "    }\n",
    "\n",
    "    def ++(l: Lista): Lista = this match {\n",
    "      case Cons(cabeza, resto) => Cons(cabeza, resto ++ l)\n",
    "      case Fin() => l\n",
    "    }\n",
    "\n",
    "    def existe(f: Int => Boolean): Boolean = this match {\n",
    "      case Cons(cabeza, _) if f(cabeza) => true\n",
    "      case Cons(_, resto) => resto.existe(f)\n",
    "      case Fin() => false\n",
    "    }\n",
    "\n",
    "    def contiene(i: Int): Boolean = {\n",
    "      existe(j => i == j)\n",
    "    }\n",
    "\n",
    "    def tirarMientras(f: Int => Boolean): Lista = this match {\n",
    "      case Cons(cabeza, resto) if f(cabeza) => resto.tirarMientras(f)\n",
    "      case _ => this\n",
    "    }\n",
    "  }\n",
    "\n",
    "  case class Cons(head: Int, tail: Lista = Fin()) extends Lista\n",
    "  case class Fin() extends Lista"
   ]
  },
  {
   "cell_type": "code",
   "execution_count": 8,
   "metadata": {},
   "outputs": [
    {
     "data": {
      "text/plain": [
       "\u001b[36mres7\u001b[39m: \u001b[32mCons\u001b[39m = \u001b[33mCons\u001b[39m(\u001b[32m1\u001b[39m, \u001b[33mCons\u001b[39m(\u001b[32m2\u001b[39m, Fin()))"
      ]
     },
     "execution_count": 8,
     "metadata": {},
     "output_type": "execute_result"
    }
   ],
   "source": [
    "Cons(1, Cons(2))"
   ]
  },
  {
   "cell_type": "code",
   "execution_count": 9,
   "metadata": {},
   "outputs": [
    {
     "data": {
      "text/plain": [
       "\u001b[36mres8_0\u001b[39m: \u001b[32mLista\u001b[39m = \u001b[33mCons\u001b[39m(\u001b[32m1\u001b[39m, \u001b[33mCons\u001b[39m(\u001b[32m2\u001b[39m, Fin()))\n",
       "\u001b[36mres8_1\u001b[39m: \u001b[32mLista\u001b[39m = \u001b[33mCons\u001b[39m(\u001b[32m1\u001b[39m, \u001b[33mCons\u001b[39m(\u001b[32m2\u001b[39m, Fin()))"
      ]
     },
     "execution_count": 9,
     "metadata": {},
     "output_type": "execute_result"
    }
   ],
   "source": [
    "1 :: 2 :: Fin()\n",
    "1 :: Cons(2)"
   ]
  },
  {
   "cell_type": "markdown",
   "metadata": {},
   "source": [
    "#### 3. Método variadico `crear` para creación de listas."
   ]
  },
  {
   "cell_type": "code",
   "execution_count": 12,
   "metadata": {},
   "outputs": [
    {
     "data": {
      "text/plain": [
       "defined \u001b[32mobject\u001b[39m \u001b[36mLista\u001b[39m"
      ]
     },
     "execution_count": 12,
     "metadata": {},
     "output_type": "execute_result"
    }
   ],
   "source": [
    "object Lista {\n",
    "  def crear(xs: Int*): Lista =\n",
    "    if (xs.isEmpty) Fin() else Cons(xs.head, Lista.crear(xs.tail:_*))\n",
    "}"
   ]
  },
  {
   "cell_type": "code",
   "execution_count": 13,
   "metadata": {},
   "outputs": [
    {
     "data": {
      "text/plain": [
       "\u001b[36mres12\u001b[39m: \u001b[32mLista\u001b[39m = \u001b[33mCons\u001b[39m(\u001b[32m1\u001b[39m, \u001b[33mCons\u001b[39m(\u001b[32m2\u001b[39m, \u001b[33mCons\u001b[39m(\u001b[32m3\u001b[39m, \u001b[33mCons\u001b[39m(\u001b[32m4\u001b[39m, Fin()))))"
      ]
     },
     "execution_count": 13,
     "metadata": {},
     "output_type": "execute_result"
    }
   ],
   "source": [
    "Lista.crear(1, 2, 3, 4) // [1, 2, 3, 4]"
   ]
  },
  {
   "cell_type": "markdown",
   "metadata": {},
   "source": [
    "#### 4. Renombramiento de `crear` por `apply`"
   ]
  },
  {
   "cell_type": "code",
   "execution_count": 15,
   "metadata": {},
   "outputs": [
    {
     "data": {
      "text/plain": [
       "defined \u001b[32mobject\u001b[39m \u001b[36mLista\u001b[39m"
      ]
     },
     "execution_count": 15,
     "metadata": {},
     "output_type": "execute_result"
    }
   ],
   "source": [
    "object Lista {\n",
    "  def apply(xs: Int*): Lista =\n",
    "    if (xs.isEmpty) Fin() else Cons(xs.head, Lista(xs.tail:_*))\n",
    "}"
   ]
  },
  {
   "cell_type": "code",
   "execution_count": 16,
   "metadata": {},
   "outputs": [
    {
     "data": {
      "text/plain": [
       "\u001b[36mres15\u001b[39m: \u001b[32mLista\u001b[39m = \u001b[33mCons\u001b[39m(\u001b[32m1\u001b[39m, \u001b[33mCons\u001b[39m(\u001b[32m2\u001b[39m, \u001b[33mCons\u001b[39m(\u001b[32m3\u001b[39m, \u001b[33mCons\u001b[39m(\u001b[32m4\u001b[39m, Fin()))))"
      ]
     },
     "execution_count": 16,
     "metadata": {},
     "output_type": "execute_result"
    }
   ],
   "source": [
    "Lista(1, 2, 3, 4)"
   ]
  },
  {
   "cell_type": "code",
   "execution_count": null,
   "metadata": {},
   "outputs": [],
   "source": []
  }
 ],
 "metadata": {
  "kernelspec": {
   "display_name": "Scala 2.12",
   "language": "scala",
   "name": "scala212"
  },
  "language_info": {
   "codemirror_mode": "text/x-scala",
   "file_extension": ".scala",
   "mimetype": "text/x-scala",
   "name": "scala",
   "nbconvert_exporter": "script",
   "version": "2.12.8"
  }
 },
 "nbformat": 4,
 "nbformat_minor": 2
}

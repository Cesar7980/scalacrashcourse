{
 "cells": [
  {
   "cell_type": "markdown",
   "metadata": {},
   "source": [
    "![Scala Intro](../misc/thumbnail.jpg)"
   ]
  },
  {
   "cell_type": "code",
   "execution_count": 56,
   "metadata": {},
   "outputs": [],
   "source": [
    "interp.configureCompiler(_.settings.nowarn.value = false)"
   ]
  },
  {
   "cell_type": "markdown",
   "metadata": {},
   "source": [
    "## Session Objectives\n",
    "\n",
    "1. Grasp the **fundamentals of FP** by means of Scala\n",
    "2. Learn the basics of **algebraic data types** (ADTs)\n",
    "3. Understand the implications of having **functions as first-class citizens**\n",
    "4. Get used to the **syntax** that simplifies dealing with functions"
   ]
  },
  {
   "cell_type": "markdown",
   "metadata": {},
   "source": [
    "## So, What is Functional Programming?"
   ]
  },
  {
   "cell_type": "markdown",
   "metadata": {},
   "source": [
    "Functional Programming is **\"Programming With Pure Functions\"**\n",
    "\n",
    "([According to Wikipedia](https://en.wikipedia.org/wiki/Pure_function)) A pure function is a function that has the following properties:\n",
    "1. Its return value is the same for the same arguments\n",
    "2. Its evaluation has no side effects"
   ]
  },
  {
   "cell_type": "markdown",
   "metadata": {},
   "source": [
    "#### Pure function example"
   ]
  },
  {
   "cell_type": "code",
   "execution_count": 57,
   "metadata": {},
   "outputs": [
    {
     "data": {
      "text/plain": [
       "defined \u001b[32mfunction\u001b[39m \u001b[36mpure\u001b[39m"
      ]
     },
     "execution_count": 57,
     "metadata": {},
     "output_type": "execute_result"
    }
   ],
   "source": [
    "def pure(x: Int, y: Int): Int = x + y"
   ]
  },
  {
   "cell_type": "code",
   "execution_count": 58,
   "metadata": {},
   "outputs": [
    {
     "data": {
      "text/plain": [
       "\u001b[36mres57_0\u001b[39m: \u001b[32mInt\u001b[39m = \u001b[32m3\u001b[39m\n",
       "\u001b[36mres57_1\u001b[39m: \u001b[32mInt\u001b[39m = \u001b[32m3\u001b[39m"
      ]
     },
     "execution_count": 58,
     "metadata": {},
     "output_type": "execute_result"
    }
   ],
   "source": [
    "pure(1, 2)\n",
    "pure(1, 2)"
   ]
  },
  {
   "cell_type": "markdown",
   "metadata": {},
   "source": [
    "#### Impure function example"
   ]
  },
  {
   "cell_type": "code",
   "execution_count": 59,
   "metadata": {},
   "outputs": [
    {
     "data": {
      "text/html": [
       "<div class=\"jp-RenderedText\">\n",
       "<pre><code><span style=\"color: rgb(0, 187, 187)\"><span class=\"ansi-cyan-fg\">acc</span></span>: <span style=\"color: rgb(0, 187, 0)\"><span class=\"ansi-green-fg\">Int</span></span> = <style>@keyframes fadein { from { opacity: 0; } to { opacity: 1; } }</style><span style=\"animation: fadein 2s;\"><span style=\"color: rgb(0, 187, 0)\"><span class=\"ansi-green-fg\">2</span></span></span>\n",
       "defined <span style=\"color: rgb(0, 187, 0)\"><span class=\"ansi-green-fg\">function</span></span> <span style=\"color: rgb(0, 187, 187)\"><span class=\"ansi-cyan-fg\">impure</span></span></code></pre>\n",
       "</div>"
      ],
      "text/plain": [
       "\u001b[36macc\u001b[39m: \u001b[32mInt\u001b[39m = \u001b[32m2\u001b[39m\n",
       "defined \u001b[32mfunction\u001b[39m \u001b[36mimpure\u001b[39m"
      ]
     },
     "metadata": {},
     "output_type": "display_data"
    }
   ],
   "source": [
    "var acc: Int = 0\n",
    "def impure(x: Int, y: Int): Int = {\n",
    "    acc += 1\n",
    "    x + y + acc\n",
    "}"
   ]
  },
  {
   "cell_type": "code",
   "execution_count": 60,
   "metadata": {},
   "outputs": [
    {
     "data": {
      "text/plain": [
       "\u001b[36mres59_0\u001b[39m: \u001b[32mInt\u001b[39m = \u001b[32m4\u001b[39m\n",
       "\u001b[36mres59_1\u001b[39m: \u001b[32mInt\u001b[39m = \u001b[32m5\u001b[39m"
      ]
     },
     "execution_count": 60,
     "metadata": {},
     "output_type": "execute_result"
    }
   ],
   "source": [
    "impure(1, 2)\n",
    "impure(1, 2)"
   ]
  },
  {
   "cell_type": "markdown",
   "metadata": {},
   "source": [
    "#### Immutability"
   ]
  },
  {
   "cell_type": "code",
   "execution_count": 60,
   "metadata": {},
   "outputs": [
    {
     "name": "stderr",
     "output_type": "stream",
     "text": [
      "cmd60.sc:2: reassignment to val\n",
      "val res60_1 = x = 2\n",
      "                ^Compilation Failed"
     ]
    },
    {
     "ename": "",
     "evalue": "",
     "output_type": "error",
     "traceback": [
      "Compilation Failed"
     ]
    }
   ],
   "source": [
    "val x: Int = 0\n",
    "x = 2"
   ]
  },
  {
   "cell_type": "markdown",
   "metadata": {},
   "source": [
    "#### [Why Functional Programming Matters?](https://www.cs.kent.ac.uk/people/staff/dat/miranda/whyfp90.pdf) (John Hughes)\n",
    "\n",
    "> *\"We conclude that since ***modularity*** is the key to successful programming, functional programming offers important advantages for software development.\"*"
   ]
  },
  {
   "cell_type": "markdown",
   "metadata": {},
   "source": [
    "![Indiana Jones](../misc/grial.jpg)"
   ]
  },
  {
   "cell_type": "markdown",
   "metadata": {},
   "source": [
    "## Algebraic Data Types"
   ]
  },
  {
   "cell_type": "markdown",
   "metadata": {},
   "source": [
    "* Make a data type to work with int lists"
   ]
  },
  {
   "cell_type": "code",
   "execution_count": null,
   "metadata": {},
   "outputs": [],
   "source": [
    "sealed trait IList\n",
    "class End() extends IList\n",
    "class Cons(head: Int, tail: IList) extends IList"
   ]
  },
  {
   "cell_type": "markdown",
   "metadata": {},
   "source": [
    "* We create a method `prepend` to add a new element in the front of the list"
   ]
  },
  {
   "cell_type": "code",
   "execution_count": 61,
   "metadata": {},
   "outputs": [
    {
     "data": {
      "text/plain": [
       "defined \u001b[32mtrait\u001b[39m \u001b[36mIList\u001b[39m\n",
       "defined \u001b[32mclass\u001b[39m \u001b[36mEnd\u001b[39m\n",
       "defined \u001b[32mclass\u001b[39m \u001b[36mCons\u001b[39m"
      ]
     },
     "execution_count": 61,
     "metadata": {},
     "output_type": "execute_result"
    }
   ],
   "source": [
    "sealed trait IList {\n",
    "    def prepend(h: Int): IList = new Cons(h, this)\n",
    "}\n",
    "class End() extends IList\n",
    "class Cons(head: Int, tail: IList) extends IList"
   ]
  },
  {
   "cell_type": "code",
   "execution_count": 62,
   "metadata": {},
   "outputs": [
    {
     "data": {
      "text/plain": [
       "\u001b[36mxs\u001b[39m: \u001b[32mIList\u001b[39m = ammonite.$sess.cmd60$Helper$Cons@834c59c\n",
       "\u001b[36mres61_1\u001b[39m: \u001b[32mIList\u001b[39m = ammonite.$sess.cmd60$Helper$Cons@3132aab4"
      ]
     },
     "execution_count": 62,
     "metadata": {},
     "output_type": "execute_result"
    }
   ],
   "source": [
    "val xs: IList = new Cons(1, new Cons(2, new End())) // IList(1, 2)\n",
    "xs.prepend(0) // IList(0, 1, 2)"
   ]
  },
  {
   "cell_type": "markdown",
   "metadata": {},
   "source": [
    "### Case classes"
   ]
  },
  {
   "cell_type": "markdown",
   "metadata": {},
   "source": [
    "* They provide common utilities automatically: shorter constructor, `toString` method, `copy` method, etc."
   ]
  },
  {
   "cell_type": "code",
   "execution_count": 63,
   "metadata": {},
   "outputs": [
    {
     "data": {
      "text/plain": [
       "defined \u001b[32mclass\u001b[39m \u001b[36mBicicleta\u001b[39m"
      ]
     },
     "execution_count": 63,
     "metadata": {},
     "output_type": "execute_result"
    }
   ],
   "source": [
    "case class Bicicleta(cadencia: Int, marcha: Int, velocidad: Int)"
   ]
  },
  {
   "cell_type": "code",
   "execution_count": 64,
   "metadata": {},
   "outputs": [
    {
     "data": {
      "text/plain": [
       "\u001b[36mres63_0\u001b[39m: \u001b[32mBicicleta\u001b[39m = \u001b[33mBicicleta\u001b[39m(\u001b[32m1\u001b[39m, \u001b[32m2\u001b[39m, \u001b[32m3\u001b[39m)\n",
       "\u001b[36mb\u001b[39m: \u001b[32mBicicleta\u001b[39m = \u001b[33mBicicleta\u001b[39m(\u001b[32m1\u001b[39m, \u001b[32m2\u001b[39m, \u001b[32m3\u001b[39m)\n",
       "\u001b[36mres63_2\u001b[39m: \u001b[32mInt\u001b[39m = \u001b[32m1\u001b[39m\n",
       "\u001b[36mres63_3\u001b[39m: \u001b[32mInt\u001b[39m = \u001b[32m3\u001b[39m\n",
       "\u001b[36mres63_4\u001b[39m: \u001b[32mBicicleta\u001b[39m = \u001b[33mBicicleta\u001b[39m(\u001b[32m1\u001b[39m, \u001b[32m2\u001b[39m, \u001b[32m4\u001b[39m)"
      ]
     },
     "execution_count": 64,
     "metadata": {},
     "output_type": "execute_result"
    }
   ],
   "source": [
    "new Bicicleta(1, 2, 3)\n",
    "val b = Bicicleta(1, 2, 3)\n",
    "b.cadencia\n",
    "b.velocidad\n",
    "b.copy(velocidad = 4)"
   ]
  },
  {
   "cell_type": "markdown",
   "metadata": {},
   "source": [
    "* We can use it to make list creation simpler and to enable reading instance contents"
   ]
  },
  {
   "cell_type": "code",
   "execution_count": 66,
   "metadata": {},
   "outputs": [
    {
     "data": {
      "text/plain": [
       "defined \u001b[32mtrait\u001b[39m \u001b[36mIList\u001b[39m\n",
       "defined \u001b[32mclass\u001b[39m \u001b[36mEnd\u001b[39m\n",
       "defined \u001b[32mclass\u001b[39m \u001b[36mCons\u001b[39m"
      ]
     },
     "execution_count": 66,
     "metadata": {},
     "output_type": "execute_result"
    }
   ],
   "source": [
    "sealed trait IList {\n",
    "    def prepend(h: Int): IList = new Cons(h, this)\n",
    "}\n",
    "case class End() extends IList\n",
    "case class Cons(head: Int, tail: IList) extends IList"
   ]
  },
  {
   "cell_type": "code",
   "execution_count": 67,
   "metadata": {},
   "outputs": [
    {
     "data": {
      "text/plain": [
       "\u001b[36mxs\u001b[39m: \u001b[32mIList\u001b[39m = \u001b[33mCons\u001b[39m(\u001b[32m1\u001b[39m, \u001b[33mCons\u001b[39m(\u001b[32m2\u001b[39m, End()))\n",
       "\u001b[36mres66_1\u001b[39m: \u001b[32mIList\u001b[39m = \u001b[33mCons\u001b[39m(\u001b[32m0\u001b[39m, \u001b[33mCons\u001b[39m(\u001b[32m1\u001b[39m, \u001b[33mCons\u001b[39m(\u001b[32m2\u001b[39m, End())))"
      ]
     },
     "execution_count": 67,
     "metadata": {},
     "output_type": "execute_result"
    }
   ],
   "source": [
    "val xs: IList = Cons(1, Cons(2, End()))\n",
    "xs.prepend(0)"
   ]
  },
  {
   "cell_type": "markdown",
   "metadata": {},
   "source": [
    "### Pattern Matching"
   ]
  },
  {
   "cell_type": "markdown",
   "metadata": {},
   "source": [
    "* We can use this technique to compare a value against a sequence of patterns"
   ]
  },
  {
   "cell_type": "code",
   "execution_count": 68,
   "metadata": {},
   "outputs": [
    {
     "data": {
      "text/plain": [
       "defined \u001b[32mfunction\u001b[39m \u001b[36mmyPm\u001b[39m"
      ]
     },
     "execution_count": 68,
     "metadata": {},
     "output_type": "execute_result"
    }
   ],
   "source": [
    "def myPm(x: Any): Int = x match {\n",
    "    case i: Int => i\n",
    "    case s: String => s.length\n",
    "    case _ => -1\n",
    "}"
   ]
  },
  {
   "cell_type": "code",
   "execution_count": 69,
   "metadata": {},
   "outputs": [
    {
     "data": {
      "text/plain": [
       "\u001b[36mres68_0\u001b[39m: \u001b[32mInt\u001b[39m = \u001b[32m5\u001b[39m\n",
       "\u001b[36mres68_1\u001b[39m: \u001b[32mInt\u001b[39m = \u001b[32m2\u001b[39m\n",
       "\u001b[36mres68_2\u001b[39m: \u001b[32mInt\u001b[39m = \u001b[32m-1\u001b[39m"
      ]
     },
     "execution_count": 69,
     "metadata": {},
     "output_type": "execute_result"
    }
   ],
   "source": [
    "myPm(5)\n",
    "myPm(\"hi\")\n",
    "myPm(3.0)"
   ]
  },
  {
   "cell_type": "markdown",
   "metadata": {},
   "source": [
    "* Pattern matching turns out to be really useful in combination with case classes (`sum` method)"
   ]
  },
  {
   "cell_type": "code",
   "execution_count": 73,
   "metadata": {},
   "outputs": [
    {
     "data": {
      "text/plain": [
       "defined \u001b[32mtrait\u001b[39m \u001b[36mIList\u001b[39m\n",
       "defined \u001b[32mclass\u001b[39m \u001b[36mEnd\u001b[39m\n",
       "defined \u001b[32mclass\u001b[39m \u001b[36mCons\u001b[39m"
      ]
     },
     "execution_count": 73,
     "metadata": {},
     "output_type": "execute_result"
    }
   ],
   "source": [
    "sealed trait IList {\n",
    "    def prepend(h: Int): IList = new Cons(h, this)\n",
    "    def sum: Int = this match {\n",
    "        case End() => 0\n",
    "        case Cons(h, t) => h + t.sum\n",
    "    }\n",
    "}\n",
    "case class End() extends IList\n",
    "case class Cons(head: Int, tail: IList) extends IList"
   ]
  },
  {
   "cell_type": "code",
   "execution_count": 71,
   "metadata": {},
   "outputs": [
    {
     "data": {
      "text/plain": [
       "\u001b[36mres70\u001b[39m: \u001b[32mInt\u001b[39m = \u001b[32m6\u001b[39m"
      ]
     },
     "execution_count": 71,
     "metadata": {},
     "output_type": "execute_result"
    }
   ],
   "source": [
    "Cons(1, Cons(2, Cons(3, End()))).sum"
   ]
  },
  {
   "cell_type": "markdown",
   "metadata": {},
   "source": [
    "* Invocation of `sum` method"
   ]
  },
  {
   "cell_type": "code",
   "execution_count": null,
   "metadata": {},
   "outputs": [],
   "source": []
  },
  {
   "cell_type": "markdown",
   "metadata": {},
   "source": [
    "## Lambda Expressions"
   ]
  },
  {
   "cell_type": "markdown",
   "metadata": {},
   "source": [
    "* So far we've been working with methods (`incr` example)"
   ]
  },
  {
   "cell_type": "code",
   "execution_count": 74,
   "metadata": {},
   "outputs": [
    {
     "data": {
      "text/plain": [
       "defined \u001b[32mfunction\u001b[39m \u001b[36mincr\u001b[39m\n",
       "\u001b[36mres73_1\u001b[39m: \u001b[32mInt\u001b[39m = \u001b[32m1\u001b[39m"
      ]
     },
     "execution_count": 74,
     "metadata": {},
     "output_type": "execute_result"
    }
   ],
   "source": [
    "def incr(x: Int): Int = x + 1\n",
    "incr(0)"
   ]
  },
  {
   "cell_type": "markdown",
   "metadata": {},
   "source": [
    "* But functions are *first-class citizens* (ugly lambda expressions)"
   ]
  },
  {
   "cell_type": "code",
   "execution_count": 76,
   "metadata": {},
   "outputs": [
    {
     "data": {
      "text/plain": [
       "\u001b[36mx\u001b[39m: \u001b[32mInt\u001b[39m = \u001b[32m0\u001b[39m\n",
       "\u001b[36ms\u001b[39m: \u001b[32mString\u001b[39m = \u001b[32m\"hola\"\u001b[39m\n",
       "\u001b[36mf\u001b[39m: \u001b[32mInt\u001b[39m => \u001b[32mInt\u001b[39m = <function1>"
      ]
     },
     "execution_count": 76,
     "metadata": {},
     "output_type": "execute_result"
    }
   ],
   "source": [
    "val x: Int =0\n",
    "val s: String = \"hola\"\n",
    "val f: Function1[Int, Int] = new Function1[Int, Int] {\n",
    "    def apply(x: Int): Int = x + 1\n",
    "}"
   ]
  },
  {
   "cell_type": "code",
   "execution_count": 77,
   "metadata": {},
   "outputs": [
    {
     "data": {
      "text/plain": [
       "\u001b[36mres76\u001b[39m: \u001b[32mInt\u001b[39m = \u001b[32m1\u001b[39m"
      ]
     },
     "execution_count": 77,
     "metadata": {},
     "output_type": "execute_result"
    }
   ],
   "source": [
    "f.apply(0)"
   ]
  },
  {
   "cell_type": "markdown",
   "metadata": {},
   "source": [
    "* We provide a new method, which `maps`s every element in the list"
   ]
  },
  {
   "cell_type": "code",
   "execution_count": 78,
   "metadata": {},
   "outputs": [
    {
     "data": {
      "text/plain": [
       "defined \u001b[32mtrait\u001b[39m \u001b[36mIList\u001b[39m\n",
       "defined \u001b[32mclass\u001b[39m \u001b[36mEnd\u001b[39m\n",
       "defined \u001b[32mclass\u001b[39m \u001b[36mCons\u001b[39m"
      ]
     },
     "execution_count": 78,
     "metadata": {},
     "output_type": "execute_result"
    }
   ],
   "source": [
    "sealed trait IList {\n",
    "    def prepend(h: Int): IList = new Cons(h, this)\n",
    "    def sum: Int = this match {\n",
    "        case End() => 0\n",
    "        case Cons(h, t) => h + t.sum\n",
    "    }\n",
    "    def map(f: Function1[Int, Int]): IList = this match {\n",
    "        case End() => End()\n",
    "        case Cons(h, t) => Cons(f(h), t.map(f))\n",
    "    }\n",
    "}\n",
    "case class End() extends IList\n",
    "case class Cons(head: Int, tail: IList) extends IList"
   ]
  },
  {
   "cell_type": "code",
   "execution_count": 79,
   "metadata": {},
   "outputs": [
    {
     "data": {
      "text/plain": [
       "\u001b[36mxs\u001b[39m: \u001b[32mIList\u001b[39m = \u001b[33mCons\u001b[39m(\u001b[32m1\u001b[39m, \u001b[33mCons\u001b[39m(\u001b[32m2\u001b[39m, \u001b[33mCons\u001b[39m(\u001b[32m3\u001b[39m, End())))\n",
       "\u001b[36mres78_1\u001b[39m: \u001b[32mIList\u001b[39m = \u001b[33mCons\u001b[39m(\u001b[32m2\u001b[39m, \u001b[33mCons\u001b[39m(\u001b[32m3\u001b[39m, \u001b[33mCons\u001b[39m(\u001b[32m4\u001b[39m, End())))"
      ]
     },
     "execution_count": 79,
     "metadata": {},
     "output_type": "execute_result"
    }
   ],
   "source": [
    "val xs: IList = Cons(1, Cons(2, Cons(3, End())))\n",
    "xs.map(f)"
   ]
  },
  {
   "cell_type": "markdown",
   "metadata": {},
   "source": [
    "## Syntactic Sugar"
   ]
  },
  {
   "cell_type": "markdown",
   "metadata": {},
   "source": [
    "![azucar](../misc/azucar.jpg)"
   ]
  },
  {
   "cell_type": "markdown",
   "metadata": {},
   "source": [
    "* An operator is just a method (`concatenate` & `prepend`)"
   ]
  },
  {
   "cell_type": "code",
   "execution_count": 82,
   "metadata": {},
   "outputs": [
    {
     "data": {
      "text/plain": [
       "defined \u001b[32mtrait\u001b[39m \u001b[36mIList\u001b[39m\n",
       "defined \u001b[32mclass\u001b[39m \u001b[36mEnd\u001b[39m\n",
       "defined \u001b[32mclass\u001b[39m \u001b[36mCons\u001b[39m"
      ]
     },
     "execution_count": 82,
     "metadata": {},
     "output_type": "execute_result"
    }
   ],
   "source": [
    "sealed trait IList {\n",
    "    def ::(h: Int): IList = new Cons(h, this)\n",
    "    def sum: Int = this match {\n",
    "        case End() => 0\n",
    "        case Cons(h, t) => h + t.sum\n",
    "    }\n",
    "    def map(f: Function1[Int, Int]): IList = this match {\n",
    "        case End() => End()\n",
    "        case Cons(h, t) => Cons(f(h), t.map(f))\n",
    "    }\n",
    "    def ++(other: IList): IList = this match {\n",
    "        case End() => other\n",
    "        case Cons(h, t) => Cons(h, t ++ other)\n",
    "    }\n",
    "}\n",
    "case class End() extends IList\n",
    "case class Cons(head: Int, tail: IList) extends IList"
   ]
  },
  {
   "cell_type": "code",
   "execution_count": 83,
   "metadata": {},
   "outputs": [
    {
     "data": {
      "text/plain": [
       "\u001b[36mxs\u001b[39m: \u001b[32mIList\u001b[39m = \u001b[33mCons\u001b[39m(\u001b[32m1\u001b[39m, \u001b[33mCons\u001b[39m(\u001b[32m2\u001b[39m, End()))\n",
       "\u001b[36mres82_1\u001b[39m: \u001b[32mIList\u001b[39m = \u001b[33mCons\u001b[39m(\u001b[32m1\u001b[39m, \u001b[33mCons\u001b[39m(\u001b[32m2\u001b[39m, \u001b[33mCons\u001b[39m(\u001b[32m1\u001b[39m, \u001b[33mCons\u001b[39m(\u001b[32m2\u001b[39m, End()))))\n",
       "\u001b[36mres82_2\u001b[39m: \u001b[32mIList\u001b[39m = \u001b[33mCons\u001b[39m(\u001b[32m0\u001b[39m, \u001b[33mCons\u001b[39m(\u001b[32m1\u001b[39m, \u001b[33mCons\u001b[39m(\u001b[32m2\u001b[39m, End())))\n",
       "\u001b[36mres82_3\u001b[39m: \u001b[32mIList\u001b[39m = \u001b[33mCons\u001b[39m(\u001b[32m0\u001b[39m, \u001b[33mCons\u001b[39m(\u001b[32m1\u001b[39m, \u001b[33mCons\u001b[39m(\u001b[32m2\u001b[39m, End())))"
      ]
     },
     "execution_count": 83,
     "metadata": {},
     "output_type": "execute_result"
    }
   ],
   "source": [
    "val xs: IList = Cons(1, Cons(2, End()))\n",
    "xs ++ xs\n",
    "xs.::(0)\n",
    "0 :: xs"
   ]
  },
  {
   "cell_type": "markdown",
   "metadata": {},
   "source": [
    "* It's possible to declare default arguments for parameters"
   ]
  },
  {
   "cell_type": "code",
   "execution_count": 84,
   "metadata": {},
   "outputs": [
    {
     "data": {
      "text/plain": [
       "defined \u001b[32mtrait\u001b[39m \u001b[36mIList\u001b[39m\n",
       "defined \u001b[32mclass\u001b[39m \u001b[36mEnd\u001b[39m\n",
       "defined \u001b[32mclass\u001b[39m \u001b[36mCons\u001b[39m"
      ]
     },
     "execution_count": 84,
     "metadata": {},
     "output_type": "execute_result"
    }
   ],
   "source": [
    "sealed trait IList {\n",
    "    def ::(h: Int): IList = new Cons(h, this)\n",
    "    def sum: Int = this match {\n",
    "        case End() => 0\n",
    "        case Cons(h, t) => h + t.sum\n",
    "    }\n",
    "    def map(f: Function1[Int, Int]): IList = this match {\n",
    "        case End() => End()\n",
    "        case Cons(h, t) => Cons(f(h), t.map(f))\n",
    "    }\n",
    "    def ++(other: IList): IList = this match {\n",
    "        case End() => other\n",
    "        case Cons(h, t) => Cons(h, t ++ other)\n",
    "    }\n",
    "}\n",
    "case class End() extends IList\n",
    "case class Cons(head: Int, tail: IList = End()) extends IList"
   ]
  },
  {
   "cell_type": "code",
   "execution_count": 85,
   "metadata": {},
   "outputs": [
    {
     "data": {
      "text/plain": [
       "\u001b[36mres84_0\u001b[39m: \u001b[32mCons\u001b[39m = \u001b[33mCons\u001b[39m(\u001b[32m1\u001b[39m, End())\n",
       "\u001b[36mres84_1\u001b[39m: \u001b[32mCons\u001b[39m = \u001b[33mCons\u001b[39m(\u001b[32m1\u001b[39m, End())"
      ]
     },
     "execution_count": 85,
     "metadata": {},
     "output_type": "execute_result"
    }
   ],
   "source": [
    "Cons(1, End())\n",
    "Cons(1)"
   ]
  },
  {
   "cell_type": "markdown",
   "metadata": {},
   "source": [
    "* Variadic methods are great for certain situations like creating lists"
   ]
  },
  {
   "cell_type": "code",
   "execution_count": 87,
   "metadata": {},
   "outputs": [
    {
     "data": {
      "text/plain": [
       "defined \u001b[32mobject\u001b[39m \u001b[36mIList\u001b[39m"
      ]
     },
     "execution_count": 87,
     "metadata": {},
     "output_type": "execute_result"
    }
   ],
   "source": [
    "object IList {\n",
    "    def crear(xs: Int*): IList =\n",
    "      if (xs.isEmpty) End() else Cons(xs.head, crear(xs.tail:_*))\n",
    "}"
   ]
  },
  {
   "cell_type": "code",
   "execution_count": 89,
   "metadata": {},
   "outputs": [
    {
     "data": {
      "text/plain": [
       "\u001b[36mres88_0\u001b[39m: \u001b[32mIList\u001b[39m = \u001b[33mCons\u001b[39m(\u001b[32m1\u001b[39m, \u001b[33mCons\u001b[39m(\u001b[32m2\u001b[39m, \u001b[33mCons\u001b[39m(\u001b[32m3\u001b[39m, End())))\n",
       "\u001b[36mres88_1\u001b[39m: \u001b[32mIList\u001b[39m = End()\n",
       "\u001b[36mres88_2\u001b[39m: \u001b[32mIList\u001b[39m = \u001b[33mCons\u001b[39m(\u001b[32m1\u001b[39m, \u001b[33mCons\u001b[39m(\u001b[32m2\u001b[39m, \u001b[33mCons\u001b[39m(\u001b[32m3\u001b[39m, \u001b[33mCons\u001b[39m(\u001b[32m4\u001b[39m, \u001b[33mCons\u001b[39m(\u001b[32m5\u001b[39m, End())))))"
      ]
     },
     "execution_count": 89,
     "metadata": {},
     "output_type": "execute_result"
    }
   ],
   "source": [
    "IList.crear(1, 2, 3)\n",
    "IList.crear()\n",
    "IList.crear(1,2,3,4,5)"
   ]
  },
  {
   "cell_type": "markdown",
   "metadata": {},
   "source": [
    "* If you use `apply` as a method name, it's applied automatically"
   ]
  },
  {
   "cell_type": "code",
   "execution_count": 90,
   "metadata": {},
   "outputs": [
    {
     "data": {
      "text/plain": [
       "defined \u001b[32mobject\u001b[39m \u001b[36mIList\u001b[39m"
      ]
     },
     "execution_count": 90,
     "metadata": {},
     "output_type": "execute_result"
    }
   ],
   "source": [
    "object IList {\n",
    "    def apply(xs: Int*): IList =\n",
    "      if (xs.isEmpty) End() else Cons(xs.head, apply(xs.tail:_*))\n",
    "}"
   ]
  },
  {
   "cell_type": "code",
   "execution_count": 91,
   "metadata": {},
   "outputs": [
    {
     "data": {
      "text/plain": [
       "\u001b[36mres90_0\u001b[39m: \u001b[32mIList\u001b[39m = \u001b[33mCons\u001b[39m(\u001b[32m1\u001b[39m, \u001b[33mCons\u001b[39m(\u001b[32m2\u001b[39m, \u001b[33mCons\u001b[39m(\u001b[32m3\u001b[39m, End())))\n",
       "\u001b[36mres90_1\u001b[39m: \u001b[32mIList\u001b[39m = \u001b[33mCons\u001b[39m(\u001b[32m1\u001b[39m, \u001b[33mCons\u001b[39m(\u001b[32m2\u001b[39m, \u001b[33mCons\u001b[39m(\u001b[32m3\u001b[39m, End())))"
      ]
     },
     "execution_count": 91,
     "metadata": {},
     "output_type": "execute_result"
    }
   ],
   "source": [
    "IList.apply(1, 2, 3)\n",
    "IList(1, 2, 3)"
   ]
  },
  {
   "cell_type": "markdown",
   "metadata": {},
   "source": [
    "* Scala deploys syntax to simplify the creation of Lambda Expressions "
   ]
  },
  {
   "cell_type": "code",
   "execution_count": 92,
   "metadata": {},
   "outputs": [
    {
     "data": {
      "text/plain": [
       "\u001b[36mincr\u001b[39m: \u001b[32mInt\u001b[39m => \u001b[32mInt\u001b[39m = ammonite.$sess.cmd91$Helper$$Lambda$3264/201197253@e8b4e09"
      ]
     },
     "execution_count": 92,
     "metadata": {},
     "output_type": "execute_result"
    }
   ],
   "source": [
    "val incr: Int => Int = (i: Int) => i + 1"
   ]
  },
  {
   "cell_type": "code",
   "execution_count": 94,
   "metadata": {},
   "outputs": [
    {
     "data": {
      "text/plain": [
       "\u001b[36mres93\u001b[39m: \u001b[32mInt\u001b[39m = \u001b[32m1\u001b[39m"
      ]
     },
     "execution_count": 94,
     "metadata": {},
     "output_type": "execute_result"
    }
   ],
   "source": [
    "incr(0)"
   ]
  },
  {
   "cell_type": "code",
   "execution_count": 95,
   "metadata": {},
   "outputs": [
    {
     "data": {
      "text/plain": [
       "\u001b[36mincr\u001b[39m: \u001b[32mInt\u001b[39m => \u001b[32mInt\u001b[39m = ammonite.$sess.cmd94$Helper$$Lambda$3272/1627399875@3d7daf5f"
      ]
     },
     "execution_count": 95,
     "metadata": {},
     "output_type": "execute_result"
    }
   ],
   "source": [
    "val incr: Int => Int = i => i + 1"
   ]
  },
  {
   "cell_type": "code",
   "execution_count": 97,
   "metadata": {},
   "outputs": [
    {
     "data": {
      "text/plain": [
       "\u001b[36mincr\u001b[39m: \u001b[32mInt\u001b[39m => \u001b[32mInt\u001b[39m = ammonite.$sess.cmd96$Helper$$Lambda$3282/416076863@4bbca63c\n",
       "\u001b[36mres96_1\u001b[39m: \u001b[32mInt\u001b[39m = \u001b[32m1\u001b[39m"
      ]
     },
     "execution_count": 97,
     "metadata": {},
     "output_type": "execute_result"
    }
   ],
   "source": [
    "val incr: Int => Int = _ + 1\n",
    "incr(0)"
   ]
  },
  {
   "cell_type": "code",
   "execution_count": 98,
   "metadata": {},
   "outputs": [
    {
     "data": {
      "text/plain": [
       "\u001b[36mres97_0\u001b[39m: \u001b[32mIList\u001b[39m = \u001b[33mCons\u001b[39m(\u001b[32m2\u001b[39m, \u001b[33mCons\u001b[39m(\u001b[32m3\u001b[39m, \u001b[33mCons\u001b[39m(\u001b[32m4\u001b[39m, End())))\n",
       "\u001b[36mres97_1\u001b[39m: \u001b[32mIList\u001b[39m = \u001b[33mCons\u001b[39m(\u001b[32m5\u001b[39m, \u001b[33mCons\u001b[39m(\u001b[32m10\u001b[39m, \u001b[33mCons\u001b[39m(\u001b[32m15\u001b[39m, End())))"
      ]
     },
     "execution_count": 98,
     "metadata": {},
     "output_type": "execute_result"
    }
   ],
   "source": [
    "IList(1, 2, 3).map(_ + 1)\n",
    "IList(1, 2, 3).map(_ * 5)"
   ]
  },
  {
   "cell_type": "markdown",
   "metadata": {},
   "source": [
    "## More ADT examples"
   ]
  },
  {
   "cell_type": "markdown",
   "metadata": {},
   "source": [
    "* Optional Int"
   ]
  },
  {
   "cell_type": "code",
   "execution_count": 99,
   "metadata": {},
   "outputs": [
    {
     "data": {
      "text/plain": [
       "defined \u001b[32mtrait\u001b[39m \u001b[36mIOption\u001b[39m\n",
       "defined \u001b[32mclass\u001b[39m \u001b[36mINone\u001b[39m\n",
       "defined \u001b[32mclass\u001b[39m \u001b[36mISome\u001b[39m"
      ]
     },
     "execution_count": 99,
     "metadata": {},
     "output_type": "execute_result"
    }
   ],
   "source": [
    "sealed trait IOption\n",
    "case class INone() extends IOption\n",
    "case class ISome(i: Int) extends IOption"
   ]
  },
  {
   "cell_type": "markdown",
   "metadata": {},
   "source": [
    "* Either Error or Int"
   ]
  },
  {
   "cell_type": "code",
   "execution_count": 100,
   "metadata": {},
   "outputs": [
    {
     "data": {
      "text/plain": [
       "defined \u001b[32mtrait\u001b[39m \u001b[36mIEither\u001b[39m\n",
       "defined \u001b[32mclass\u001b[39m \u001b[36mLeft\u001b[39m\n",
       "defined \u001b[32mclass\u001b[39m \u001b[36mRight\u001b[39m"
      ]
     },
     "execution_count": 100,
     "metadata": {},
     "output_type": "execute_result"
    }
   ],
   "source": [
    "sealed trait IEither\n",
    "case class Left(err: Error) extends IEither\n",
    "case class Right(i: Int) extends IEither"
   ]
  },
  {
   "cell_type": "markdown",
   "metadata": {},
   "source": [
    "## Final Result"
   ]
  },
  {
   "cell_type": "code",
   "execution_count": 1,
   "metadata": {},
   "outputs": [
    {
     "data": {
      "text/plain": [
       "defined \u001b[32mclass\u001b[39m \u001b[36mIList\u001b[39m\n",
       "defined \u001b[32mclass\u001b[39m \u001b[36mCons\u001b[39m\n",
       "defined \u001b[32mclass\u001b[39m \u001b[36mEnd\u001b[39m\n",
       "defined \u001b[32mobject\u001b[39m \u001b[36mIList\u001b[39m"
      ]
     },
     "execution_count": 1,
     "metadata": {},
     "output_type": "execute_result"
    }
   ],
   "source": [
    "// IList is an Algebraic Data Type, made of Cons and End\n",
    "sealed trait IList {\n",
    "    \n",
    "  // Operators are available\n",
    "  def ::(h: Int): IList = Cons(h, this)\n",
    "    \n",
    "  // Pattern matching is very handy to deal with ADTs\n",
    "  def sum: Int = this match {\n",
    "    case Cons(h, t) => h + t.sum\n",
    "    case End() => 0\n",
    "  }\n",
    "    \n",
    "  // Functions can be passed as parameters\n",
    "  // `map` is a higher order function\n",
    "  def map(f: Int => Int): IList = this match {\n",
    "    case Cons(h, t) => Cons(f(h), t.map(f))\n",
    "    case End() => End()\n",
    "  }\n",
    "    \n",
    "  def ++(other: IList): IList = this match {\n",
    "    case Cons(h, t) => Cons(h, t ++ other)\n",
    "    case End() => other\n",
    "  }\n",
    "}\n",
    "\n",
    "// Case classes mitigate common boilerplate\n",
    "// Default parameters could be helpful\n",
    "case class Cons(val head: Int, val tail: IList = End()) extends IList\n",
    "case class End() extends IList\n",
    "\n",
    "object IList {\n",
    "  // Variadic arguments are idoneous as a list creator\n",
    "  def apply(xs: Int*): IList = {\n",
    "    if (xs.isEmpty) End()\n",
    "    else Cons(xs.head, apply(xs.tail:_*)) \n",
    "  }\n",
    "}"
   ]
  },
  {
   "cell_type": "markdown",
   "metadata": {},
   "source": [
    "## ADTs & Dotty"
   ]
  },
  {
   "cell_type": "markdown",
   "metadata": {},
   "source": [
    "```scala\n",
    "enum IList:\n",
    "\n",
    "  case Cons(head: Int, tail: IList)\n",
    "  case End()\n",
    "\n",
    "  def sum: Int = this match\n",
    "    case Cons(h, t) => h + t.sum\n",
    "    case End() => 0\n",
    "\n",
    "  def map(f: Int => Int): IList = this match\n",
    "    case Cons(h, t) => Cons(f(h), t.map(f))\n",
    "    case End() => End()\n",
    "\n",
    "  def ++(other: IList): IList = this match\n",
    "    case Cons(h, t) => Cons(h, t ++ other)\n",
    "    case End() => other\n",
    "\n",
    "object IList:\n",
    "  def apply(is: Int*): IList =\n",
    "    if (is.isEmpty) End() else Cons(is.head, apply(is.tail:_*))\n",
    "```"
   ]
  },
  {
   "cell_type": "markdown",
   "metadata": {},
   "source": [
    "## Takeaways\n",
    "\n",
    "* Functional programming is programming with pure functions\n",
    "* Algebraic data types are encoded as a \"sum\" of case clases\n",
    "* Functions are treated as first-class citizens, which enables *higher order functions*\n",
    "* Syntactic sugar is convenient to dulcify expressions\n",
    "* Dotty has introduced many features towards the functional side\n",
    "* This is just the beginning: *type classes*, *DSLs*, *generic programming*, etc."
   ]
  },
  {
   "cell_type": "code",
   "execution_count": 101,
   "metadata": {},
   "outputs": [
    {
     "name": "stdout",
     "output_type": "stream",
     "text": [
      "Thank you!\n"
     ]
    }
   ],
   "source": [
    "println(\"Thank you!\")"
   ]
  },
  {
   "cell_type": "markdown",
   "metadata": {},
   "source": [
    "![Applause](../misc/applause.gif)"
   ]
  },
  {
   "cell_type": "code",
   "execution_count": null,
   "metadata": {},
   "outputs": [],
   "source": []
  }
 ],
 "metadata": {
  "kernelspec": {
   "display_name": "Scala 2.12",
   "language": "scala",
   "name": "scala212"
  },
  "language_info": {
   "codemirror_mode": "text/x-scala",
   "file_extension": ".scala",
   "mimetype": "text/x-scala",
   "name": "scala",
   "nbconvert_exporter": "script",
   "version": "2.12.8"
  }
 },
 "nbformat": 4,
 "nbformat_minor": 2
}

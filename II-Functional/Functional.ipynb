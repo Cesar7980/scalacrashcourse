{
 "cells": [
  {
   "cell_type": "markdown",
   "metadata": {},
   "source": [
    "![Scala Intro](misc/thumbnail.jpg)"
   ]
  },
  {
   "cell_type": "markdown",
   "metadata": {},
   "source": [
    "## Session Objectives\n",
    "\n",
    "1. Grasp the **fundamentals of FP** by means of Scala\n",
    "2. Learn the basics of **algebraic data types** (ADTs)\n",
    "3. Understand the implications of having **functions as first-class citizens**\n",
    "4. Get used to the **syntax** that simplifies dealing with functions"
   ]
  },
  {
   "cell_type": "markdown",
   "metadata": {},
   "source": [
    "## So, What is Functional Programming?"
   ]
  },
  {
   "cell_type": "markdown",
   "metadata": {},
   "source": [
    "Functional Programming is **\"Programming With Pure Functions\"**\n",
    "\n",
    "([According to Wikipedia](https://en.wikipedia.org/wiki/Pure_function)) A pure function is a function that has the following properties:\n",
    "1. Its return value is the same for the same arguments\n",
    "2. Its evaluation has no side effects"
   ]
  },
  {
   "cell_type": "markdown",
   "metadata": {},
   "source": [
    "#### Pure function example"
   ]
  },
  {
   "cell_type": "code",
   "execution_count": 1,
   "metadata": {},
   "outputs": [
    {
     "data": {
      "text/plain": [
       "defined \u001b[32mfunction\u001b[39m \u001b[36mpure\u001b[39m"
      ]
     },
     "execution_count": 1,
     "metadata": {},
     "output_type": "execute_result"
    }
   ],
   "source": [
    "def pure(a: Int, b: Int): Int = a + b"
   ]
  },
  {
   "cell_type": "code",
   "execution_count": 10,
   "metadata": {},
   "outputs": [
    {
     "data": {
      "text/plain": [
       "\u001b[36mres9_0\u001b[39m: \u001b[32mInt\u001b[39m = \u001b[32m3\u001b[39m\n",
       "\u001b[36mres9_1\u001b[39m: \u001b[32mInt\u001b[39m = \u001b[32m3\u001b[39m"
      ]
     },
     "execution_count": 10,
     "metadata": {},
     "output_type": "execute_result"
    }
   ],
   "source": [
    "pure(1, 2)\n",
    "pure(1, 2)"
   ]
  },
  {
   "cell_type": "markdown",
   "metadata": {},
   "source": [
    "#### Impure function example"
   ]
  },
  {
   "cell_type": "code",
   "execution_count": 2,
   "metadata": {},
   "outputs": [
    {
     "data": {
      "text/html": [
       "<div class=\"jp-RenderedText\">\n",
       "<pre><code><span style=\"color: rgb(0, 187, 187)\"><span class=\"ansi-cyan-fg\">res</span></span>: <span style=\"color: rgb(0, 187, 0)\"><span class=\"ansi-green-fg\">Int</span></span> = <span style=\"color: rgb(0, 187, 0)\"><span class=\"ansi-green-fg\">0</span></span>\n",
       "defined <span style=\"color: rgb(0, 187, 0)\"><span class=\"ansi-green-fg\">function</span></span> <span style=\"color: rgb(0, 187, 187)\"><span class=\"ansi-cyan-fg\">impure</span></span></code></pre>\n",
       "</div>"
      ],
      "text/plain": [
       "\u001b[36mres\u001b[39m: \u001b[32mInt\u001b[39m = \u001b[32m0\u001b[39m\n",
       "defined \u001b[32mfunction\u001b[39m \u001b[36mimpure\u001b[39m"
      ]
     },
     "metadata": {},
     "output_type": "display_data"
    }
   ],
   "source": [
    "var res: Int = 0\n",
    "\n",
    "def impure(a: Int, b: Int): Int = {\n",
    "  res += 1\n",
    "  a + b + res\n",
    "}"
   ]
  },
  {
   "cell_type": "code",
   "execution_count": 12,
   "metadata": {},
   "outputs": [
    {
     "data": {
      "text/plain": [
       "\u001b[36mres11_0\u001b[39m: \u001b[32mInt\u001b[39m = \u001b[32m4\u001b[39m\n",
       "\u001b[36mres11_1\u001b[39m: \u001b[32mInt\u001b[39m = \u001b[32m5\u001b[39m"
      ]
     },
     "execution_count": 12,
     "metadata": {},
     "output_type": "execute_result"
    }
   ],
   "source": [
    "impure(1, 2)\n",
    "impure(1, 2)"
   ]
  },
  {
   "cell_type": "markdown",
   "metadata": {},
   "source": [
    "#### Immutability"
   ]
  },
  {
   "cell_type": "code",
   "execution_count": 58,
   "metadata": {},
   "outputs": [
    {
     "name": "stderr",
     "output_type": "stream",
     "text": [
      "cmd58.sc:2: reassignment to val\n",
      "val res58_1 = x = 4\n",
      "                ^Compilation Failed"
     ]
    },
    {
     "ename": "",
     "evalue": "",
     "output_type": "error",
     "traceback": [
      "Compilation Failed"
     ]
    }
   ],
   "source": [
    "val x: Int = 3\n",
    "x = 4"
   ]
  },
  {
   "cell_type": "markdown",
   "metadata": {},
   "source": [
    "#### [Why Functional Programming Matters?](https://www.cs.kent.ac.uk/people/staff/dat/miranda/whyfp90.pdf) (John Hughes)\n",
    "\n",
    "> *\"We conclude that since ***modularity*** is the key to successful programming, functional programming offers important advantages for software development.\"*"
   ]
  },
  {
   "cell_type": "markdown",
   "metadata": {},
   "source": [
    "![Indiana Jones](misc/grial.jpg)"
   ]
  },
  {
   "cell_type": "markdown",
   "metadata": {},
   "source": [
    "## Algebraic Data Types"
   ]
  },
  {
   "cell_type": "markdown",
   "metadata": {},
   "source": [
    "* Make a data type to work with int lists"
   ]
  },
  {
   "cell_type": "code",
   "execution_count": 14,
   "metadata": {},
   "outputs": [
    {
     "data": {
      "text/plain": [
       "defined \u001b[32mclass\u001b[39m \u001b[36mIList\u001b[39m\n",
       "defined \u001b[32mclass\u001b[39m \u001b[36mCons\u001b[39m\n",
       "defined \u001b[32mclass\u001b[39m \u001b[36mEnd\u001b[39m"
      ]
     },
     "execution_count": 14,
     "metadata": {},
     "output_type": "execute_result"
    }
   ],
   "source": [
    "sealed abstract class IList\n",
    "class Cons(val head: Int, val tail: IList) extends IList\n",
    "class End() extends IList"
   ]
  },
  {
   "cell_type": "code",
   "execution_count": 23,
   "metadata": {},
   "outputs": [
    {
     "data": {
      "text/plain": [
       "\u001b[36mxs\u001b[39m: \u001b[32mIList\u001b[39m = \u001b[33mCons\u001b[39m(\u001b[32m1\u001b[39m, \u001b[33mCons\u001b[39m(\u001b[32m2\u001b[39m, \u001b[33mCons\u001b[39m(\u001b[32m3\u001b[39m, End())))"
      ]
     },
     "execution_count": 23,
     "metadata": {},
     "output_type": "execute_result"
    }
   ],
   "source": [
    "val xs: IList = new Cons(1, new Cons(2, new Cons(3, new End()))) // IList(1, 2, 3)"
   ]
  },
  {
   "cell_type": "markdown",
   "metadata": {},
   "source": [
    "* We create a method `prepend` to add a new element in the front of the list"
   ]
  },
  {
   "cell_type": "code",
   "execution_count": 24,
   "metadata": {},
   "outputs": [
    {
     "data": {
      "text/plain": [
       "defined \u001b[32mclass\u001b[39m \u001b[36mIList\u001b[39m\n",
       "defined \u001b[32mclass\u001b[39m \u001b[36mCons\u001b[39m\n",
       "defined \u001b[32mclass\u001b[39m \u001b[36mEnd\u001b[39m"
      ]
     },
     "execution_count": 24,
     "metadata": {},
     "output_type": "execute_result"
    }
   ],
   "source": [
    "sealed abstract class IList {\n",
    "  def prepend(h: Int): IList = new Cons(h, this)\n",
    "}\n",
    "class Cons(val head: Int, val tail: IList) extends IList\n",
    "class End() extends IList"
   ]
  },
  {
   "cell_type": "code",
   "execution_count": 27,
   "metadata": {},
   "outputs": [
    {
     "data": {
      "text/plain": [
       "\u001b[36mxs\u001b[39m: \u001b[32mIList\u001b[39m = ammonite.$sess.cmd23$Helper$Cons@590f228b\n",
       "\u001b[36mres26_1\u001b[39m: \u001b[32mIList\u001b[39m = ammonite.$sess.cmd23$Helper$Cons@1da57f91"
      ]
     },
     "execution_count": 27,
     "metadata": {},
     "output_type": "execute_result"
    }
   ],
   "source": [
    "val xs: IList = new Cons(1, new Cons(2, new Cons(3, new End()))) // IList(1, 2, 3)\n",
    "xs.prepend(0)"
   ]
  },
  {
   "cell_type": "markdown",
   "metadata": {},
   "source": [
    "### Case classes"
   ]
  },
  {
   "cell_type": "markdown",
   "metadata": {},
   "source": [
    "* They provide common utilities automatically: shorter constructor, `toString` method, `copy` method, etc."
   ]
  },
  {
   "cell_type": "code",
   "execution_count": 45,
   "metadata": {},
   "outputs": [
    {
     "data": {
      "text/plain": [
       "defined \u001b[32mclass\u001b[39m \u001b[36mHost\u001b[39m"
      ]
     },
     "execution_count": 45,
     "metadata": {},
     "output_type": "execute_result"
    }
   ],
   "source": [
    "case class Host(name: String, age: Int, show: String)"
   ]
  },
  {
   "cell_type": "code",
   "execution_count": 48,
   "metadata": {},
   "outputs": [
    {
     "data": {
      "text/plain": [
       "\u001b[36mjordi\u001b[39m: \u001b[32mHost\u001b[39m = \u001b[33mHost\u001b[39m(\u001b[32m\"Jordi Hurtado\"\u001b[39m, \u001b[32m2147483647\u001b[39m, \u001b[32m\"Saber y Ganar\"\u001b[39m)"
      ]
     },
     "execution_count": 48,
     "metadata": {},
     "output_type": "execute_result"
    }
   ],
   "source": [
    "val jordi = Host(\"Jordi Hurtado\", Int.MaxValue, \"Saber y Ganar\")"
   ]
  },
  {
   "cell_type": "code",
   "execution_count": 49,
   "metadata": {},
   "outputs": [
    {
     "data": {
      "text/plain": [
       "\u001b[36mres48_0\u001b[39m: \u001b[32mHost\u001b[39m = \u001b[33mHost\u001b[39m(\u001b[32m\"Jordi Hurtado\"\u001b[39m, \u001b[32m2147483647\u001b[39m, \u001b[32m\"Epi y Blas\"\u001b[39m)\n",
       "\u001b[36mres48_1\u001b[39m: \u001b[32mLong\u001b[39m = \u001b[32m9223372036854775807L\u001b[39m"
      ]
     },
     "execution_count": 49,
     "metadata": {},
     "output_type": "execute_result"
    }
   ],
   "source": [
    "jordi.copy(show = \"Epi y Blas\")"
   ]
  },
  {
   "cell_type": "markdown",
   "metadata": {},
   "source": [
    "* We can use it to make list creation simpler and to read instance contents"
   ]
  },
  {
   "cell_type": "code",
   "execution_count": 37,
   "metadata": {},
   "outputs": [
    {
     "data": {
      "text/plain": [
       "defined \u001b[32mclass\u001b[39m \u001b[36mIList\u001b[39m\n",
       "defined \u001b[32mclass\u001b[39m \u001b[36mCons\u001b[39m\n",
       "defined \u001b[32mclass\u001b[39m \u001b[36mEnd\u001b[39m"
      ]
     },
     "execution_count": 37,
     "metadata": {},
     "output_type": "execute_result"
    }
   ],
   "source": [
    "sealed abstract class IList {\n",
    "  def prepend(h: Int): IList = Cons(h, this)\n",
    "}\n",
    "case class Cons(val head: Int, val tail: IList) extends IList\n",
    "case class End() extends IList"
   ]
  },
  {
   "cell_type": "markdown",
   "metadata": {},
   "source": [
    "* Creation of list"
   ]
  },
  {
   "cell_type": "code",
   "execution_count": null,
   "metadata": {},
   "outputs": [],
   "source": [
    "val xs = Cons(1, Cons(2, Cons(3, End()))) // IList(1, 2, 3)"
   ]
  },
  {
   "cell_type": "markdown",
   "metadata": {},
   "source": [
    "### Pattern Matching"
   ]
  },
  {
   "cell_type": "markdown",
   "metadata": {},
   "source": [
    "* We can use this technique to compare a value against a sequence of patterns"
   ]
  },
  {
   "cell_type": "code",
   "execution_count": 32,
   "metadata": {},
   "outputs": [
    {
     "data": {
      "text/plain": [
       "defined \u001b[32mfunction\u001b[39m \u001b[36mexample\u001b[39m\n",
       "\u001b[36mres31_1\u001b[39m: \u001b[32mInt\u001b[39m = \u001b[32m1\u001b[39m\n",
       "\u001b[36mres31_2\u001b[39m: \u001b[32mInt\u001b[39m = \u001b[32m4\u001b[39m\n",
       "\u001b[36mres31_3\u001b[39m: \u001b[32mInt\u001b[39m = \u001b[32m0\u001b[39m"
      ]
     },
     "execution_count": 32,
     "metadata": {},
     "output_type": "execute_result"
    }
   ],
   "source": [
    "def example(x: Any): Int = x match {\n",
    "  case i: Int => i\n",
    "  case s: String => s.length\n",
    "  case _ => 0\n",
    "}\n",
    "\n",
    "example(1)\n",
    "example(\"hola\")"
   ]
  },
  {
   "cell_type": "markdown",
   "metadata": {},
   "source": [
    "* Pattern matching turns out to be really useful in combination with case classes (`sum` method)"
   ]
  },
  {
   "cell_type": "code",
   "execution_count": 36,
   "metadata": {},
   "outputs": [
    {
     "data": {
      "text/plain": [
       "defined \u001b[32mclass\u001b[39m \u001b[36mIList\u001b[39m\n",
       "defined \u001b[32mclass\u001b[39m \u001b[36mCons\u001b[39m\n",
       "defined \u001b[32mclass\u001b[39m \u001b[36mEnd\u001b[39m"
      ]
     },
     "execution_count": 36,
     "metadata": {},
     "output_type": "execute_result"
    }
   ],
   "source": [
    "sealed abstract class IList {\n",
    "  def prepend(h: Int): IList = Cons(h, this)\n",
    "  def sum: Int = this match {\n",
    "    case Cons(h, t) => h + t.sum\n",
    "    case End() => 0\n",
    "  }\n",
    "}\n",
    "case class Cons(val head: Int, val tail: IList) extends IList\n",
    "case class End() extends IList"
   ]
  },
  {
   "cell_type": "markdown",
   "metadata": {},
   "source": [
    "* Invocation of `sum` method"
   ]
  },
  {
   "cell_type": "code",
   "execution_count": 34,
   "metadata": {},
   "outputs": [
    {
     "data": {
      "text/plain": [
       "\u001b[36mxs\u001b[39m: \u001b[32mIList\u001b[39m = \u001b[33mCons\u001b[39m(\u001b[32m1\u001b[39m, \u001b[33mCons\u001b[39m(\u001b[32m2\u001b[39m, \u001b[33mCons\u001b[39m(\u001b[32m3\u001b[39m, End())))"
      ]
     },
     "execution_count": 34,
     "metadata": {},
     "output_type": "execute_result"
    }
   ],
   "source": [
    "val xs: IList = Cons(1, Cons(2, Cons(3, End()))) // IList(1, 2, 3)"
   ]
  },
  {
   "cell_type": "code",
   "execution_count": 35,
   "metadata": {},
   "outputs": [
    {
     "data": {
      "text/plain": [
       "\u001b[36mres34\u001b[39m: \u001b[32mInt\u001b[39m = \u001b[32m6\u001b[39m"
      ]
     },
     "execution_count": 35,
     "metadata": {},
     "output_type": "execute_result"
    }
   ],
   "source": [
    "xs.sum"
   ]
  },
  {
   "cell_type": "markdown",
   "metadata": {},
   "source": [
    "## Lambda Expressions"
   ]
  },
  {
   "cell_type": "markdown",
   "metadata": {},
   "source": [
    "* So far we've been working with methods"
   ]
  },
  {
   "cell_type": "code",
   "execution_count": 50,
   "metadata": {},
   "outputs": [
    {
     "data": {
      "text/plain": [
       "defined \u001b[32mfunction\u001b[39m \u001b[36mincr\u001b[39m\n",
       "\u001b[36mres49_1\u001b[39m: \u001b[32mInt\u001b[39m = \u001b[32m1\u001b[39m\n",
       "\u001b[36mres49_2\u001b[39m: \u001b[32mInt\u001b[39m = \u001b[32m34\u001b[39m"
      ]
     },
     "execution_count": 50,
     "metadata": {},
     "output_type": "execute_result"
    }
   ],
   "source": [
    "def incr(i: Int): Int = i + 1\n",
    "incr(0)\n",
    "incr(33)"
   ]
  },
  {
   "cell_type": "markdown",
   "metadata": {},
   "source": [
    "* But functions are *first-class citizens*: ugly lambda expressions"
   ]
  },
  {
   "cell_type": "code",
   "execution_count": 28,
   "metadata": {},
   "outputs": [
    {
     "data": {
      "text/plain": [
       "\u001b[36mi\u001b[39m: \u001b[32mInt\u001b[39m = \u001b[32m0\u001b[39m\n",
       "\u001b[36ms\u001b[39m: \u001b[32mString\u001b[39m = \u001b[32m\"hi\"\u001b[39m\n",
       "\u001b[36mincr\u001b[39m: \u001b[32mInt\u001b[39m => \u001b[32mInt\u001b[39m = <function1>\n",
       "\u001b[36mres27_3\u001b[39m: \u001b[32mInt\u001b[39m = \u001b[32m1\u001b[39m\n",
       "\u001b[36mres27_4\u001b[39m: \u001b[32mInt\u001b[39m = \u001b[32m34\u001b[39m"
      ]
     },
     "execution_count": 28,
     "metadata": {},
     "output_type": "execute_result"
    }
   ],
   "source": [
    "val i: Int = 0\n",
    "val s: String = \"hi\"\n",
    "val incr: Function1[Int, Int] = new Function1[Int, Int] { def apply(i: Int): Int = i + 1 }\n",
    "incr(0)\n",
    "incr(33)"
   ]
  },
  {
   "cell_type": "markdown",
   "metadata": {},
   "source": [
    "* We provide a new method, which `maps`s every element in the list"
   ]
  },
  {
   "cell_type": "code",
   "execution_count": 57,
   "metadata": {},
   "outputs": [
    {
     "data": {
      "text/plain": [
       "defined \u001b[32mclass\u001b[39m \u001b[36mIList\u001b[39m\n",
       "defined \u001b[32mclass\u001b[39m \u001b[36mCons\u001b[39m\n",
       "defined \u001b[32mclass\u001b[39m \u001b[36mEnd\u001b[39m"
      ]
     },
     "execution_count": 57,
     "metadata": {},
     "output_type": "execute_result"
    }
   ],
   "source": [
    "sealed abstract class IList {\n",
    "  def prepend(h: Int): IList = Cons(h, this)\n",
    "  def sum: Int = this match {\n",
    "    case Cons(h, t) => h + t.sum\n",
    "    case End() => 0\n",
    "  }\n",
    "  def map(f: Function1[Int, Int]): IList = this match {\n",
    "    case Cons(h, t) => Cons(f(h), t.map(f))\n",
    "    case End() => End()\n",
    "  }\n",
    "}\n",
    "case class Cons(val head: Int, val tail: IList) extends IList\n",
    "case class End() extends IList"
   ]
  },
  {
   "cell_type": "markdown",
   "metadata": {},
   "source": [
    "* Invocation of `map` method using `incr`"
   ]
  },
  {
   "cell_type": "code",
   "execution_count": 58,
   "metadata": {},
   "outputs": [
    {
     "data": {
      "text/plain": [
       "\u001b[36mincr\u001b[39m: \u001b[32mInt\u001b[39m => \u001b[32mInt\u001b[39m = <function1>\n",
       "\u001b[36mxs\u001b[39m: \u001b[32mIList\u001b[39m = \u001b[33mCons\u001b[39m(\u001b[32m1\u001b[39m, \u001b[33mCons\u001b[39m(\u001b[32m2\u001b[39m, \u001b[33mCons\u001b[39m(\u001b[32m3\u001b[39m, End())))\n",
       "\u001b[36mres\u001b[39m: \u001b[32mIList\u001b[39m = \u001b[33mCons\u001b[39m(\u001b[32m2\u001b[39m, \u001b[33mCons\u001b[39m(\u001b[32m3\u001b[39m, \u001b[33mCons\u001b[39m(\u001b[32m4\u001b[39m, End())))"
      ]
     },
     "execution_count": 58,
     "metadata": {},
     "output_type": "execute_result"
    }
   ],
   "source": [
    "val incr: Function1[Int, Int] = new Function1[Int, Int] { def apply(i: Int): Int = i + 1 }\n",
    "val xs: IList = Cons(1, Cons(2, Cons(3, End()))) // IList(1, 2, 3)\n",
    "val res = xs.map(incr)"
   ]
  },
  {
   "cell_type": "markdown",
   "metadata": {},
   "source": [
    "## Syntactic Sugar"
   ]
  },
  {
   "cell_type": "markdown",
   "metadata": {},
   "source": [
    "* An operator is just a method (`concatenate` & `prepend`)"
   ]
  },
  {
   "cell_type": "code",
   "execution_count": 64,
   "metadata": {},
   "outputs": [
    {
     "data": {
      "text/plain": [
       "defined \u001b[32mclass\u001b[39m \u001b[36mIList\u001b[39m\n",
       "defined \u001b[32mclass\u001b[39m \u001b[36mCons\u001b[39m\n",
       "defined \u001b[32mclass\u001b[39m \u001b[36mEnd\u001b[39m"
      ]
     },
     "execution_count": 64,
     "metadata": {},
     "output_type": "execute_result"
    }
   ],
   "source": [
    "sealed abstract class IList {\n",
    "  def ::(h: Int): IList = Cons(h, this)\n",
    "  def sum: Int = this match {\n",
    "    case Cons(h, t) => h + t.sum\n",
    "    case End() => 0\n",
    "  }\n",
    "  def map(f: Function1[Int, Int]): IList = this match {\n",
    "    case Cons(h, t) => Cons(f(h), t.map(f))\n",
    "    case End() => End()\n",
    "  }\n",
    "  def ++(other: IList): IList = this match {\n",
    "    case Cons(h, t) => Cons(h, t ++ other)\n",
    "    case End() => other\n",
    "  }\n",
    "}\n",
    "case class Cons(val head: Int, val tail: IList) extends IList\n",
    "case class End() extends IList"
   ]
  },
  {
   "cell_type": "code",
   "execution_count": 65,
   "metadata": {},
   "outputs": [
    {
     "data": {
      "text/plain": [
       "\u001b[36mxs\u001b[39m: \u001b[32mCons\u001b[39m = \u001b[33mCons\u001b[39m(\u001b[32m1\u001b[39m, \u001b[33mCons\u001b[39m(\u001b[32m2\u001b[39m, End()))\n",
       "\u001b[36mres64_1\u001b[39m: \u001b[32mIList\u001b[39m = \u001b[33mCons\u001b[39m(\u001b[32m0\u001b[39m, \u001b[33mCons\u001b[39m(\u001b[32m1\u001b[39m, \u001b[33mCons\u001b[39m(\u001b[32m2\u001b[39m, End())))\n",
       "\u001b[36mres64_2\u001b[39m: \u001b[32mIList\u001b[39m = \u001b[33mCons\u001b[39m(\u001b[32m0\u001b[39m, \u001b[33mCons\u001b[39m(\u001b[32m1\u001b[39m, \u001b[33mCons\u001b[39m(\u001b[32m2\u001b[39m, End())))"
      ]
     },
     "execution_count": 65,
     "metadata": {},
     "output_type": "execute_result"
    }
   ],
   "source": [
    "val xs = Cons(1, Cons(2, End()))\n",
    "xs.::(0)\n",
    "0 :: xs"
   ]
  },
  {
   "cell_type": "code",
   "execution_count": 63,
   "metadata": {},
   "outputs": [
    {
     "data": {
      "text/plain": [
       "\u001b[36mxs\u001b[39m: \u001b[32mCons\u001b[39m = \u001b[33mCons\u001b[39m(\u001b[32m1\u001b[39m, \u001b[33mCons\u001b[39m(\u001b[32m2\u001b[39m, End()))\n",
       "\u001b[36mys\u001b[39m: \u001b[32mCons\u001b[39m = \u001b[33mCons\u001b[39m(\u001b[32m3\u001b[39m, End())\n",
       "\u001b[36mres62_2\u001b[39m: \u001b[32mIList\u001b[39m = \u001b[33mCons\u001b[39m(\u001b[32m1\u001b[39m, \u001b[33mCons\u001b[39m(\u001b[32m2\u001b[39m, \u001b[33mCons\u001b[39m(\u001b[32m3\u001b[39m, End())))\n",
       "\u001b[36mres62_3\u001b[39m: \u001b[32mIList\u001b[39m = \u001b[33mCons\u001b[39m(\u001b[32m1\u001b[39m, \u001b[33mCons\u001b[39m(\u001b[32m2\u001b[39m, \u001b[33mCons\u001b[39m(\u001b[32m3\u001b[39m, End())))"
      ]
     },
     "execution_count": 63,
     "metadata": {},
     "output_type": "execute_result"
    }
   ],
   "source": [
    "val xs = Cons(1, Cons(2, End()))\n",
    "val ys = Cons(3, End())\n",
    "xs ++ ys\n",
    "xs.++(ys)"
   ]
  },
  {
   "cell_type": "markdown",
   "metadata": {},
   "source": [
    "* It's possible to declare default arguments for parameters"
   ]
  },
  {
   "cell_type": "code",
   "execution_count": 69,
   "metadata": {},
   "outputs": [
    {
     "data": {
      "text/plain": [
       "defined \u001b[32mclass\u001b[39m \u001b[36mIList\u001b[39m\n",
       "defined \u001b[32mclass\u001b[39m \u001b[36mCons\u001b[39m\n",
       "defined \u001b[32mclass\u001b[39m \u001b[36mEnd\u001b[39m"
      ]
     },
     "execution_count": 69,
     "metadata": {},
     "output_type": "execute_result"
    }
   ],
   "source": [
    "sealed abstract class IList {\n",
    "  def ::(h: Int): IList = Cons(h, this)\n",
    "  def sum: Int = this match {\n",
    "    case Cons(h, t) => h + t.sum\n",
    "    case End() => 0\n",
    "  }\n",
    "  def map(f: Function1[Int, Int]): IList = this match {\n",
    "    case Cons(h, t) => Cons(f(h), t.map(f))\n",
    "    case End() => End()\n",
    "  }\n",
    "  def ++(other: IList): IList = this match {\n",
    "    case Cons(h, t) => Cons(h, t ++ other)\n",
    "    case End() => other\n",
    "  }\n",
    "}\n",
    "case class Cons(val head: Int, val tail: IList = End()) extends IList\n",
    "case class End() extends IList"
   ]
  },
  {
   "cell_type": "code",
   "execution_count": 70,
   "metadata": {},
   "outputs": [
    {
     "data": {
      "text/plain": [
       "\u001b[36mxs\u001b[39m: \u001b[32mCons\u001b[39m = \u001b[33mCons\u001b[39m(\u001b[32m1\u001b[39m, \u001b[33mCons\u001b[39m(\u001b[32m2\u001b[39m, End()))"
      ]
     },
     "execution_count": 70,
     "metadata": {},
     "output_type": "execute_result"
    }
   ],
   "source": [
    "val xs = Cons(1, Cons(2))"
   ]
  },
  {
   "cell_type": "markdown",
   "metadata": {},
   "source": [
    "* Variadic methods are great for certain situations like creating lists"
   ]
  },
  {
   "cell_type": "code",
   "execution_count": 73,
   "metadata": {},
   "outputs": [
    {
     "data": {
      "text/plain": [
       "defined \u001b[32mobject\u001b[39m \u001b[36mIList\u001b[39m"
      ]
     },
     "execution_count": 73,
     "metadata": {},
     "output_type": "execute_result"
    }
   ],
   "source": [
    "object IList {\n",
    "  def crear(xs: Int*): IList = {\n",
    "    if (xs.isEmpty) End()\n",
    "    else Cons(xs.head, crear(xs.tail:_*)) \n",
    "  }\n",
    "}"
   ]
  },
  {
   "cell_type": "code",
   "execution_count": 74,
   "metadata": {},
   "outputs": [
    {
     "data": {
      "text/plain": [
       "\u001b[36mres73\u001b[39m: \u001b[32mIList\u001b[39m = \u001b[33mCons\u001b[39m(\u001b[32m1\u001b[39m, \u001b[33mCons\u001b[39m(\u001b[32m2\u001b[39m, \u001b[33mCons\u001b[39m(\u001b[32m3\u001b[39m, \u001b[33mCons\u001b[39m(\u001b[32m4\u001b[39m, End()))))"
      ]
     },
     "execution_count": 74,
     "metadata": {},
     "output_type": "execute_result"
    }
   ],
   "source": [
    "IList.crear(1, 2, 3, 4)"
   ]
  },
  {
   "cell_type": "markdown",
   "metadata": {},
   "source": [
    "* If you use `apply` as a method name, it's applied automatically"
   ]
  },
  {
   "cell_type": "code",
   "execution_count": 76,
   "metadata": {},
   "outputs": [
    {
     "data": {
      "text/plain": [
       "defined \u001b[32mobject\u001b[39m \u001b[36mIList\u001b[39m"
      ]
     },
     "execution_count": 76,
     "metadata": {},
     "output_type": "execute_result"
    }
   ],
   "source": [
    "object IList {\n",
    "  def apply(xs: Int*): IList = {\n",
    "    if (xs.isEmpty) End()\n",
    "    else Cons(xs.head, apply(xs.tail:_*)) \n",
    "  }\n",
    "}"
   ]
  },
  {
   "cell_type": "code",
   "execution_count": 77,
   "metadata": {},
   "outputs": [
    {
     "data": {
      "text/plain": [
       "\u001b[36mres76\u001b[39m: \u001b[32mIList\u001b[39m = \u001b[33mCons\u001b[39m(\u001b[32m1\u001b[39m, \u001b[33mCons\u001b[39m(\u001b[32m2\u001b[39m, \u001b[33mCons\u001b[39m(\u001b[32m3\u001b[39m, \u001b[33mCons\u001b[39m(\u001b[32m4\u001b[39m, End()))))"
      ]
     },
     "execution_count": 77,
     "metadata": {},
     "output_type": "execute_result"
    }
   ],
   "source": [
    "IList(1, 2, 3, 4)"
   ]
  },
  {
   "cell_type": "markdown",
   "metadata": {},
   "source": [
    "* Scala deploys syntax to simplify the creation of Lambda Expressions "
   ]
  },
  {
   "cell_type": "code",
   "execution_count": 78,
   "metadata": {},
   "outputs": [
    {
     "data": {
      "text/plain": [
       "\u001b[36mincr\u001b[39m: \u001b[32mInt\u001b[39m => \u001b[32mInt\u001b[39m = <function1>"
      ]
     },
     "execution_count": 78,
     "metadata": {},
     "output_type": "execute_result"
    }
   ],
   "source": [
    "val incr: Function1[Int, Int] = new Function1[Int, Int] { def apply(i: Int): Int = i + 1 }"
   ]
  },
  {
   "cell_type": "code",
   "execution_count": 79,
   "metadata": {},
   "outputs": [
    {
     "data": {
      "text/plain": [
       "\u001b[36mincr\u001b[39m: \u001b[32mInt\u001b[39m => \u001b[32mInt\u001b[39m = ammonite.$sess.cmd78$Helper$$Lambda$3152/2088365499@27ace243"
      ]
     },
     "execution_count": 79,
     "metadata": {},
     "output_type": "execute_result"
    }
   ],
   "source": [
    "val incr: Int => Int = (i: Int) => i + 1"
   ]
  },
  {
   "cell_type": "code",
   "execution_count": 80,
   "metadata": {},
   "outputs": [
    {
     "data": {
      "text/plain": [
       "\u001b[36mincr\u001b[39m: \u001b[32mInt\u001b[39m => \u001b[32mInt\u001b[39m = ammonite.$sess.cmd79$Helper$$Lambda$3156/1798017984@50c76a02"
      ]
     },
     "execution_count": 80,
     "metadata": {},
     "output_type": "execute_result"
    }
   ],
   "source": [
    "val incr: Int => Int = i => i + 1"
   ]
  },
  {
   "cell_type": "code",
   "execution_count": 81,
   "metadata": {},
   "outputs": [
    {
     "data": {
      "text/plain": [
       "\u001b[36mincr\u001b[39m: \u001b[32mInt\u001b[39m => \u001b[32mInt\u001b[39m = ammonite.$sess.cmd80$Helper$$Lambda$3160/817636356@28ee2644"
      ]
     },
     "execution_count": 81,
     "metadata": {},
     "output_type": "execute_result"
    }
   ],
   "source": [
    "val incr: Int => Int = _ + 1"
   ]
  },
  {
   "cell_type": "code",
   "execution_count": 85,
   "metadata": {},
   "outputs": [
    {
     "data": {
      "text/plain": [
       "\u001b[36mxs\u001b[39m: \u001b[32mIList\u001b[39m = \u001b[33mCons\u001b[39m(\u001b[32m1\u001b[39m, \u001b[33mCons\u001b[39m(\u001b[32m2\u001b[39m, \u001b[33mCons\u001b[39m(\u001b[32m3\u001b[39m, \u001b[33mCons\u001b[39m(\u001b[32m4\u001b[39m, \u001b[33mCons\u001b[39m(\u001b[32m5\u001b[39m, End())))))\n",
       "\u001b[36mres84_1\u001b[39m: \u001b[32mIList\u001b[39m = \u001b[33mCons\u001b[39m(\u001b[32m2\u001b[39m, \u001b[33mCons\u001b[39m(\u001b[32m4\u001b[39m, \u001b[33mCons\u001b[39m(\u001b[32m6\u001b[39m, \u001b[33mCons\u001b[39m(\u001b[32m8\u001b[39m, \u001b[33mCons\u001b[39m(\u001b[32m10\u001b[39m, End())))))"
      ]
     },
     "execution_count": 85,
     "metadata": {},
     "output_type": "execute_result"
    }
   ],
   "source": [
    "val xs: IList = IList(1, 2, 3, 4, 5)\n",
    "xs.map(_ * 2)"
   ]
  },
  {
   "cell_type": "markdown",
   "metadata": {},
   "source": [
    "## Final Result"
   ]
  },
  {
   "cell_type": "code",
   "execution_count": 87,
   "metadata": {},
   "outputs": [
    {
     "data": {
      "text/plain": [
       "defined \u001b[32mclass\u001b[39m \u001b[36mIList\u001b[39m\n",
       "defined \u001b[32mclass\u001b[39m \u001b[36mCons\u001b[39m\n",
       "defined \u001b[32mclass\u001b[39m \u001b[36mEnd\u001b[39m\n",
       "defined \u001b[32mobject\u001b[39m \u001b[36mIList\u001b[39m"
      ]
     },
     "execution_count": 87,
     "metadata": {},
     "output_type": "execute_result"
    }
   ],
   "source": [
    "// IList is an Algebraic Data Type, made of Cons and End\n",
    "sealed abstract class IList {\n",
    "    \n",
    "  // Operators are available\n",
    "  def ::(h: Int): IList = Cons(h, this)\n",
    "    \n",
    "  // Pattern matching is very handy to deal with ADTs\n",
    "  def sum: Int = this match {\n",
    "    case Cons(h, t) => h + t.sum\n",
    "    case End() => 0\n",
    "  }\n",
    "    \n",
    "  // Functions can be passed as parameters\n",
    "  // `map` is a higher order function\n",
    "  def map(f: Int => Int): IList = this match {\n",
    "    case Cons(h, t) => Cons(f(h), t.map(f))\n",
    "    case End() => End()\n",
    "  }\n",
    "    \n",
    "  def ++(other: IList): IList = this match {\n",
    "    case Cons(h, t) => Cons(h, t ++ other)\n",
    "    case End() => other\n",
    "  }\n",
    "}\n",
    "\n",
    "// Case classes mitigate common boilerplate\n",
    "// Default parameters could be helpful\n",
    "case class Cons(val head: Int, val tail: IList = End()) extends IList\n",
    "case class End() extends IList\n",
    "\n",
    "object IList {\n",
    "  // Variadic arguments are idoneous as a list creator\n",
    "  def apply(xs: Int*): IList = {\n",
    "    if (xs.isEmpty) End()\n",
    "    else Cons(xs.head, apply(xs.tail:_*)) \n",
    "  }\n",
    "}"
   ]
  },
  {
   "cell_type": "markdown",
   "metadata": {},
   "source": [
    "## Takeaways\n",
    "\n",
    "* Functional programming is programming with pure functions\n",
    "* Algebraic data types are encoded as a \"sum\" of case clases\n",
    "* Functions are treated as first-class citizens. This enables so-called *higher order functions* (HOFs).\n",
    "* Syntactic sugar is convenient to dulcify expressions"
   ]
  },
  {
   "cell_type": "code",
   "execution_count": 88,
   "metadata": {},
   "outputs": [
    {
     "name": "stdout",
     "output_type": "stream",
     "text": [
      "Thank You!\n"
     ]
    }
   ],
   "source": [
    "println(\"Thank You!\")"
   ]
  },
  {
   "cell_type": "markdown",
   "metadata": {},
   "source": [
    "![Applause](misc/applause.gif)"
   ]
  },
  {
   "cell_type": "code",
   "execution_count": null,
   "metadata": {},
   "outputs": [],
   "source": []
  }
 ],
 "metadata": {
  "kernelspec": {
   "display_name": "Scala 2.12",
   "language": "scala",
   "name": "scala212"
  },
  "language_info": {
   "codemirror_mode": "text/x-scala",
   "file_extension": ".scala",
   "mimetype": "text/x-scala",
   "name": "scala",
   "nbconvert_exporter": "script",
   "version": "2.12.8"
  }
 },
 "nbformat": 4,
 "nbformat_minor": 2
}

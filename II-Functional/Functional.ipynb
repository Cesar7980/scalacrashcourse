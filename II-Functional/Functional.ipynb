{
 "cells": [
  {
   "cell_type": "markdown",
   "metadata": {},
   "source": [
    "# Funcional"
   ]
  },
  {
   "cell_type": "markdown",
   "metadata": {},
   "source": [
    "## 1. Crear estructura propia para poder trabajar con listas."
   ]
  },
  {
   "cell_type": "code",
   "execution_count": 12,
   "metadata": {},
   "outputs": [
    {
     "data": {
      "text/plain": [
       "defined \u001b[32mclass\u001b[39m \u001b[36mLista\u001b[39m\n",
       "defined \u001b[32mclass\u001b[39m \u001b[36mCons\u001b[39m\n",
       "defined \u001b[32mclass\u001b[39m \u001b[36mFin\u001b[39m"
      ]
     },
     "execution_count": 12,
     "metadata": {},
     "output_type": "execute_result"
    }
   ],
   "source": [
    "abstract class Lista\n",
    "class Cons(head: Int, tail: Lista) extends Lista\n",
    "class Fin() extends Lista"
   ]
  },
  {
   "cell_type": "code",
   "execution_count": 13,
   "metadata": {},
   "outputs": [
    {
     "data": {
      "text/plain": [
       "\u001b[36mres12\u001b[39m: \u001b[32mCons\u001b[39m = ammonite.$sess.cmd11$Helper$Cons@404e7d39"
      ]
     },
     "execution_count": 13,
     "metadata": {},
     "output_type": "execute_result"
    }
   ],
   "source": [
    "new Cons(1, new Cons(2, new Cons (3, new Fin())))"
   ]
  },
  {
   "cell_type": "markdown",
   "metadata": {},
   "source": [
    "## 2. Sellamos y cambiamos las clases por \"case\" clases"
   ]
  },
  {
   "cell_type": "code",
   "execution_count": 14,
   "metadata": {},
   "outputs": [
    {
     "data": {
      "text/plain": [
       "defined \u001b[32mclass\u001b[39m \u001b[36mLista\u001b[39m\n",
       "defined \u001b[32mclass\u001b[39m \u001b[36mCons\u001b[39m\n",
       "defined \u001b[32mclass\u001b[39m \u001b[36mFin\u001b[39m"
      ]
     },
     "execution_count": 14,
     "metadata": {},
     "output_type": "execute_result"
    }
   ],
   "source": [
    "sealed abstract class Lista\n",
    "case class Cons(head: Int, tail: Lista) extends Lista\n",
    "case class Fin() extends Lista"
   ]
  },
  {
   "cell_type": "code",
   "execution_count": 15,
   "metadata": {},
   "outputs": [
    {
     "data": {
      "text/plain": [
       "\u001b[36mres14\u001b[39m: \u001b[32mCons\u001b[39m = \u001b[33mCons\u001b[39m(\u001b[32m1\u001b[39m, \u001b[33mCons\u001b[39m(\u001b[32m2\u001b[39m, \u001b[33mCons\u001b[39m(\u001b[32m3\u001b[39m, Fin())))"
      ]
     },
     "execution_count": 15,
     "metadata": {},
     "output_type": "execute_result"
    }
   ],
   "source": [
    "Cons(1, Cons(2, Cons (3, Fin())))"
   ]
  },
  {
   "cell_type": "markdown",
   "metadata": {},
   "source": [
    "## 3. Añadimos un método para insertar un nuevo elemento en la lista (por la cabeza)"
   ]
  },
  {
   "cell_type": "code",
   "execution_count": 16,
   "metadata": {},
   "outputs": [
    {
     "data": {
      "text/plain": [
       "defined \u001b[32mclass\u001b[39m \u001b[36mLista\u001b[39m\n",
       "defined \u001b[32mclass\u001b[39m \u001b[36mCons\u001b[39m\n",
       "defined \u001b[32mclass\u001b[39m \u001b[36mFin\u001b[39m"
      ]
     },
     "execution_count": 16,
     "metadata": {},
     "output_type": "execute_result"
    }
   ],
   "source": [
    "sealed abstract class Lista{\n",
    "    def insertar(head: Int): Lista = new Cons(head, this)\n",
    "}\n",
    "case class Cons(head: Int, tail: Lista) extends Lista\n",
    "case class Fin() extends Lista"
   ]
  },
  {
   "cell_type": "code",
   "execution_count": 17,
   "metadata": {},
   "outputs": [
    {
     "data": {
      "text/plain": [
       "\u001b[36mres16\u001b[39m: \u001b[32mLista\u001b[39m = \u001b[33mCons\u001b[39m(\u001b[32m1\u001b[39m, \u001b[33mCons\u001b[39m(\u001b[32m2\u001b[39m, \u001b[33mCons\u001b[39m(\u001b[32m3\u001b[39m, Fin())))"
      ]
     },
     "execution_count": 17,
     "metadata": {},
     "output_type": "execute_result"
    }
   ],
   "source": [
    "Fin()\n",
    "  .insertar(3)\n",
    "  .insertar(2)\n",
    "  .insertar(1)"
   ]
  },
  {
   "cell_type": "markdown",
   "metadata": {},
   "source": [
    "## 4. Pattern matching. Añadimos el método `suma`, que suma todos los elementos de la lista, o devuelve 0 en caso de que la lista sea vacía."
   ]
  },
  {
   "cell_type": "code",
   "execution_count": 18,
   "metadata": {},
   "outputs": [
    {
     "data": {
      "text/plain": [
       "defined \u001b[32mclass\u001b[39m \u001b[36mLista\u001b[39m\n",
       "defined \u001b[32mclass\u001b[39m \u001b[36mCons\u001b[39m\n",
       "defined \u001b[32mclass\u001b[39m \u001b[36mFin\u001b[39m"
      ]
     },
     "execution_count": 18,
     "metadata": {},
     "output_type": "execute_result"
    }
   ],
   "source": [
    "sealed abstract class Lista{\n",
    "    def insertar(head: Int): Lista = new Cons(head, this)\n",
    "    def suma: Int = this match {\n",
    "      case Cons(head, tail) => head + tail.suma\n",
    "      case Fin() => 0\n",
    "    }\n",
    "  }\n",
    "case class Cons(head: Int, tail: Lista) extends Lista\n",
    "case class Fin() extends Lista"
   ]
  },
  {
   "cell_type": "code",
   "execution_count": 19,
   "metadata": {},
   "outputs": [
    {
     "data": {
      "text/plain": [
       "\u001b[36mres18\u001b[39m: \u001b[32mInt\u001b[39m = \u001b[32m6\u001b[39m"
      ]
     },
     "execution_count": 19,
     "metadata": {},
     "output_type": "execute_result"
    }
   ],
   "source": [
    "Cons(1, Cons(2, Cons (3, Fin()))).suma"
   ]
  },
  {
   "cell_type": "markdown",
   "metadata": {},
   "source": [
    "#### 5. Functions. Añadimos el método `map` que recibe una función (Function1[Int,Int]) para mapear todos los elementos de esta lista."
   ]
  },
  {
   "cell_type": "code",
   "execution_count": 20,
   "metadata": {},
   "outputs": [
    {
     "data": {
      "text/plain": [
       "defined \u001b[32mclass\u001b[39m \u001b[36mFunctionIntToInt\u001b[39m\n",
       "defined \u001b[32mtrait\u001b[39m \u001b[36mLista\u001b[39m\n",
       "defined \u001b[32mclass\u001b[39m \u001b[36mCons\u001b[39m\n",
       "defined \u001b[32mclass\u001b[39m \u001b[36mFin\u001b[39m\n",
       "\u001b[36mf\u001b[39m: \u001b[32mFunctionIntToInt\u001b[39m = ammonite.$sess.cmd19$Helper$$anon$1@30472c43"
      ]
     },
     "execution_count": 20,
     "metadata": {},
     "output_type": "execute_result"
    }
   ],
   "source": [
    "abstract class FunctionIntToInt{\n",
    "    def apply(i: Int): Int\n",
    "  }\n",
    "\n",
    "  sealed trait Lista {\n",
    "    def insertar(head: Int): Lista = new Cons(head, this)\n",
    "    def suma: Int = this match {\n",
    "      case Cons(head, tail) => head + tail.suma\n",
    "      case Fin() => 0\n",
    "    }\n",
    "    def map(f: FunctionIntToInt): Lista = this match {\n",
    "      case Cons(head, tail) => Cons(f.apply(head), tail.map(f))\n",
    "      case Fin() => Fin()\n",
    "    }\n",
    "  }\n",
    "  case class Cons(head: Int, tail: Lista) extends Lista\n",
    "  case class Fin() extends Lista\n",
    "\n",
    "val f = new FunctionIntToInt{\n",
    "    def apply(i: Int): Int = i + 1\n",
    "}"
   ]
  },
  {
   "cell_type": "code",
   "execution_count": 21,
   "metadata": {},
   "outputs": [
    {
     "data": {
      "text/plain": [
       "\u001b[36mres20\u001b[39m: \u001b[32mLista\u001b[39m = \u001b[33mCons\u001b[39m(\u001b[32m2\u001b[39m, \u001b[33mCons\u001b[39m(\u001b[32m3\u001b[39m, \u001b[33mCons\u001b[39m(\u001b[32m4\u001b[39m, Fin())))"
      ]
     },
     "execution_count": 21,
     "metadata": {},
     "output_type": "execute_result"
    }
   ],
   "source": [
    "Cons(1, Cons(2, Cons (3, Fin()))).map(f)"
   ]
  }
 ],
 "metadata": {
  "kernelspec": {
   "display_name": "Scala 2.12",
   "language": "scala",
   "name": "scala212"
  },
  "language_info": {
   "codemirror_mode": "text/x-scala",
   "file_extension": ".scala",
   "mimetype": "text/x-scala",
   "name": "scala",
   "nbconvert_exporter": "script",
   "version": "2.12.8"
  }
 },
 "nbformat": 4,
 "nbformat_minor": 2
}
